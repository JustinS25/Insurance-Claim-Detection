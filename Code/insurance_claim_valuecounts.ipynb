{
 "cells": [
  {
   "cell_type": "code",
   "execution_count": 1,
   "metadata": {},
   "outputs": [],
   "source": [
    "# Dependencies and Setup\n",
    "import pandas as pd\n",
    "import requests\n",
    "import matplotlib.pyplot as plt\n",
    "import numpy as np\n",
    "from scipy.stats import linregress"
   ]
  },
  {
   "cell_type": "code",
   "execution_count": 2,
   "metadata": {},
   "outputs": [
    {
     "data": {
      "text/html": [
       "<div>\n",
       "<style scoped>\n",
       "    .dataframe tbody tr th:only-of-type {\n",
       "        vertical-align: middle;\n",
       "    }\n",
       "\n",
       "    .dataframe tbody tr th {\n",
       "        vertical-align: top;\n",
       "    }\n",
       "\n",
       "    .dataframe thead th {\n",
       "        text-align: right;\n",
       "    }\n",
       "</style>\n",
       "<table border=\"1\" class=\"dataframe\">\n",
       "  <thead>\n",
       "    <tr style=\"text-align: right;\">\n",
       "      <th></th>\n",
       "      <th>TRANSACTION_ID</th>\n",
       "      <th>CUSTOMER_ID</th>\n",
       "      <th>POLICY_NUMBER</th>\n",
       "      <th>POLICY_EFFECTIVE_DATE</th>\n",
       "      <th>LOSS_DATE</th>\n",
       "      <th>REPORT_DATE</th>\n",
       "      <th>INSURANCE_TYPE</th>\n",
       "      <th>PREMIUM_AMOUNT</th>\n",
       "      <th>CLAIM_AMOUNT</th>\n",
       "      <th>CUSTOMER_NAME</th>\n",
       "      <th>...</th>\n",
       "      <th>VENDOR_ID</th>\n",
       "      <th>AGENT_NAME</th>\n",
       "      <th>DATE_OF_JOINING</th>\n",
       "      <th>EMPLOYEE CITY</th>\n",
       "      <th>EMPLOYEE STATE</th>\n",
       "      <th>EMPLOYEE POSTAL_CODE</th>\n",
       "      <th>VENDOR_NAME</th>\n",
       "      <th>VENDOR CITY</th>\n",
       "      <th>VENDOR STATE</th>\n",
       "      <th>VENDOR POSTAL_CODE</th>\n",
       "    </tr>\n",
       "  </thead>\n",
       "  <tbody>\n",
       "    <tr>\n",
       "      <th>0</th>\n",
       "      <td>TXN00000001</td>\n",
       "      <td>A00003822</td>\n",
       "      <td>PLC00008468</td>\n",
       "      <td>6/23/2015</td>\n",
       "      <td>5/16/2020</td>\n",
       "      <td>5/21/2020</td>\n",
       "      <td>Health</td>\n",
       "      <td>157.13</td>\n",
       "      <td>9000</td>\n",
       "      <td>Christopher Demarest</td>\n",
       "      <td>...</td>\n",
       "      <td>VNDR00556</td>\n",
       "      <td>Amy Wangler</td>\n",
       "      <td>1/6/1994</td>\n",
       "      <td>Nashville</td>\n",
       "      <td>TN</td>\n",
       "      <td>37217</td>\n",
       "      <td>Ramsey Inc</td>\n",
       "      <td>Panama City</td>\n",
       "      <td>FL</td>\n",
       "      <td>32405.0</td>\n",
       "    </tr>\n",
       "    <tr>\n",
       "      <th>1</th>\n",
       "      <td>TXN00000258</td>\n",
       "      <td>A00003072</td>\n",
       "      <td>PLC00008557</td>\n",
       "      <td>2/15/2014</td>\n",
       "      <td>5/27/2020</td>\n",
       "      <td>6/1/2020</td>\n",
       "      <td>Life</td>\n",
       "      <td>57.15</td>\n",
       "      <td>54000</td>\n",
       "      <td>Tommy Young</td>\n",
       "      <td>...</td>\n",
       "      <td>NaN</td>\n",
       "      <td>Amy Wangler</td>\n",
       "      <td>1/6/1994</td>\n",
       "      <td>Nashville</td>\n",
       "      <td>TN</td>\n",
       "      <td>37217</td>\n",
       "      <td>NaN</td>\n",
       "      <td>NaN</td>\n",
       "      <td>NaN</td>\n",
       "      <td>NaN</td>\n",
       "    </tr>\n",
       "    <tr>\n",
       "      <th>2</th>\n",
       "      <td>TXN00002428</td>\n",
       "      <td>A00001447</td>\n",
       "      <td>PLC00004391</td>\n",
       "      <td>1/30/2015</td>\n",
       "      <td>8/23/2020</td>\n",
       "      <td>8/28/2020</td>\n",
       "      <td>Life</td>\n",
       "      <td>65.06</td>\n",
       "      <td>13000</td>\n",
       "      <td>Kathy Keim</td>\n",
       "      <td>...</td>\n",
       "      <td>NaN</td>\n",
       "      <td>Amy Wangler</td>\n",
       "      <td>1/6/1994</td>\n",
       "      <td>Nashville</td>\n",
       "      <td>TN</td>\n",
       "      <td>37217</td>\n",
       "      <td>NaN</td>\n",
       "      <td>NaN</td>\n",
       "      <td>NaN</td>\n",
       "      <td>NaN</td>\n",
       "    </tr>\n",
       "    <tr>\n",
       "      <th>3</th>\n",
       "      <td>TXN00002811</td>\n",
       "      <td>A00001822</td>\n",
       "      <td>PLC00009369</td>\n",
       "      <td>8/22/2012</td>\n",
       "      <td>9/6/2020</td>\n",
       "      <td>9/11/2020</td>\n",
       "      <td>Life</td>\n",
       "      <td>87.16</td>\n",
       "      <td>42000</td>\n",
       "      <td>George Schmidt</td>\n",
       "      <td>...</td>\n",
       "      <td>NaN</td>\n",
       "      <td>Amy Wangler</td>\n",
       "      <td>1/6/1994</td>\n",
       "      <td>Nashville</td>\n",
       "      <td>TN</td>\n",
       "      <td>37217</td>\n",
       "      <td>NaN</td>\n",
       "      <td>NaN</td>\n",
       "      <td>NaN</td>\n",
       "      <td>NaN</td>\n",
       "    </tr>\n",
       "    <tr>\n",
       "      <th>4</th>\n",
       "      <td>TXN00002861</td>\n",
       "      <td>A00006019</td>\n",
       "      <td>PLC00006747</td>\n",
       "      <td>2/5/2017</td>\n",
       "      <td>9/14/2020</td>\n",
       "      <td>9/17/2020</td>\n",
       "      <td>Mobile</td>\n",
       "      <td>11.85</td>\n",
       "      <td>500</td>\n",
       "      <td>Allan Baumeister</td>\n",
       "      <td>...</td>\n",
       "      <td>VNDR00344</td>\n",
       "      <td>Amy Wangler</td>\n",
       "      <td>1/6/1994</td>\n",
       "      <td>Nashville</td>\n",
       "      <td>TN</td>\n",
       "      <td>37217</td>\n",
       "      <td>Lewis Ltd</td>\n",
       "      <td>Montgomery</td>\n",
       "      <td>AL</td>\n",
       "      <td>36104.0</td>\n",
       "    </tr>\n",
       "  </tbody>\n",
       "</table>\n",
       "<p>5 rows × 41 columns</p>\n",
       "</div>"
      ],
      "text/plain": [
       "  TRANSACTION_ID CUSTOMER_ID POLICY_NUMBER POLICY_EFFECTIVE_DATE  LOSS_DATE  \\\n",
       "0    TXN00000001   A00003822   PLC00008468             6/23/2015  5/16/2020   \n",
       "1    TXN00000258   A00003072   PLC00008557             2/15/2014  5/27/2020   \n",
       "2    TXN00002428   A00001447   PLC00004391             1/30/2015  8/23/2020   \n",
       "3    TXN00002811   A00001822   PLC00009369             8/22/2012   9/6/2020   \n",
       "4    TXN00002861   A00006019   PLC00006747              2/5/2017  9/14/2020   \n",
       "\n",
       "  REPORT_DATE INSURANCE_TYPE  PREMIUM_AMOUNT  CLAIM_AMOUNT  \\\n",
       "0   5/21/2020         Health          157.13          9000   \n",
       "1    6/1/2020           Life           57.15         54000   \n",
       "2   8/28/2020           Life           65.06         13000   \n",
       "3   9/11/2020           Life           87.16         42000   \n",
       "4   9/17/2020         Mobile           11.85           500   \n",
       "\n",
       "          CUSTOMER_NAME  ...  VENDOR_ID   AGENT_NAME  DATE_OF_JOINING  \\\n",
       "0  Christopher Demarest  ...  VNDR00556  Amy Wangler         1/6/1994   \n",
       "1           Tommy Young  ...        NaN  Amy Wangler         1/6/1994   \n",
       "2            Kathy Keim  ...        NaN  Amy Wangler         1/6/1994   \n",
       "3        George Schmidt  ...        NaN  Amy Wangler         1/6/1994   \n",
       "4      Allan Baumeister  ...  VNDR00344  Amy Wangler         1/6/1994   \n",
       "\n",
       "  EMPLOYEE CITY  EMPLOYEE STATE  EMPLOYEE POSTAL_CODE VENDOR_NAME  \\\n",
       "0     Nashville              TN                 37217  Ramsey Inc   \n",
       "1     Nashville              TN                 37217         NaN   \n",
       "2     Nashville              TN                 37217         NaN   \n",
       "3     Nashville              TN                 37217         NaN   \n",
       "4     Nashville              TN                 37217   Lewis Ltd   \n",
       "\n",
       "   VENDOR CITY VENDOR STATE VENDOR POSTAL_CODE  \n",
       "0  Panama City           FL            32405.0  \n",
       "1          NaN          NaN                NaN  \n",
       "2          NaN          NaN                NaN  \n",
       "3          NaN          NaN                NaN  \n",
       "4   Montgomery           AL            36104.0  \n",
       "\n",
       "[5 rows x 41 columns]"
      ]
     },
     "execution_count": 2,
     "metadata": {},
     "output_type": "execute_result"
    }
   ],
   "source": [
    "# Read in merged csv file and display data\n",
    "ins_claim_fraud = pd.read_csv(\"CSV Files/insurance_claims_data.csv\")\n",
    "ins_claim_fraud.head()"
   ]
  },
  {
   "cell_type": "code",
   "execution_count": 3,
   "metadata": {},
   "outputs": [
    {
     "data": {
      "text/html": [
       "<div>\n",
       "<style scoped>\n",
       "    .dataframe tbody tr th:only-of-type {\n",
       "        vertical-align: middle;\n",
       "    }\n",
       "\n",
       "    .dataframe tbody tr th {\n",
       "        vertical-align: top;\n",
       "    }\n",
       "\n",
       "    .dataframe thead th {\n",
       "        text-align: right;\n",
       "    }\n",
       "</style>\n",
       "<table border=\"1\" class=\"dataframe\">\n",
       "  <thead>\n",
       "    <tr style=\"text-align: right;\">\n",
       "      <th></th>\n",
       "      <th>TRANSACTION_ID</th>\n",
       "      <th>CUSTOMER_ID</th>\n",
       "      <th>POLICY_NUMBER</th>\n",
       "      <th>POLICY_EFFECTIVE_DATE</th>\n",
       "      <th>LOSS_DATE</th>\n",
       "      <th>REPORT_DATE</th>\n",
       "      <th>INSURANCE_TYPE</th>\n",
       "      <th>PREMIUM_AMOUNT</th>\n",
       "      <th>CLAIM_AMOUNT</th>\n",
       "      <th>CUSTOMER_NAME</th>\n",
       "      <th>...</th>\n",
       "      <th>VENDOR_ID</th>\n",
       "      <th>AGENT_NAME</th>\n",
       "      <th>DATE_OF_JOINING</th>\n",
       "      <th>EMPLOYEE CITY</th>\n",
       "      <th>EMPLOYEE STATE</th>\n",
       "      <th>EMPLOYEE POSTAL_CODE</th>\n",
       "      <th>VENDOR_NAME</th>\n",
       "      <th>VENDOR CITY</th>\n",
       "      <th>VENDOR STATE</th>\n",
       "      <th>VENDOR POSTAL_CODE</th>\n",
       "    </tr>\n",
       "  </thead>\n",
       "  <tbody>\n",
       "    <tr>\n",
       "      <th>9995</th>\n",
       "      <td>TXN00008381</td>\n",
       "      <td>A00006144</td>\n",
       "      <td>PLC00005140</td>\n",
       "      <td>10/23/2012</td>\n",
       "      <td>4/15/2021</td>\n",
       "      <td>4/20/2021</td>\n",
       "      <td>Life</td>\n",
       "      <td>64.16</td>\n",
       "      <td>93000</td>\n",
       "      <td>Ana Garcia</td>\n",
       "      <td>...</td>\n",
       "      <td>VNDR00378</td>\n",
       "      <td>Angel Alexander</td>\n",
       "      <td>8/26/2012</td>\n",
       "      <td>Manchester</td>\n",
       "      <td>CT</td>\n",
       "      <td>6040</td>\n",
       "      <td>Reed, Bartlett and Miles</td>\n",
       "      <td>Savannah</td>\n",
       "      <td>GA</td>\n",
       "      <td>31401.0</td>\n",
       "    </tr>\n",
       "    <tr>\n",
       "      <th>9996</th>\n",
       "      <td>TXN00008462</td>\n",
       "      <td>A00004250</td>\n",
       "      <td>PLC00009507</td>\n",
       "      <td>8/30/2019</td>\n",
       "      <td>4/20/2021</td>\n",
       "      <td>4/25/2021</td>\n",
       "      <td>Mobile</td>\n",
       "      <td>9.76</td>\n",
       "      <td>300</td>\n",
       "      <td>Roy Sipp</td>\n",
       "      <td>...</td>\n",
       "      <td>NaN</td>\n",
       "      <td>Angel Alexander</td>\n",
       "      <td>8/26/2012</td>\n",
       "      <td>Manchester</td>\n",
       "      <td>CT</td>\n",
       "      <td>6040</td>\n",
       "      <td>NaN</td>\n",
       "      <td>NaN</td>\n",
       "      <td>NaN</td>\n",
       "      <td>NaN</td>\n",
       "    </tr>\n",
       "    <tr>\n",
       "      <th>9997</th>\n",
       "      <td>TXN00009410</td>\n",
       "      <td>A00004412</td>\n",
       "      <td>PLC00005536</td>\n",
       "      <td>11/25/2019</td>\n",
       "      <td>6/5/2021</td>\n",
       "      <td>6/5/2021</td>\n",
       "      <td>Motor</td>\n",
       "      <td>97.78</td>\n",
       "      <td>3000</td>\n",
       "      <td>Josephine Williams</td>\n",
       "      <td>...</td>\n",
       "      <td>VNDR00580</td>\n",
       "      <td>Angel Alexander</td>\n",
       "      <td>8/26/2012</td>\n",
       "      <td>Manchester</td>\n",
       "      <td>CT</td>\n",
       "      <td>6040</td>\n",
       "      <td>Dennis LLC</td>\n",
       "      <td>Nashville</td>\n",
       "      <td>TN</td>\n",
       "      <td>37207.0</td>\n",
       "    </tr>\n",
       "    <tr>\n",
       "      <th>9998</th>\n",
       "      <td>TXN00009756</td>\n",
       "      <td>A00003267</td>\n",
       "      <td>PLC00007273</td>\n",
       "      <td>9/29/2012</td>\n",
       "      <td>6/1/2021</td>\n",
       "      <td>6/6/2021</td>\n",
       "      <td>Mobile</td>\n",
       "      <td>7.64</td>\n",
       "      <td>200</td>\n",
       "      <td>Daniel Benninger</td>\n",
       "      <td>...</td>\n",
       "      <td>VNDR00383</td>\n",
       "      <td>Angel Alexander</td>\n",
       "      <td>8/26/2012</td>\n",
       "      <td>Manchester</td>\n",
       "      <td>CT</td>\n",
       "      <td>6040</td>\n",
       "      <td>Dawson, Taylor and Chavez</td>\n",
       "      <td>Norwood</td>\n",
       "      <td>MA</td>\n",
       "      <td>2062.0</td>\n",
       "    </tr>\n",
       "    <tr>\n",
       "      <th>9999</th>\n",
       "      <td>TXN00008671</td>\n",
       "      <td>A00006937</td>\n",
       "      <td>PLC00007149</td>\n",
       "      <td>1/11/2016</td>\n",
       "      <td>5/8/2021</td>\n",
       "      <td>5/8/2021</td>\n",
       "      <td>Life</td>\n",
       "      <td>73.51</td>\n",
       "      <td>49000</td>\n",
       "      <td>Frances Clark</td>\n",
       "      <td>...</td>\n",
       "      <td>NaN</td>\n",
       "      <td>Charlotte Payne</td>\n",
       "      <td>10/12/2012</td>\n",
       "      <td>Manchester</td>\n",
       "      <td>CT</td>\n",
       "      <td>6040</td>\n",
       "      <td>NaN</td>\n",
       "      <td>NaN</td>\n",
       "      <td>NaN</td>\n",
       "      <td>NaN</td>\n",
       "    </tr>\n",
       "  </tbody>\n",
       "</table>\n",
       "<p>5 rows × 41 columns</p>\n",
       "</div>"
      ],
      "text/plain": [
       "     TRANSACTION_ID CUSTOMER_ID POLICY_NUMBER POLICY_EFFECTIVE_DATE  \\\n",
       "9995    TXN00008381   A00006144   PLC00005140            10/23/2012   \n",
       "9996    TXN00008462   A00004250   PLC00009507             8/30/2019   \n",
       "9997    TXN00009410   A00004412   PLC00005536            11/25/2019   \n",
       "9998    TXN00009756   A00003267   PLC00007273             9/29/2012   \n",
       "9999    TXN00008671   A00006937   PLC00007149             1/11/2016   \n",
       "\n",
       "      LOSS_DATE REPORT_DATE INSURANCE_TYPE  PREMIUM_AMOUNT  CLAIM_AMOUNT  \\\n",
       "9995  4/15/2021   4/20/2021           Life           64.16         93000   \n",
       "9996  4/20/2021   4/25/2021         Mobile            9.76           300   \n",
       "9997   6/5/2021    6/5/2021          Motor           97.78          3000   \n",
       "9998   6/1/2021    6/6/2021         Mobile            7.64           200   \n",
       "9999   5/8/2021    5/8/2021           Life           73.51         49000   \n",
       "\n",
       "           CUSTOMER_NAME  ...  VENDOR_ID       AGENT_NAME  DATE_OF_JOINING  \\\n",
       "9995          Ana Garcia  ...  VNDR00378  Angel Alexander        8/26/2012   \n",
       "9996            Roy Sipp  ...        NaN  Angel Alexander        8/26/2012   \n",
       "9997  Josephine Williams  ...  VNDR00580  Angel Alexander        8/26/2012   \n",
       "9998    Daniel Benninger  ...  VNDR00383  Angel Alexander        8/26/2012   \n",
       "9999       Frances Clark  ...        NaN  Charlotte Payne       10/12/2012   \n",
       "\n",
       "     EMPLOYEE CITY  EMPLOYEE STATE  EMPLOYEE POSTAL_CODE  \\\n",
       "9995    Manchester              CT                  6040   \n",
       "9996    Manchester              CT                  6040   \n",
       "9997    Manchester              CT                  6040   \n",
       "9998    Manchester              CT                  6040   \n",
       "9999    Manchester              CT                  6040   \n",
       "\n",
       "                    VENDOR_NAME  VENDOR CITY VENDOR STATE VENDOR POSTAL_CODE  \n",
       "9995   Reed, Bartlett and Miles     Savannah           GA            31401.0  \n",
       "9996                        NaN          NaN          NaN                NaN  \n",
       "9997                 Dennis LLC    Nashville           TN            37207.0  \n",
       "9998  Dawson, Taylor and Chavez      Norwood           MA             2062.0  \n",
       "9999                        NaN          NaN          NaN                NaN  \n",
       "\n",
       "[5 rows x 41 columns]"
      ]
     },
     "execution_count": 3,
     "metadata": {},
     "output_type": "execute_result"
    }
   ],
   "source": [
    "# Display last 5 rows in csv\n",
    "ins_claim_fraud.tail()"
   ]
  },
  {
   "cell_type": "code",
   "execution_count": 4,
   "metadata": {},
   "outputs": [
    {
     "data": {
      "text/plain": [
       "407"
      ]
     },
     "execution_count": 4,
     "metadata": {},
     "output_type": "execute_result"
    }
   ],
   "source": [
    "incident_cities_unique = len(ins_claim_fraud[\"INCIDENT_CITY\"].unique())\n",
    "incident_cities_unique"
   ]
  },
  {
   "cell_type": "code",
   "execution_count": 5,
   "metadata": {},
   "outputs": [
    {
     "data": {
      "text/plain": [
       "INCIDENT_CITY\n",
       "Manchester    606\n",
       "Washington    594\n",
       "Montgomery    584\n",
       "Glendale      582\n",
       "Arvada        558\n",
       "             ... \n",
       "Soquel          1\n",
       "Fair Haven      1\n",
       "East Haven      1\n",
       "Norwood         1\n",
       "Longmeadow      1\n",
       "Name: count, Length: 406, dtype: int64"
      ]
     },
     "execution_count": 5,
     "metadata": {},
     "output_type": "execute_result"
    }
   ],
   "source": [
    "incident_count = ins_claim_fraud[\"INCIDENT_CITY\"].value_counts()\n",
    "incident_count"
   ]
  },
  {
   "cell_type": "code",
   "execution_count": 6,
   "metadata": {},
   "outputs": [
    {
     "data": {
      "text/plain": [
       "16"
      ]
     },
     "execution_count": 6,
     "metadata": {},
     "output_type": "execute_result"
    }
   ],
   "source": [
    "incident_state_unique = len(ins_claim_fraud[\"INCIDENT_STATE\"].unique())\n",
    "incident_state_unique"
   ]
  },
  {
   "cell_type": "code",
   "execution_count": 7,
   "metadata": {},
   "outputs": [
    {
     "data": {
      "text/plain": [
       "INCIDENT_STATE\n",
       "CA    1048\n",
       "CO     707\n",
       "FL     689\n",
       "AZ     637\n",
       "CT     619\n",
       "AL     612\n",
       "MD     597\n",
       "GA     592\n",
       "DC     587\n",
       "OK     582\n",
       "AR     581\n",
       "TN     581\n",
       "MA     576\n",
       "KY     536\n",
       "AK     529\n",
       "VT     527\n",
       "Name: count, dtype: int64"
      ]
     },
     "execution_count": 7,
     "metadata": {},
     "output_type": "execute_result"
    }
   ],
   "source": [
    "incident_state_count = ins_claim_fraud[\"INCIDENT_STATE\"].value_counts()\n",
    "incident_state_count"
   ]
  },
  {
   "cell_type": "code",
   "execution_count": 8,
   "metadata": {},
   "outputs": [
    {
     "data": {
      "image/png": "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",
      "text/plain": [
       "<Figure size 640x480 with 1 Axes>"
      ]
     },
     "metadata": {},
     "output_type": "display_data"
    }
   ],
   "source": [
    "# Incident State Pie Chart\n",
    "\n",
    "colors = ['darkolivegreen', 'darkgoldenrod', 'green', 'darkkhaki', 'olivedrab', 'goldenrod']\n",
    "incident_state_count.plot(kind=\"pie\", colors=colors, autopct= \"%1.1f%%\")\n",
    "plt.title(\"Incidents Per State\")\n",
    "plt.ylabel(\"\")\n",
    "plt.show()"
   ]
  },
  {
   "cell_type": "markdown",
   "metadata": {},
   "source": [
    "We can see from the above pie chart than over 1/10th of the insurance fraud data came from California"
   ]
  },
  {
   "cell_type": "code",
   "execution_count": 9,
   "metadata": {},
   "outputs": [
    {
     "data": {
      "text/plain": [
       "24"
      ]
     },
     "execution_count": 9,
     "metadata": {},
     "output_type": "execute_result"
    }
   ],
   "source": [
    "incident_hour_unique = len(ins_claim_fraud[\"INCIDENT_HOUR_OF_THE_DAY\"].unique())\n",
    "incident_hour_unique"
   ]
  },
  {
   "cell_type": "code",
<<<<<<< HEAD
<<<<<<< HEAD
   "execution_count": 45,
=======
   "execution_count": 291,
>>>>>>> a7007439983845820796e4be5ab5fe9a887899f2
=======
   "execution_count": 10,
>>>>>>> 2eb3fb25d3da2720856cae718ec726279d514a06
   "metadata": {},
   "outputs": [
    {
     "data": {
      "text/plain": [
       "INCIDENT_HOUR_OF_THE_DAY\n",
       "15    462\n",
       "6     461\n",
       "18    445\n",
       "17    441\n",
       "22    440\n",
       "10    436\n",
       "5     434\n",
       "19    430\n",
       "9     414\n",
       "14    413\n",
       "16    411\n",
       "11    411\n",
       "13    409\n",
       "21    404\n",
       "0     404\n",
       "2     403\n",
       "8     403\n",
       "20    402\n",
       "4     402\n",
       "12    402\n",
       "23    401\n",
       "3     395\n",
       "7     394\n",
       "1     383\n",
       "Name: count, dtype: int64"
      ]
     },
<<<<<<< HEAD
<<<<<<< HEAD
     "execution_count": 45,
=======
     "execution_count": 291,
>>>>>>> a7007439983845820796e4be5ab5fe9a887899f2
=======
     "execution_count": 10,
>>>>>>> 2eb3fb25d3da2720856cae718ec726279d514a06
     "metadata": {},
     "output_type": "execute_result"
    }
   ],
   "source": [
    "# Shows incident count for each hour of the day\n",
    "incident_hour_count = ins_claim_fraud[\"INCIDENT_HOUR_OF_THE_DAY\"].value_counts()\n",
    "incident_hour_count"
   ]
  },
  {
   "cell_type": "code",
   "execution_count": 11,
   "metadata": {},
   "outputs": [
    {
     "data": {
      "text/plain": [
       "404"
      ]
     },
     "execution_count": 11,
     "metadata": {},
     "output_type": "execute_result"
    }
   ],
   "source": [
    "vender_unique = len(ins_claim_fraud[\"VENDOR_NAME\"].unique())\n",
    "vender_unique"
   ]
  },
  {
   "cell_type": "code",
   "execution_count": 12,
   "metadata": {},
   "outputs": [
    {
     "data": {
      "text/plain": [
       "VENDOR_NAME\n",
       "Thompson Inc                      38\n",
       "Anderson Inc                      35\n",
       "Garcia PLC                        31\n",
       "Hill LLC                          31\n",
       "Hicks, Patton and Cook            28\n",
       "                                  ..\n",
       "Ortega-Michael                     9\n",
       "Johnson, Hernandez and Mcguire     9\n",
       "Watkins Inc                        9\n",
       "Knight-Ortiz                       8\n",
       "Miller, Perez and Cannon           6\n",
       "Name: count, Length: 403, dtype: int64"
      ]
     },
     "execution_count": 12,
     "metadata": {},
     "output_type": "execute_result"
    }
   ],
   "source": [
    "vender_count = ins_claim_fraud[\"VENDOR_NAME\"].value_counts()\n",
    "vender_count"
   ]
  },
  {
   "cell_type": "code",
   "execution_count": 13,
   "metadata": {},
   "outputs": [
    {
     "data": {
      "text/plain": [
       "POLICE_REPORT_AVAILABLE\n",
       "1    6928\n",
       "0    3072\n",
       "Name: count, dtype: int64"
      ]
     },
     "execution_count": 13,
     "metadata": {},
     "output_type": "execute_result"
    }
   ],
   "source": [
    "police_rep_count = ins_claim_fraud[\"POLICE_REPORT_AVAILABLE\"].value_counts()\n",
    "police_rep_count"
   ]
  },
  {
   "cell_type": "code",
   "execution_count": 14,
   "metadata": {},
   "outputs": [
    {
     "data": {
      "image/png": "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",
      "text/plain": [
       "<Figure size 640x480 with 1 Axes>"
      ]
     },
     "metadata": {},
     "output_type": "display_data"
    }
   ],
   "source": [
    "# Pie chart to show if police report exists\n",
    "colors = ['blue', 'skyblue']\n",
    "labels = ['Police Report', 'Not Reported']\n",
    "police_rep_count.plot(kind=\"pie\", colors=colors, labels = labels, autopct= \"%1.2f%%\")\n",
    "plt.ylabel(\"Police Report\")\n",
    "plt.show()"
   ]
  },
  {
   "cell_type": "code",
   "execution_count": 15,
   "metadata": {},
   "outputs": [
    {
     "data": {
      "text/plain": [
       "ANY_INJURY\n",
       "1    6991\n",
       "0    3009\n",
       "Name: count, dtype: int64"
      ]
     },
     "execution_count": 15,
     "metadata": {},
     "output_type": "execute_result"
    }
   ],
   "source": [
    "injury_count = ins_claim_fraud[\"ANY_INJURY\"].value_counts()\n",
    "injury_count"
   ]
  },
  {
   "cell_type": "code",
   "execution_count": 16,
   "metadata": {},
   "outputs": [
    {
     "data": {
      "image/png": "iVBORw0KGgoAAAANSUhEUgAAAZkAAAGFCAYAAAAvsY4uAAAAOXRFWHRTb2Z0d2FyZQBNYXRwbG90bGliIHZlcnNpb24zLjcuMiwgaHR0cHM6Ly9tYXRwbG90bGliLm9yZy8pXeV/AAAACXBIWXMAAA9hAAAPYQGoP6dpAAA4WklEQVR4nO3deVxU5eI/8M+w7zuIuIEsKqKiYmDuK2lqkn4VtYUsLVu1ut1+ZenVsmzTllt6b9dcupWmXTVTS1FTXFAoEHdRcQMF2fdl5vz+GCRRERjmzDNz5vPmxUsYZs58QJ0P5znPeY5KkiQJREREMrAQHYCIiJSLJUNERLJhyRARkWxYMkREJBuWDBERyYYlQ0REsmHJEBGRbFgyREQkG5YMERHJhiVDRESyYckQEZFsWDJERCQblgwREcmGJUNERLJhyRARkWxYMkREJBuWDBERyYYlQ0REsmHJEBGRbFgyREQkG5YMERHJhiVDRESyYckQEZFsWDJERCQblgwREcmGJUNERLJhyRARkWxYMkREJBuWDBERyYYlQ0REsmHJEBGRbFgyREQkG5YMERHJhiVDRESyYckQEZFsWDJERCQblgwREcmGJUNERLJhyRARkWxYMkREJBuWDBERyYYlQ0REsmHJEBGRbFgyREQkG5YMERHJxkp0ACJjJkkSKvIrUJpdirIbZSjPL0dFfgUqCipQnl+O6tJqaNQaSBrpnu8WlhawdbGFnZsd7NzsYOv618d2rnZ1H9s420ClUon+ton0hiVDZq/oahFyz+Qi72wecs9q/yy8WIjS7FKU5pRCU60xWBYLawu4tneFe4A73Dq6wT3AHe4d3eEWoP3YwcvBYFmI9EElSZIkOgSR3DQ1Glw/eh3Xj17XFsmZ2kJJz0N1abXoeE1m42wD9wB3eAR5wLenL1r3bg2/CD84ejuKjkZ0VywZUqSiK0W4cugKrhy6gquJV5GZnIma8hrRsWTj0s4FfhF+daXj19uPez1kFFgyZPJqKmuQeSQTlw9extVDV3El8QqKrxaLjiWcawdXtI1si4BhAQiMDoRbBzfRkcgMsWTIJBVeLsTZrWdx9pezuLDrgkkNeYniEeyBwJGBCBwZCP8h/rB1thUdicwAS4ZMgqZGg8sHLuPML2eQvjUd2ceyRUcyaRbWFmgb1RYdR3RE4MhAtOnTBioLzmoj/WPJkNGqLKrEqY2ncGbLGZzfcR4VBRWiIymWk68TQieFotvUbmgb2VZ0HFIQlgwZFU2NBud+O4fU1ak4vfm0og/WGyv3ju7oGtsV3aZ0g0+Yj+g4ZOJYMmQUsv7MQurqVBz7/hhKr5eKjkO1fMJ8EDYlDGFTwuAe4C46Dpkgloye+fv7Y/bs2Zg9e7bBn3vPnj0YMmQI8vPz4ebmZvDnb67izGIc/fYojq45ymMsJqBtVFv0fqY3wmLDYGXL87ipaVgyjYiLi0NBQQE2btzYpPvn5OTA0dERDg6GP0fBVErmwq4LOLTkEM5uPQtJw39+psbB2wG9Z/ZGxKwIuLRxER2HjBx/HdEzb2/vFj1ekiSo1WpYWSnrr0Zdrcax74/h0JJDuJZyTXQcaoGynDLse3cf9i/ej84xnRH5YiTa928vOhYZKa7C3AyDBw/Giy++iNdeew0eHh7w9fXF/Pnz693H398fS5cuBQBkZGRApVIhJSWl7usFBQVQqVTYs2cPAO3eh0qlwq+//oqIiAjY2tpi3759kCQJH3zwATp27Ah7e3v06NED69evr/dcW7duRUhICOzt7TFkyBBkZGTI983rqDyvHPsW7cOn/p9i4+MbWTAKoqnR4MSPJ/DNgG+wvOdy/LniT9RUcKIG1aesX5cNYNWqVXj55ZeRmJiIgwcPIi4uDv369cOIESNatN3XXnsNH330ETp27Ag3NzfMnTsXP/30E7766isEBwdj7969eOSRR+Dt7Y1Bgwbh8uXLePjhh/HMM89g1qxZSEpKwiuvvKKn77Llcs/m4tCSQ0hdlYrqMp4oqXTXUq5h85ObseO1HbjvhfsQ9VIU7NzsRMciI8CSaabu3btj3rx5AIDg4GB88cUXiI+Pb3HJLFiwoG4bpaWl+OSTT7Br1y707dsXANCxY0ckJCRg+fLlGDRoEL766it07NgRS5YsgUqlQqdOnZCWlobFixe37BtsoZwTOdj91m6c2niKx1vMUHluOX6f/zsOLTmEyJci0XdOX5aNmWPJNFP37t3rfd66dWtkZ7d8ZlRERETdxydOnEBFRcUdxVVVVYWePXsCAE6ePImoqKh61x65WUgiFFwswJ55e3B0zVGWC6GysBJ7F+xF4qeJiHwxEn1f6Qs7V5aNOWLJNJO1tXW9z1UqFTSau19vxMJCe8jr1gl81dV3HzpydPxrqfab2/vll1/Qpk2beveztbW9Y5sileaUYu87e5G8LBnqKrXoOGRkKgsrsXfhXhz55xHc/9r9iHwxEtb21o0/kBSDJSOjmzPNsrKy6vZAbp0E0JDQ0FDY2tri0qVLGDRoUIP3uX1a9aFDh1qUtzkqiytx4KMDOPTJIVSVVBnseck0leeVI/71eCR+moiBcwei14xesLS2FB2LDIAlIyN7e3tERUXh/fffh7+/P27cuIG5c+c2+jhnZ2e8+uqrmDNnDjQaDfr374+ioiIcOHAATk5OePzxx/HMM8/g448/xssvv4ynn34aycnJWLlypezfU01lDY58eQQJixJQdqNM9ucjZSnJKsHW57bi8OeHMeqLUeg4rKPoSCQzTmGW2YoVK1BdXY2IiAi89NJLeOedd5r0uIULF+Ltt9/Ge++9hy5duiA6Oho///wzAgICAADt27fHhg0b8PPPP6NHjx5YtmwZFi1aJOe3gvRf0/Fl6Jf47eXfWDDUIjdO3cCa4WuwfvJ6FF0tEh2HZMQz/vWsdevWWLhwIZ566inRUfSm5FoJts/ejuNrj4uOQgpk42SDgW8PRNTsKA6hKRBLRk/Kysqwf/9+REdHY//+/UJneumLpJGQtCwJ8W/Eo7KwUnQcUjjvUG+M+mIUAoYEiI5CesSS0ZOlS5di4cKFePzxx/HJJ5+IjtNi11KvYcvTW3A18aroKGRmwmLDMPLjkXD2cxYdhfSAJUP1VJVWYc+8PUj8NBGamrtPzSaSm42zDaKXRKPXk71ER6EWYslQnfM7z2Pzk5tReKlQdBQiAEDn8Z0x9t9j4eBl+FXNST9YMoSayhrsfH0nEj9NBPivgYyMk68Txv1nHIJHB4uOQjpgyZi562nX8dO0n5CdxouGkXGLmBWBkR+NhLUDVwwwJSwZM5b4eSJ2/G0H1JVcDoZMg2eIJ2K+jUGbPm0avzMZBZaMGSrPK8em6ZtwetNp0VGIms3CygID3x6IAW8MgIUlzyc3diwZM3Np/yVsmLIBRZd5ljWZtoChAZi4biIcPDkpwJixZMzIgY8PIP71eE5NJsVw83fD5I2T4dvDV3QUagBLxgyoq9TY8vQWpKxMER2FSO+sHawxbsU4hE0OEx2F7oIlo3ClOaVY9/A6XEq4JDoKkaz6/b0fhi0aBpWFqvE7k8GwZBTsetp1/DDuBxRkFIiOQmQQQQ8EYcL3E3jJZyPCklGoM1vOYMPUDagq5gXFyLx4BHsgdmMsvEO9RUchsGQUaf+H+xH/ejwkDf9qyTzZONtg0vpJCBwZKDqK2WPJKIi6So2fZ/6M1FWpoqMQCWdpY4mYNTHoOqmr6ChmjSWjENXl1Vgbsxbnfj0nOgqR0VBZqDD6y9GIeDpCdBSzxZJRgKqSKnw35jtc/P2i6ChERmnou0Mx4I0BomOYJZaMiasoqMC3D3zLi4sRNaLvK30x4sMRUKk4xdmQWDImrDSnFN+O/BbXUq6JjkJkEsKfCMfYf4/lmmcGxJIxUcWZxVg9fDVunLwhOgqRSek8vjMm/DABVrZWoqOYBZaMCSq4WIDVw1Yj/1y+6ChEJilwZCBiN8eyaAyA+4wmJvdsLr4Z8A0LhqgFzv12DhumbIBGzcVi5caSMSFFV4qwethqLtNPpAen/ncKm6dvBgdz5MWSMRHleeVYM3INC4ZIj1JXp2LbC9tEx1A0lowJqC6rxncPfseD/EQyOPLPI4h/M150DMViyRg5TY0G6yauw5VDV0RHIVKshEUJ2P/BftExFIklY8QkScKmJzYhfVu66ChEirfz7zuRtDxJdAzFYckYsd9e+Q1Hvz0qOgaR2dj67FYcW3tMdAxFYckYqYTFCTi05JDoGERmRdJI2BS3CVePcJkmfWHJGKGj/z2K+Nd5IJJIhJqKGqwdvxbFWcWioygCS8bIZP2ZhZ9n/Cw6BpFZK84sxtqYtaiprBEdxeSxZIxIWW6Z9h92Of9hE4l2NfEqtszcIjqGyWPJGAmNWoMNsRtQeLFQdBQiqpW6OhUHPjogOoZJY8kYifg34nF+53nRMYjoNjv/vhNnt50VHcNksWSMwPEfj+PAB/xticgYSRoJG6ZswI3TXHFDFywZwbKPZ2Pz9M2iYxDRPVQWVuKHcT+gqqRKdBSTw5IRqKKwAmtj1vIfLpEJyD2Ti20vcjHN5mLJCLTpiU3IO5snOgYRNVHKNyk4sf6E6BgmhSUjSMrKFJz63ynRMYiomX6e+TOKrvCSG03FkhGg8FIhtr+0XXQMItJBRX4F/vfY/yBpeLGzpmDJGJgkSdgYtxGVRZWioxCRjjJ2Z/D8mSZiyRhY4qeJyNidIToGEbXQ7rd2I+uPLNExjB5LxoByTuYg/v9x4UsiJVBXqfHTtJ9QXVYtOopRY8kYiKZGg42PbURNBdclI1KKG6du4NdXfhUdw6ixZAxk7zt7kZmUKToGEelZ8vJkXNx7UXQMo8WSMYCsP7Kw7919omMQkRwkYMvTW6CuUotOYpRYMjKTJAm/zPoFmhqN6ChEJJMbp24g4f0E0TGMEktGZinfpODqYV7KlUjp9i3ax0U070IlSRLPKJJJRWEFvgj5AqXZpaKjtFgRirADO5COdFSjGp7wxEN4CH7wAwCUoAQ7sAPncA4VqEAHdMBojIYnPBvcphpq7MM+pCIVRSiCF7wwHMMRjOC6+2QgAwdwAJnIRAlKMBmT0QVd6m1nP/bjALTnLPRHf/RF37qvXcEV/IJfMAMzYMHfqUhmAcMC8NjOx0THMCr8Xyej3W/vVkTBlKMc/8F/YAlLTMM0PIfnEI1o2MEOACBBwg/4AfnIxxRMwTN4Bm5ww2qsRhUaXvxzF3YhGckYhVF4Ds8hAhFYi7XIwl/nHlSjGq3QCqMx+q7buI7r2I3dmFD7Fo94XMd1ANoS24ItGIMxLBgyiAvxF3D8x+OiYxgV/s+TSfaxbCR9mSQ6hl4kIAGucMV4jEdbtIU73NERHeEBDwBALnJxBVcwBmPQBm3gBS88iAdRhSqkIa3B7aYiFQMwACEIgQc80Ad9EIjAur0SAAhGMIZhGEIRetdt5CAHrdAKHWvfWqEVbkA7ZLEf+9EBHdAGbfT40yC6t99e+Q1VpVxZ/SaWjEy2vbBNMQf7T+M0/OCHdViHD/ABlmEZkpFc93U1tLNqrGBVd5sFLGAJS1zCpQa3q4a63mMAwBrW93zM7VqhFXKRi4Lat1zkwgc+yEUuUpCCoRja5G0R6UPR5SLOJr0FS0YGx9YeQ8aeDNEx9CYf+TiCI/CABx7Fo4hABLZhG1KQAgDwghdc4Yqd2IlylKMGNdiHfSipfWtIIAJxEAeRi1xooME5nMMpnLrnY27nDW8MwzCsqX0bhmHwhje2YAtGYATSkY5/4p9YhmXIQEYLfxJETXPw44PIP58vOoZRsGr8LtQcVaVV2PHqDtEx9EqCBD/4YTiGAwBaozWykY0kJCEc4bCEJSZjMjZhExZjMVRQoSM6IghB99zuKIzCZmzGF/gCAOABD/RET/yJP5uVr0/t201/4k/Ywhbt0A6f43PMxEwUoQjrsR6zMfuOvScifVNXqbFn/h7ErI4RHUU4/m/Ts/0f7FfctSac4QxveNe7zRveOImTdZ/7wQ+zMAsVqIAaajjCEf/Gv+tmn92NIxwxBVNQjWqUoxzOcMZO7IQ73HXOWopS/I7f8QSewBVcgectbxpokItctEIrnbdP1FRp/01D/9f7wzvUu/E7KxiHy/SoPL8ciUsTRcfQu3Zoh1zk1rstF7lwhesd97WDHRzhiFzkIhOZ6IROjW7fGtZwgQs00OAETjTpMQ3Zju3oi75whSskSNDgr+Nimto3IkOQNBJ2v7VbdAzhuCejRwc/PqjI68T0RV/8B//BXuxFV3TFVVxFMpIxFmPr7nMcx+EAB7jCFdnIxjZsQ2d0rjdk9hN+ggtc6obdruAKilAEX/iiGMXYgz2QIKEf+tU9phKVyMNfl6guQAGykAV72MMNbvVynsM55CEPMdAOUbRBG9zADZzFWRSiECqo4AUvOX5ERHd18qeTyEzOhF/vhvfolY4loyfleeVI/Ex5ezGA9sV6MiYjHvH4Hb/DHe54AA+gO7rX3acYxfgVv6IEJXCGM3qgBwZiYL3t3Hyhv6kGNdiFXchHPmxgg2AEIwYxsId93X0ykYlVWFX3+a/QrnjbAz3qygTQnk+zFVsxERPrzolxgQtGYRQ2YiOsYIUYxMAa1vr94RA1Ytebu/DI9kdExxCGZ/zrSfyb8UhYxLWLiOhOcXvj0GFAB9ExhOAxGT0oyy3D4c8Pi45BREZq15u7REcQhiWjBwc/PoiqYp7hS0R3d2nfJaRvTxcdQwiWTAtxL4aImmL32+Y504wl00IHPjqAqhLuxRDRvWUeycSlhKYvmaQULJkWKM8vx5EvjoiOQUQmIvFTZc5AvReWTAv88e8/uBdDRE128n8nUXipUHQMg2LJ6Eij1uDIP7kXQ0RNJ6klJH5uXnszLBkdndp4yux+IyGilvvz6z/N6nozLBkdHf6MM8qIqPkqCiqQuipVdAyDYcno4HradVzce1F0DCIyUYmfJcJcFlthyeggaZkyLqtMRGLkns41m5MzWTLNVFVahbRvG75uPRFRU5jLdGaWTDMd+/6YIpfzJyLDOr/jPIquKusCh3fDkmmm5OXJoiMQkQJIGgnHvj8mOobsWDLNkHMyB5lJmaJjEJFCHP32qOgIsmPJNMPxtcdFRyAiBbmeeh3Zx7NFx5AVS6YZjq9jyRCRfqX9V9kTiVgyTXQ97TpunLwhOgYRKUzad2mKPmeGJdNEHCojIjkUXixU9CUAWDJNxJIhIrkoeQIAS6YJsv7IQl56nugYRKRQJ348AXWVWnQMWbBkmuDYWuXPZScicSryK3B+53nRMWTBkmmCE+tOiI5ARAp3dttZ0RFkwZJpRGZSJgoyCkTHICKFO7f9nOgIsmDJNCL9V/NYKZWIxMpLz0PeOeUd+2XJNOLCzguiIxCRmUjfprxfalky91BdXo3LBy+LjkFEZkKJ15hhydzDpX2XoK5U5rRCIjI+GXsyUFNZIzqGXrFk7kGpUwqJyDhVl1bj0j5lnf3PkrmHC/E8HkNEhqW0ITOWTAPKcstwLeWa6BhEZGZYMmbiwq4LkDTKXRmViIxTzvEclOWWiY6hNyyZBnCojIhEyTyinCvwsmQacPH3i6IjEJGZunr4qugIesOSuYuq0irknskVHYOIzBRLRuGupVzj8RgiEobDZQp37U/OKiMicUqzS1FwsUB0DL1gydxF1p9ZoiMQkZlTyt4MS+Yurv3BPRkiEkspx2VYMrdRV6mRfTxbdAwiMnMsGYXKPp4NTbVGdAwiMnNZyVmKmIDEkrkND/oTkTGoKqlC4aVC0TFajCVzm6w/eNCfiIyDEq6UyZK5Tc7xHNERiIgAaC/JbOr0VjIFBQX62pRQ+RfyRUcgIgIA5J8z/dcjnUpm8eLFWLt2bd3nkyZNgqenJ9q0aYPU1FS9hTM0jVqD4qvFomMQEQEw4z2Z5cuXo127dgCAHTt2YMeOHdi2bRtGjRqFv/3tb3oNaEjFV4uhqeHMMiIyDkrYk7HS5UFZWVl1JbNlyxZMmjQJI0eOhL+/PyIjI/Ua0JAKMgpERyAiqmO2B/7d3d1x+fJlAMD27dsxfPhwAIAkSVCr1fpLZ2BKWSuIiJShurQaJddKRMdoEZ32ZB5++GFMnToVwcHByM3NxahRowAAKSkpCAoK0mtAQ+KeDBEZm7z0PDj5OomOoTOd9mSWLFmC559/HqGhodixYwecnLQ/gKysLDz77LN6DWhIhRdN/8QnIlIWUx8y02lPxtraGq+++uodt8+ePbuleYRiyRCRsSnONO0ZrzqfJ7NmzRr0798ffn5+uHhRe6nipUuXYtOmTXoLZ2gcLiMiY1OeVy46QovoVDJfffUVXn75ZYwaNQoFBQV1B/vd3NywdOlSfeYzKFP/jYGIlKciv0J0hBbRqWQ+//xz/Pvf/8abb74JS0vLutsjIiKQlpamt3CGpKnRoLqsWnQMIqJ6zHJP5sKFC+jZs+cdt9va2qK0tLTFoUSoLK4UHYGI6A5mWTIBAQFISUm54/Zt27YhNDS0pZmEqCxiyRCR8TH14TKdZpf97W9/w3PPPYeKigpIkoTDhw/j+++/x3vvvYevv/5a3xkNoqq4SnQEIqI7mPqejE4l88QTT6CmpgavvfYaysrKMHXqVLRp0waffvopYmNj9Z3RILgnQ0TGqDzftEtGJUlSi67veePGDWg0Gvj4+OgrkxDp29Px31H/FR2DiOgOcyvnwtLGsvE7GiGd9mRu5eXlpY8cwvHAPxEZq/K8cpNdWqbJJdOrVy/Ex8fD3d0dPXv2hEqlavC+f/zxh17CGRKHy4jIWFWVmu4x4yaXzEMPPQRbW1sAwPjx4+XKIwwP/BORsZLULTqqIVSTS2bevHkAALVajcGDB6N79+5wd3eXLZih8URMIjJWGrXpXkyx2efJWFpaIjo6GgUFBTLEEUdl0fDwHxGRSKa8J6PTyZjdunXD+fPn9Z1FKAsrndcKJSKSlSnvyeg0u+zdd9/Fq6++ioULF6J3795wdHSs93UXFxe9hDMklgzp0x8f/oELVhdExyCFmOg1Eb7wFR1DJzqVzAMPPAAAGDduXL1ZZpIkQaVSmeQlmFWWHC4j/ZA6SPil7BeoJdP7f0DGSW1luv+WdCqZ3bt36zuHcNyTIX3JeTiHBUN6ZakyzRMxAR1LZtCgQfrOIRxLhvTlz/Z/ArzIKumRhcp0X590Kpm9e/fe8+sDBw7UKYxILBnSB007DQ4XHRYdgxTGyqLFi7MIo1PywYMH33HbrcdmTPGYDEuG9OHGhBscKiO9c7Z1Fh1BZzq9subn59d7z87Oxvbt29GnTx/89ttv+s5oECwZ0ofUDqmiI5ACudq6io6gM532ZFxd7/yGR4wYAVtbW8yZMwfJycktDmZoprrCKRkPqa2EQ0WHRMcghbGxtIG9tb3oGDrT66/v3t7eOH36tD43aTAOng6iI5CJ41AZycGU92IAHfdkjh49Wu9zSZKQlZWF999/Hz169NBLMENz8GbJUMuk+KdwVhnpnaudGZZMeHg4VCoVbr/eWVRUFFasWKGXYIbm6OPY+J2IGqBpo0FicaLoGKRAZrknc+FC/eUyLCws4O3tDTs7O72EEsHB0wEqCxUkjekuREfi5E3IQ42mRnQMUiCz3JPp0KGDvnMIp7JQwd7THmU5ZaKjkAlKDUjlUBnJwmz2ZD777DPMnDkTdnZ2+Oyzz+55XycnJ3Tt2hWRkZEtDmhIjt6OLBlqNqm1hIPFB0XHIIXytPcUHaFFmlwyS5YswbRp02BnZ4clS5bc876VlZXIzs7GnDlz8OGHH7Y4pKE4+jgi50SO6BhkYnIn5HKojGTT3rW96Agt0uSSufU4zO3HZO5mx44dmDp1qkmVDGeYkS6OBh7lUBnJxtRLRrbT3Pv374+5c+fKtXlZcIYZNZfGV8OhMpJVBzfTPgau86pr8fHxiI+PR3Z2NjSa+ldtW7FiBezt7fHSSy+1OKAhObZiyVDz5E/MR7WmWnQMUjBT35PRqWT+8Y9/YMGCBYiIiEDr1q3rLY5pytz83URHIBPDoTKSk4XKAu1c2omO0SI6lcyyZcuwcuVKPProo/rOI5RnsGnP4iDDklpJOFjCoTKSj6+TL6wtrUXHaBGdjslUVVXh/vvv13cW4TyCPERHIBOSPyEfVeoq0TFIwTq4mvbxGEDHknnqqafw3Xff6TuLcA5eDrBzM91VC8iw0oLTREcghTP14zGAjsNlFRUV+Ne//oWdO3eie/fusLauvzv3ySef6CWcCB7BHsg8kik6Bhk5yVvC/pL9omOQwoV4hoiO0GI6r8IcHh4OADh27Jg+8wjn1dmLJUONyp/IoTKSX/dW3UVHaDGdSmb37t36zmE0vLt6i45AJuBYyDHOKiPZmV3JPPzww43eR6VSYcOGDToHEs07lCVD9yZ5caiM5Odg7YAgjyDRMVqsWSVzt8suK41PVx/REcjIFUwsQKW6UnQMUrhQ71BYqGRblMVgmlUy33zzjVw5jIZbgBusHaxRXcazuOnujoUcA4pEpyCl6+5j+kNlgIxrl5kqlUqF1r1bi45BRkrykLC/jENlJD8lHI8BWDJ31e5+017GgeRTOLEQFTUVomOQGWDJKBhLhhpyrLOypuyT8WLJKFjbvm1FRyAjJLlLSChLEB2DzEBnr87wdFDGWoosmbtw9HbkOmZ0Bw6VkaEMbD9QdAS9Yck0gENmdLtjXThURoYxsANLRvE4ZEa3ktw4q4wMhyVjBrgnQ7cqmliE8ppy0THIDHRw7YB2rsp5/WHJNMAnzAe2LraiY5CROB56XHQEMhNK2osBWDINUlmo0DaKQ2YESC4SEso5q4wMgyVjRgIfCBQdgYxA8cRilFWXiY5BZmJA+wGiI+gVS+YeOo3tJDoCGYHjXTlURobR3rU9Onkp63WHJXMPHkEe8OykjBOiSDeSs4SECg6VkWGMDRkrOoLesWQaETLW9C9/SrornliM0upS0THITIzrNE50BL1jyTQiZAxLxpydCDshOgKZCRdbFwz2Hyw6ht6xZBrRvl972LnbiY5BAkiOHCojw4kOjIaNpY3oGHrHkmmEhZUFgkcFi45BAhRPLEZJdYnoGGQmlHg8BmDJNEnwGJaMOTrZ/aToCGQmLFWWeDDkQdExZMGSaYLgUcGwsOKPypxIjhISKjlURobRr30/eNgrc+V3vnI2gZ2bHfwH+4uOQQZUMqEExVXFomOQmYjpHCM6gmxYMk3U/TFlXKWOmoZDZWQoVhZWmNptqugYsmHJNFHohFDYOCtv5gfdSXKQkFDFoTIyjAeCHoCPo4/oGLJhyTSRtYM1Qv8vVHQMMoCSCSUoqioSHYPMxGPdHxMdQVYsmWYIjwsXHYEM4FSPU6IjkJlwt3NX5Fn+t2LJNEOHAR3gHuguOgbJSLLjUBkZzuSuk2FrpezrVrFkmqnH4z1ERyAZlU4oRWFVoegYZCYeD39cdATZsWSaKfzxcEAlOgXJ5VRPDpWRYYR4hiCqbZToGLJjyTSTa3tXBAwJEB2DZCDZSdhXtU90DDITcT3iREcwCJaMDsKfCBcdgWRQGsOhMjIMOys7zOg9Q3QMg2DJ6CD0/0Lh2MpRdAzSszO9zoiOQGZiWrdp8HLwEh3DIFgyOrCytcJ9L9wnOgbpkWQrYV8Nh8rIMGZHzRYdwWBYMjrqM6sPrB2tRccgPSmLKUN+Zb7oGGQGhnccjjCfMNExDIYloyN7D3v0nN5TdAzSk9O9T4uOQGZiduRs0REMiiXTAlFzoqCy5HxmUydZS0hQ8wRMkl+IZwhGB48WHcOgWDIt4B7gjtAJXM/M1JXFlCGvIk90DDIDL973IlQq8/rFlCXTQvf/7X7REaiFzkRwVhnJz8PeA3HhcaJjGBxLpoX8Ivx4QTMTJllLSNBwqIzkNydqDhxtzO/UB5aMHvR9ta/oCKSjsvFlyK3IFR2DFM7dzh0vRr4oOoYQLBk9CB4dDL8IP9ExSAfpfdJFRyAzMCdqDlxsXUTHEMJKdAAlUKlUGL54OFYPWy06CjWDZC1hn0YBJ2AeqX0vqP3cB8AgAMG1n0sA9gBIBlABoA2AB2vvdy8nAOwCkA/AHcAwAF1u+Xpl7ddPASgF4AtgVO32b9oP4EDtx/0B3LrTfwXALwBmQNG/7nrYe+ClqJdExxBGwX+1hhUwNACB0YGiY1AzlI8rx42KG6JjtJwLgOEAZta+BwD4HkB27df3AzgIYDS0L+hOAFZDWxINuQzgRwA9ADxT++eP0BbDTZsBnAcQA2AWgMDa7d68qOh1ALsBTKh9j6+9DQDUALYAGAPFvwq9dv9rZrsXAyj+r9ewhi8eDpWFeU1PNGVnI8+KjqAfnQCEAPCqfR8GwAbaQpAAHAIwEEAogFbQlkI1gLR7bPMQtKUxAIB37Z8Btbej9vEnAIwA4A/AE8AQAG7Q7lUBQE7t83WsfW8F4Gan7wfQAfX3ehSotVNrvBD5gugYQrFk9Mi3hy+6Te0mOgY1gWQlYZ+kgKGy22mgLY9qAG2hHeoqgbYwbrKCthgu32M7l297DAAE3fIYDbQFdvuAuzWAS7UftwKQC+0wXkHtxz61f6YAGNqE78fEzR04Fw7WDqJjCMVjMno25J0hOP7jcagr1aKj0D1UjKvAjXIFDJXddB3A1wBqoN2LmQztC/rNF/zbZ846ArjXVQ1KGnhMSe3HttCW2O/Q7j05QVtuV6DdqwG0e0DDAKyp/XxY7W2roN0DSof2WJElgAegLT4FCfIIwoxe5rGc/71wT0bP3Dq4oc+zfUTHoEakRypsVpkntMdOngLQB8BG/HVMBtDtaq6NPebh2j8/AbAQQCKAbrc9rg+AF2rf+wD4E9qCagftMZ1YANEA1kNbkAqyJHoJrC25iC73ZGQw4M0B+HPFn6gsvNeRVRJFspKwF3tFx9AvK/y1B9EGwFVoX/T71d5WAsD5lvuXQrv30RAn/LXX0tBjPAA8AaAK2kkEztBODnBvYJul0O75PIG/9nhuvmugHUZrdY9MJmR08GiMCRkjOoZR4J6MDBw8HdD/9f6iY1ADKsZUIKc8R3QM+dVA+4LvBODcbbdnQLs30ZB2tz0GtZ/f7TE20BZMObRDYJ0a2OZ2aKcwu0J7PEdzy9c0t31uwmwsbbA0eqnoGEaDJSOTqDlR8AzxbPyOZHDnom5/9TRxOwFchPYg/3VopwpnAOgO7dBVFIB9AE7Wfn0jtAfob52j8lPtdm6KhLZUEqCdJZYA7XTlqFvukw7gbO3zngOwEtrjM3e7AsY5AHnQDpkB2r2tG7WPT6rNqZALRc6JmoNgz+DG72gmOFwmEytbK4xZPgarhqwSHYVuIVlI2KtS2FBZKbQlUQLt8Y5WAB7BX7PD+kE72+wXaPc22gJ4tPa+NxWi/rGU9gAmQnuy5S5oh8Ym1j72pgpoC60IgD20J2oOg/ZA/q2qAWytffzNX2tdoD1xcyO0r0Ix0BafifNz9sPcgXNFxzAqKkmSJNEhlGzT9E1I+SZFdAyqVf5QORb3XCw6BinUtzHfYlr3aaJjGBUOl8ls5Ecj4ehjfiuvGqtzfRU2VEZGo3/7/iyYu2DJyMzewx7RS6JFxyBoh8oSLLisP+mfraUt/jXmX6JjGCWWjAF0m9oNQQ8EiY5h9iofrMS1smuiY5ACLRiyAF28uzR+RzPEkjGQB796ENYOCjiyacLO3c+hMtK/vm374tX7XxUdw2ixZAzEzd8Ng/8xWHQMsyWpJCRYcqiM9Mveyh4rx6+EhYovpQ3hT8aAouZE8eJmglSOrkRWWZboGKQw7wx9ByGeIaJjGDWWjAFZWFpgwvcTYONsIzqK2Tnf77zoCKQw/dv3x+yo2aJjGD2WjIF5BHlgzDKuaWRIkkpCghWHykh/HKwdsGLcCg6TNQF/QgJ0m9oN4XHhomOYjaoHqpBZlik6BinIJyM/4dIxTcSSEWTUF6Pg1VkhizUZufMDOFRG+jOt2zQ8HfG06BgmgyUjiI2jDSb8MAFWdlw+Tk6SSsJ+6/2iY5BCdPHqguVjlouOYVJYMgL59vDFiI9GiI6haFUjq3Cl9IroGKQAjtaOWD9pPRxtuExUc7BkBLvvufvQOaaz6BiKdWHgBdERSCGWjVmGUO9Q0TFMDkvGCIz7zzi4dnAVHUNxJJWEBBvOKqOWm9FrBh7p/ojoGCaJJWME7N3tEbsxFtaOXHZGn6pGcKiMWq6nb098Nuoz0TFMFkvGSPiG+yJmdUz9C0dRi2QMzBAdgUycj6MPNkzaADsrO9FRTBZLxoh0ebgLBs8fLDqGYuy346wy0p2dlR02xW5CgHuA6CgmjSVjZAa9PQhdJ3cVHcPkVQ2vwqWSS6JjkIlSQYXV41cjqm2U6CgmjyVjhMavHI9297cTHcOkZQzOEB2BTNiiYYvwf13/T3QMRWDJGCErOyvEboqFe6C76CgmK8GOs8pIN0/1fAqv939ddAzFYMkYKQcvB0zbOg32Hvaio5icyqGVHCojnQzvOBxfjflKdAxFYckYMc8QT0zeOBlW9lx6pjkuDWHBUPN19e6K9f+3HlYW/P+mTywZI9dhQAfEboyFpa2l6CgmY789Z5VR8wR5BGHHozvgaseTovWNJWMCAkcGYtKGSbCw5l9XY6qHVCOjJEN0DDIh/m7+2PXYLrR2bi06iiLxVctEhDwYgolrJ8LCin9l95IxJEN0BDIhbZzbIP6xeLRz5WxOufAVy4R0iemCmG9joLLksgANOeh4UHQEMhGtHFsh/rF4dHTvKDqKorFkTEzY5DA89M1DUFmwaG5XPaga54t5gTJqnKe9J3Y+thOdvDqJjqJ4LBkT1OPRHhizfAzXObvNpWGcVUaNc7Nzw45HdyDMJ0x0FLPAkjFRvZ7qhdFfjGbR3GK/I2eV0b35OPpg12O70LN1T9FRzAZLxoT1ebYPYlbHcNYZgOoBHCqje/N388f+6ftZMAbGVycT1/2R7pi6ZSpsnGxERxHq8vDLoiOQEQvzCcP+6fsR5BEkOorZYckoQODIQDy+53E4+pjvtccPOB0QHYGMVN+2fbE3bi/8nP1ERzFLLBmF8Ovth+kHppvloprV/aqRXpwuOgYZoVFBo7DzsZ1wtze//xfGgiWjIB6BHnjywJPwizCv39guj+BQGd1pStgUbIrdBAdrB9FRzBpLRmEcfRzx+O7HERgdKDqKwRxyOSQ6AhkRFVSYN2ge/vvwf2FtaS06jtljySiQjZMNpvw8BeFPhIuOIrvqvtU4U3RGdAwyEo7Wjlg/aT3mD54PlYrz+40BS0ahLK0t8dCKhzD6y9GwtFHuCs5Xoq+IjkBGwt/NHweePICHuzwsOgrdgiWjcH1m9UHc3ji4tHURHUUWHCojABjsPxhHZhxB91bdRUeh27BkzEDbyLaY+cdMBAwNEB1Fr6ojq3G66LToGCTYsxHPYsejO+Dl4CU6Ct0FS8ZMOHo74pHfHsH9r90vOoreXI2+KjoCCWRnZYd/jfkX/vngP3k1SyPGkjEjFpYWGLF4BCZtmAQbZ9NfIeCQG4fKzFUXry44/NRhzOg9Q3QUagRLxgx1ebgLZhyZAe+u3qKj6KymTw1OFZ0SHYMEeCL8CSTNTEK3Vt1ER6EmYMmYKa9OXpiZNBN9X+1rktemuTqKQ2Xmxs3ODT9M+AErHlrBEyxNCEvGjFnZWWHkhyMRtzcOHkEeouM0C4fKzMtg/8E4+sxRTA6bLDoKNRNLhtC+X3s8k/oM7nvhPpO4Po26txoni06KjkEGYGdlhw+Gf4D4x+LRzrWd6DikA5UkSZLoEGQ8MvZkYNMTm1CQUSA6SoMuvXUJKyxXiI5BMhviPwTLxyxHsGew6CjUAtyToXr8B/tjVtos9JrZS3SUBiW6J4qOQDLysPfAf8b9B7se38WCUQCWDN3BxskGY5ePxSO/PmJ0x2pqetXgeNFx0TFIJrFhsTj53ElM7zlddBTSE5YMNShwZCCePf4shi8ebjTn1WSOzhQdgWTQ3rU9fpn6C76f8D18HH1ExzGYjIwMqFQqpKSkCHn++fPnIzw8XNbnYMnQPVnaWKLfa/3wwpkXEB4XLnxiwGHPw2IDkF7ZWdnh9X6v4/izxzE6eLRetx0XFweVSoX333+/3u0bN25s9grN/v7+WLp0qd7ud1O7du2QlZWFsLCwZuUxJSwZahInXyc89M1DeCrxKbSNaiskg7qHGscKjwl5btIvFVR4pPsjOPP8Gbw3/D042TjJ8jx2dnZYvHgx8vPzZdl+S1laWsLX1xdWVrovi1NdXa3HRPrHkqFmadOnDaYfmI7xq8fD2c/ZoM+dOYZDZUow2H8wkmYmYU3MGtmnJQ8fPhy+vr5477337nm/DRs2oGvXrrC1tYW/vz8+/vjjv/IOHoyLFy9izpw5UKlUzdoLUqlU+PrrrxETEwMHBwcEBwdj8+bNdV+/fbhs5cqVcHNzq7eN2/e8bg5xrVixAh07doStrS0kSUJhYSFmzpwJHx8fuLi4YOjQoUhNTa23rffffx+tWrWCs7MznnzySVRUVDT5e9EVS4aaTaVSocejPfD86ecxYO4Agx2vOezFoTJT1tmrMzbHbsbux3ejV2vDzF60tLTEokWL8Pnnn+PKlbtfeyg5ORmTJk1CbGws0tLSMH/+fLz11ltYuXIlAOCnn35C27ZtsWDBAmRlZSErK6tZGf7xj39g0qRJOHr0KEaPHo1p06YhLy+vRd9Xeno61q1bhw0bNtQV1IMPPohr165h69atSE5ORq9evTBs2LC651q3bh3mzZuHd999F0lJSWjdujW+/PLLFuVoCpYM6czGyQZDFw7F7IzZGDB3AGxdbWV7LnU3NdIK02TbPsmnnUs7fDn6S6TNSsPYTmMN/vwxMTEIDw/HvHnz7vr1Tz75BMOGDcNbb72FkJAQxMXF4fnnn8eHH34IAPDw8IClpSWcnZ3h6+sLX1/fZj1/XFwcpkyZgqCgICxatAilpaU4fLhlvzBVVVVhzZo16NmzJ7p3747du3cjLS0NP/74IyIiIhAcHIyPPvoIbm5uWL9+PQBg6dKlmD59Op566il06tQJ77zzDkJDQ1uUoylYMtRi9h72dWUzaP4g2Lnb6f05ssY277dHEi/IIwhfj/0a5148h1l9Zgldjn/x4sVYtWoVTpw4ccfXTp48iX79+tW7rV+/fjh79izUanWLn7t7978upObo6AhnZ2dkZ2e3aJsdOnSAt/dfC9wmJyejpKQEnp6ecHJyqnu/cOECzp07B0D7ffbt27fedm7/XA68CAPpjZ2bHQbPG4y+c/oi8fNEHFpyCOW55XrZ9hHvI0ChXjZFMgvzCcMb/d/ApK6TYGlhHJf+HjhwIKKjo/HGG28gLi6u3tckSbrjOIs+F0Kxtrau97lKpYJGo7nrfS0sLO547rsd2Hd0dKz3uUajQevWrbFnz5477nv7MR5DY8mQ3tm62GLgmwMR9VIUDn9xGAc/OYiynDKdt6fupkZqYWrjdySh+vj1wZsD3sS4TuOaPUXYEN5//32Eh4cjJCSk3u2hoaFISEiod9uBAwcQEhICS0ttSdrY2Ohlr6Yx3t7eKC4uRmlpaV2RNOUcml69euHatWuwsrKCv7//Xe/TpUsXHDp0CI899ljdbYcOyb/QLIfLSDY2Tjbo/3p/zL44G+NWjINfHz+dtpM1hkNlxspSZYnxncdjx6M7cHjGYTzU+SGjLBgA6NatG6ZNm4bPP/+83u2vvPIK4uPjsXDhQpw5cwarVq3CF198gVdffbXuPv7+/ti7dy+uXr2KGzduyJYxMjISDg4OeOONN5Ceno7vvvuubgLCvQwfPhx9+/bF+PHj8euvvyIjIwMHDhzA3LlzkZSUBAB46aWXsGLFCqxYsQJnzpzBvHnzcPy4/KtnsGRIdtb21uj5RE/MODwDM5JmoOeTPWHtYN34A2sl+STJmI504efsh7cHvo2M2Rn43+T/YXjH4aIjNcnChQvvGI7q1asX1q1bhx9++AFhYWF4++23sWDBgnrDagsWLEBGRgYCAwPrHQvRNw8PD3z77bfYunUrunXrhu+//x7z589v9HEqlQpbt27FwIEDMX36dISEhCA2NhYZGRlo1aoVAGDy5Ml4++238fe//x29e/fGxYsXMWvWLNm+l7psXIWZRKgorEDq6lQkL0tGzomcBu+nDlVj4aSFBkxGDVFBhaEBQzErYhYe6vyQ0AP5SnH69Gl07twZZ8+eRVBQkOg4suC/EhLCztUOkS9EIvKFSGT8noHkZck4+dNJqKvqj3tfG3dNUEK6yc/ZD7FdY/F0xNMI8Qxp/AHUJHl5eVi/fj1cXFzQrp1yr5XDkiHh/Af5w3+QPyoKKnDyfydx/IfjuLDrAjQ1GiS1SuKsMgG8HbwxocsExIbFYkCHAbBQcWRd35588kkkJyfjq6++gq2tfOeYicbhMjJKpTmlOL75ON6wfgN7MvZALck/s8fcudm5IaZzDGLDYjE0YCiHw0gvWDJk9G6U3cDm05vx08mfEH8hHhU18q+3ZC7au7ZHdGA0xoaMRXRQNGwsjeOSDqQcLBkyKRU1FUi4lICd53dix/kdSLmWAo109xPb6E72VvYY5D8I0YHRiA6MRhfvLqIjkcKxZMik5ZblYteFXdh5fid2XtiJ8/nnRUcyKpYqS4T5hGFYwDBEB0VjYIeBsLPS/7I/RA1hyZCiXCy4iMNXD+NI5hEkZSYhOSsZRZVFomMZTBvnNohsG4nINpGIahuF3q17w9HGsfEHEsmEJUOKJkkSzuSeQVJmUl3xpGWnKaJ42rm0Q6h3KHq06lFXLG1c2oiORVQPS4bMUnZpNs7mnkV6XjrO5p3F2bzaj3PPoriqWHS8Om52bgh0D0SwZzCCPbTvnbw6oYtXFzjbGvaicUS6YMkQ3Sa7NBtZxVnIKctBTmkOskuzkVNW/8+88jxU1lSiUl2JKnUVqtRVqKzRfiyh/n8pG0sb2FvZw97aHvZW9rCzsqv72NPBE76OvvB1uvu7vbW9oJ8CkX6wZIj0rEZTg8qaSqhUKthZ2fFERjJrLBkiIpINf8UiIiLZsGSIiEg2LBkiIpINS4aIiGTDkiEiItmwZIiISDYsGSIikg1LhoiIZMOSISIi2bBkiIhINiwZIiKSDUuGiIhkw5IhIiLZsGSIiEg2LBkiIpINS4aIiGTDkiEiItmwZIiISDYsGSIikg1LhoiIZMOSISIi2bBkiIhINiwZIiKSDUuGiIhkw5IhIiLZsGSIiEg2LBkiIpINS4aIiGTDkiEiItmwZIiISDYsGSIikg1LhoiIZMOSISIi2bBkiIhINiwZIiKSDUuGiIhkw5IhIiLZsGSIiEg2LBkiIpINS4aIiGTDkiEiItmwZIiISDYsGSIikg1LhoiIZMOSISIi2fx/n3Tcic93IMkAAAAASUVORK5CYII=",
      "text/plain": [
       "<Figure size 640x480 with 1 Axes>"
      ]
     },
     "metadata": {},
     "output_type": "display_data"
    }
   ],
   "source": [
    "# Pie chart to show if injuries occurred\n",
    "colors = ['purple', 'green']\n",
    "labels = ['Injured', 'Not Injured']\n",
    "injury_count.plot(kind=\"pie\", colors=colors, labels = labels, autopct= \"%1.2f%%\")\n",
    "plt.ylabel(\"Injuries\")\n",
    "plt.show()\n"
   ]
  },
  {
   "cell_type": "code",
   "execution_count": 17,
   "metadata": {},
   "outputs": [
    {
     "data": {
      "text/plain": [
       "INCIDENT_SEVERITY\n",
       "Total Loss    3390\n",
       "Major Loss    3317\n",
       "Minor Loss    3293\n",
       "Name: count, dtype: int64"
      ]
     },
     "execution_count": 17,
     "metadata": {},
     "output_type": "execute_result"
    }
   ],
   "source": [
    "severity_count = ins_claim_fraud[\"INCIDENT_SEVERITY\"].value_counts()\n",
    "severity_count"
   ]
  },
  {
   "cell_type": "code",
   "execution_count": 18,
   "metadata": {},
   "outputs": [
    {
     "data": {
      "image/png": "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",
      "text/plain": [
       "<Figure size 640x480 with 1 Axes>"
      ]
     },
     "metadata": {},
     "output_type": "display_data"
    }
   ],
   "source": [
    "# Pie plot to show incident severity\n",
    "colors = ['palegreen', 'limegreen', 'darkgreen']\n",
    "labels = ['Total Loss', 'Major Loss', 'Minor Loss']\n",
    "severity_count.plot(kind=\"pie\", colors=colors, autopct= \"%1.2f%%\")\n",
    "\n",
    "plt.legend(labels, loc=\"right\")\n",
    "plt.axis('equal')\n",
    "\n",
    "plt.ylabel(\"Loss\")\n",
    "plt.show()"
   ]
  },
  {
   "cell_type": "code",
   "execution_count": 19,
   "metadata": {},
   "outputs": [
    {
     "data": {
      "text/plain": [
       "AUTHORITY_CONTACTED\n",
       "Ambulance    4082\n",
       "Police       2982\n",
       "Other         991\n",
       "Name: count, dtype: int64"
      ]
     },
     "execution_count": 19,
     "metadata": {},
     "output_type": "execute_result"
    }
   ],
   "source": [
    "authority_count = ins_claim_fraud[\"AUTHORITY_CONTACTED\"].value_counts()\n",
    "authority_count"
   ]
  },
  {
   "cell_type": "code",
   "execution_count": 20,
   "metadata": {},
   "outputs": [
    {
     "data": {
      "text/plain": [
       "RISK_SEGMENTATION\n",
       "L    4395\n",
       "M    4150\n",
       "H    1455\n",
       "Name: count, dtype: int64"
      ]
     },
     "execution_count": 20,
     "metadata": {},
     "output_type": "execute_result"
    }
   ],
   "source": [
    "risk_count = ins_claim_fraud[\"RISK_SEGMENTATION\"].value_counts()\n",
    "risk_count"
   ]
  },
  {
   "cell_type": "code",
   "execution_count": 21,
   "metadata": {},
   "outputs": [
    {
     "data": {
      "text/plain": [
       "CLAIM_STATUS\n",
       "A    9497\n",
       "D     503\n",
       "Name: count, dtype: int64"
      ]
     },
     "execution_count": 21,
     "metadata": {},
     "output_type": "execute_result"
    }
   ],
   "source": [
    "claim_status_count = ins_claim_fraud[\"CLAIM_STATUS\"].value_counts()\n",
    "claim_status_count"
   ]
  },
  {
   "cell_type": "code",
   "execution_count": 22,
   "metadata": {},
   "outputs": [
    {
     "data": {
      "text/plain": [
       "107"
      ]
     },
     "execution_count": 22,
     "metadata": {},
     "output_type": "execute_result"
    }
   ],
   "source": [
    "claim_amount_unique = len(ins_claim_fraud[\"CLAIM_AMOUNT\"].unique())\n",
    "claim_amount_unique"
   ]
  },
  {
   "cell_type": "code",
   "execution_count": 23,
   "metadata": {},
   "outputs": [
    {
     "data": {
      "text/plain": [
       "CLAIM_AMOUNT\n",
       "1000     585\n",
       "2000     584\n",
       "5000     573\n",
       "4000     567\n",
       "3000     563\n",
       "        ... \n",
       "62000     12\n",
       "88000     12\n",
       "94000     11\n",
       "98000     11\n",
       "66000     10\n",
       "Name: count, Length: 107, dtype: int64"
      ]
     },
     "execution_count": 23,
     "metadata": {},
     "output_type": "execute_result"
    }
   ],
   "source": [
    "claim_amount_count = ins_claim_fraud[\"CLAIM_AMOUNT\"].value_counts()\n",
    "claim_amount_count"
   ]
  },
  {
   "cell_type": "code",
   "execution_count": 24,
   "metadata": {},
   "outputs": [
    {
     "data": {
      "text/plain": [
       "7"
      ]
     },
     "execution_count": 24,
     "metadata": {},
     "output_type": "execute_result"
    }
   ],
   "source": [
    "education_unique = len(ins_claim_fraud[\"CUSTOMER_EDUCATION_LEVEL\"].unique())\n",
    "education_unique"
   ]
  },
  {
   "cell_type": "code",
   "execution_count": 25,
   "metadata": {},
   "outputs": [
    {
     "data": {
      "text/plain": [
       "CUSTOMER_EDUCATION_LEVEL\n",
       "Bachelor       3991\n",
       "High School    2385\n",
       "Masters        1045\n",
       "College        1035\n",
       "MD              539\n",
       "PhD             476\n",
       "Name: count, dtype: int64"
      ]
     },
     "execution_count": 25,
     "metadata": {},
     "output_type": "execute_result"
    }
   ],
   "source": [
    "education_count = ins_claim_fraud[\"CUSTOMER_EDUCATION_LEVEL\"].value_counts()\n",
    "education_count"
   ]
  },
  {
   "cell_type": "code",
   "execution_count": 26,
   "metadata": {},
   "outputs": [
    {
     "data": {
      "text/plain": [
       "EMPLOYMENT_STATUS\n",
       "Y    9171\n",
       "N     829\n",
       "Name: count, dtype: int64"
      ]
     },
     "execution_count": 26,
     "metadata": {},
     "output_type": "execute_result"
    }
   ],
   "source": [
    "employment_count = ins_claim_fraud[\"EMPLOYMENT_STATUS\"].value_counts()\n",
    "employment_count"
   ]
  },
  {
   "cell_type": "code",
   "execution_count": 27,
   "metadata": {},
   "outputs": [
    {
     "data": {
      "text/plain": [
       "114"
      ]
     },
     "execution_count": 27,
     "metadata": {},
     "output_type": "execute_result"
    }
   ],
   "source": [
    "tenure_unique = len(ins_claim_fraud[\"TENURE\"].unique())\n",
    "tenure_unique"
   ]
  },
  {
   "cell_type": "code",
   "execution_count": 28,
   "metadata": {},
   "outputs": [
    {
     "data": {
      "text/plain": [
       "TENURE\n",
       "31     107\n",
       "80     105\n",
       "75     104\n",
       "108    103\n",
       "42     103\n",
       "      ... \n",
       "41      72\n",
       "6       71\n",
       "114     70\n",
       "70      70\n",
       "98      66\n",
       "Name: count, Length: 114, dtype: int64"
      ]
     },
     "execution_count": 28,
     "metadata": {},
     "output_type": "execute_result"
    }
   ],
   "source": [
    "tenure_count = ins_claim_fraud[\"TENURE\"].value_counts()\n",
    "tenure_count"
   ]
  },
  {
   "cell_type": "code",
   "execution_count": 29,
   "metadata": {},
   "outputs": [
    {
     "data": {
      "text/plain": [
       "SOCIAL_CLASS\n",
       "MI    4794\n",
       "LI    2727\n",
       "HI    2479\n",
       "Name: count, dtype: int64"
      ]
     },
     "execution_count": 29,
     "metadata": {},
     "output_type": "execute_result"
    }
   ],
   "source": [
    "social_class_count = ins_claim_fraud[\"SOCIAL_CLASS\"].value_counts()\n",
    "social_class_count"
   ]
  },
  {
   "cell_type": "code",
   "execution_count": 30,
   "metadata": {},
   "outputs": [
    {
     "data": {
      "text/plain": [
       "HOUSE_TYPE\n",
       "Mortgage    3652\n",
       "Rent        3385\n",
       "Own         2963\n",
       "Name: count, dtype: int64"
      ]
     },
     "execution_count": 30,
     "metadata": {},
     "output_type": "execute_result"
    }
   ],
   "source": [
    "house_type_count = ins_claim_fraud[\"HOUSE_TYPE\"].value_counts()\n",
    "house_type_count"
   ]
  },
  {
   "cell_type": "code",
   "execution_count": 31,
   "metadata": {},
   "outputs": [
    {
     "data": {
      "text/plain": [
       "6"
      ]
     },
     "execution_count": 31,
     "metadata": {},
     "output_type": "execute_result"
    }
   ],
   "source": [
    "family_size_unique = len(ins_claim_fraud[\"NO_OF_FAMILY_MEMBERS\"].unique())\n",
    "family_size_unique"
   ]
  },
  {
   "cell_type": "code",
   "execution_count": 32,
   "metadata": {},
   "outputs": [
    {
     "data": {
      "text/plain": [
       "NO_OF_FAMILY_MEMBERS\n",
       "2    1690\n",
       "3    1683\n",
       "7    1674\n",
       "4    1667\n",
       "5    1647\n",
       "6    1639\n",
       "Name: count, dtype: int64"
      ]
     },
     "execution_count": 32,
     "metadata": {},
     "output_type": "execute_result"
    }
   ],
   "source": [
    "family_size_count = ins_claim_fraud[\"NO_OF_FAMILY_MEMBERS\"].value_counts()\n",
    "family_size_count"
   ]
  },
  {
   "cell_type": "code",
<<<<<<< HEAD
<<<<<<< HEAD
   "execution_count": 50,
=======
   "execution_count": 311,
=======
   "execution_count": 33,
>>>>>>> 2eb3fb25d3da2720856cae718ec726279d514a06
   "metadata": {},
   "outputs": [
    {
     "data": {
      "text/plain": [
       "TRANSACTION_ID              False\n",
       "CUSTOMER_ID                 False\n",
       "POLICY_NUMBER               False\n",
       "POLICY_EFFECTIVE_DATE       False\n",
       "LOSS_DATE                   False\n",
       "REPORT_DATE                 False\n",
       "INSURANCE_TYPE              False\n",
       "PREMIUM_AMOUNT              False\n",
       "CLAIM_AMOUNT                False\n",
       "CUSTOMER_NAME               False\n",
       "INSURANCE CITY               True\n",
       "INSURANCE STATE             False\n",
       "INSURANCE POSTAL_CODE       False\n",
       "MARITAL_STATUS              False\n",
       "AGE                         False\n",
       "TENURE                      False\n",
       "EMPLOYMENT_STATUS           False\n",
       "NO_OF_FAMILY_MEMBERS        False\n",
       "RISK_SEGMENTATION           False\n",
       "HOUSE_TYPE                  False\n",
       "SOCIAL_CLASS                False\n",
       "CUSTOMER_EDUCATION_LEVEL     True\n",
       "CLAIM_STATUS                False\n",
       "INCIDENT_SEVERITY           False\n",
       "AUTHORITY_CONTACTED          True\n",
       "ANY_INJURY                  False\n",
       "POLICE_REPORT_AVAILABLE     False\n",
       "INCIDENT_STATE              False\n",
       "INCIDENT_CITY                True\n",
       "INCIDENT_HOUR_OF_THE_DAY    False\n",
       "AGENT_ID                    False\n",
       "VENDOR_ID                    True\n",
       "AGENT_NAME                  False\n",
       "DATE_OF_JOINING             False\n",
       "EMPLOYEE CITY                True\n",
       "EMPLOYEE STATE              False\n",
       "EMPLOYEE POSTAL_CODE        False\n",
       "VENDOR_NAME                  True\n",
       "VENDOR CITY                  True\n",
       "VENDOR STATE                 True\n",
       "VENDOR POSTAL_CODE           True\n",
       "dtype: bool"
      ]
     },
     "execution_count": 33,
     "metadata": {},
     "output_type": "execute_result"
    }
   ],
   "source": [
    "# checking if the dataset contains any null values \n",
    "ins_claim_fraud.isnull().any() "
   ]
  },
  {
   "cell_type": "code",
   "execution_count": 34,
   "metadata": {},
   "outputs": [
    {
     "data": {
      "text/plain": [
       "([0, 1, 2, 3, 4, 5, 6, 7, 8],\n",
       " [Text(0, 0, 'Savannah'),\n",
       "  Text(1, 0, 'Anchorage'),\n",
       "  Text(2, 0, 'Lynn Haven'),\n",
       "  Text(3, 0, 'Tampa'),\n",
       "  Text(4, 0, 'Burke'),\n",
       "  Text(5, 0, 'Washington'),\n",
       "  Text(6, 0, 'Hesperia'),\n",
       "  Text(7, 0, 'Glendale'),\n",
       "  Text(8, 0, 'Aurora')])"
      ]
     },
     "execution_count": 34,
     "metadata": {},
     "output_type": "execute_result"
    },
    {
     "data": {
      "image/png": "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",
      "text/plain": [
       "<Figure size 640x480 with 1 Axes>"
      ]
     },
     "metadata": {},
     "output_type": "display_data"
    }
   ],
   "source": [
    "# Convert the types of column in pandas dataframe \n",
    "\n",
    "claim_amount=ins_claim_fraud[\"CLAIM_AMOUNT\"].head(12).astype(str) \n",
    "\n",
    "incident_city=ins_claim_fraud[\"INCIDENT_CITY\"].head(12).astype(str) \n",
    "\n",
    "plt.bar(incident_city,claim_amount, color=\"r\" , alpha=0.75, align=\"center\") \n",
    "\n",
    "plt.xticks(rotation=90) "
   ]
  },
  {
   "cell_type": "markdown",
   "metadata": {},
   "source": [
    "# Are false claims more likely to be made later on in the day?\n",
    "------\n",
    "### Is there any correlation/what times are most common to receive false claims?"
   ]
  },
  {
   "cell_type": "code",
<<<<<<< HEAD
   "execution_count": 313,
>>>>>>> a7007439983845820796e4be5ab5fe9a887899f2
=======
   "execution_count": 35,
>>>>>>> 2eb3fb25d3da2720856cae718ec726279d514a06
   "metadata": {},
   "outputs": [
    {
     "name": "stdout",
     "output_type": "stream",
     "text": [
      "The r value is: 0.297\n"
     ]
    },
    {
     "data": {
      "image/png": "iVBORw0KGgoAAAANSUhEUgAAAjsAAAHFCAYAAAAUpjivAAAAOXRFWHRTb2Z0d2FyZQBNYXRwbG90bGliIHZlcnNpb24zLjcuMiwgaHR0cHM6Ly9tYXRwbG90bGliLm9yZy8pXeV/AAAACXBIWXMAAA9hAAAPYQGoP6dpAABjKElEQVR4nO3deVhUdd8G8HvYFWFk2FHEnUTcwMytNEHFxCUrtDTFrdwl1Fx6CikfUculNC2VNLWip9JcMpRyDxeEUEgyNRfMIVIMRGVxOO8f553RcQadGWaYYbg/13UunN/ZvjNn8Hz5bUciCIIAIiIiIitlY+4AiIiIiEyJyQ4RERFZNSY7REREZNWY7BAREZFVY7JDREREVo3JDhEREVk1JjtERERk1ZjsEBERkVVjskNERERWjckO0WNs3LgREokETk5OuHz5ssb6nj17Ijg42AyRAQcOHIBEIsG3335rlvPr69KlS+jfvz9kMhkkEgliYmIeuX1paSlWrVqF7t27w83NDQ4ODmjQoAGioqJw8OBB1XbKz+HAgQN6x1SVfa3R475TU6ZMgUQiqeaoiKrGztwBENUUpaWl+M9//oPNmzebO5Qa64033sDx48fx2WefwcfHB76+vpVue/36dUREROD06dMYM2YMZs2aBZlMhr/++gvbt29HWFgY0tPT0a5duyrFFBISgqNHjyIoKKhKxyEiy8Vkh0hHERER+PLLLzFz5swq32Brmrt378LJyanKf9FnZ2ejU6dOGDx48GO3HTlyJE6dOoU9e/agV69eauuGDRuG2NhYuLm5VSkeAHB1dUXnzp2rfJya5M6dO6hbt665w9BLeXk5JBIJ7Ox42yL9sRmLSEdvvvkm3N3dMXv27Edud+nSJUgkEmzcuFFjnUQiwfz581Wv58+fD4lEgtOnT+Oll16CVCqFTCZDbGws7t27h7NnzyIiIgIuLi5o3LgxlixZovWcJSUliI2NhY+PD+rUqYMePXrg119/1dju5MmTGDhwIGQyGZycnNChQwf873//U9tG2Wy3d+9ejBkzBp6enqhbty5KS0srfc9XrlzBiBEj4OXlBUdHR7Rq1QpLly5FRUUFgPtNI+fPn8ePP/4IiUQCiUSCS5cuaT1eeno6fvzxR4wdO1Yj0VF68skn0ahRo0pjOnnyJIYNG4bGjRujTp06aNy4MV5++WWNpkhtzVjR0dGoV68efv/9d/Tt2xfOzs7w9fXFokWLAADHjh1D9+7d4ezsjJYtW+Lzzz9XO+adO3cwc+ZMNGnSBE5OTpDJZOjYsSO++uqrSuMF7n/2KSkpGD16NGQyGZydnTFgwAD8+eefGtv/9NNPCAsLg6urK+rWrYtu3brh559/VttG+R3LyMjAiy++CDc3NzRr1uyRceiroqICS5YswRNPPAFHR0d4eXlh5MiRuHr1qtp2jRs3RnR0tMb+PXv2RM+ePVWvlddk8+bNmDFjBho0aABHR0ecP3/eqHFT7cFkh0hHLi4u+M9//oM9e/Zg3759Rj12VFQU2rVrh++++w7jx4/H8uXL8cYbb2Dw4MHo378/tm3bhl69emH27NnYunWrxv7z5s3Dn3/+ifXr12P9+vW4du0aevbsqXaD3L9/P7p164Z///0Xn3zyCbZv34727dtj6NChWhOzMWPGwN7eHps3b8a3334Le3t7rbH/888/6Nq1K/bu3Yv33nsPO3bsQHh4OGbOnIkpU6YAuN9U5OPjg27duuHo0aM4evRopc1Ye/fuBQCdaoAqc+nSJQQGBmLFihXYs2cPFi9eDLlcjieffBLXr19/7P7l5eUYMmQI+vfvj+3bt6Nfv36YO3cu5s2bh1GjRmHMmDHYtm0bAgMDER0djfT0dNW+sbGxWLNmDaZNm4bk5GRs3rwZL730Em7cuKFT7GPHjoWNjQ2+/PJLrFixAidOnEDPnj3x77//qrbZsmUL+vTpA1dXV3z++ef43//+B5lMhr59+2okPAAwZMgQNG/eHN988w0++eSTx8ZQUVGBe/fuaSyCIGhsO3HiRMyePRu9e/fGjh078N577yE5ORldu3bV6bOuzNy5c3HlyhV88skn2LlzJ7y8vAw+FtVyAhE90oYNGwQAQlpamlBaWio0bdpU6Nixo1BRUSEIgiD06NFDaN26tWr7ixcvCgCEDRs2aBwLgBAXF6d6HRcXJwAQli5dqrZd+/btBQDC1q1bVWXl5eWCp6enMGTIEFXZ/v37BQBCSEiIKh5BEIRLly4J9vb2wrhx41RlTzzxhNChQwehvLxc7VyRkZGCr6+voFAo1N7vyJEjdfp85syZIwAQjh8/rlY+ceJEQSKRCGfPnlWVBQQECP3793/sMSdMmCAAEH7//XedYlB+Dvv37690m3v37gnFxcWCs7Oz8OGHHz5y31GjRgkAhO+++05Vpvz8AQgZGRmq8hs3bgi2trZCbGysqiw4OFgYPHiwTrE/SPnZP//882rlv/zyiwBAWLBggSAIgnD79m1BJpMJAwYMUNtOoVAI7dq1Ezp16qQqU37H3nnnHZ1iUH4ej1uUcnJyBADCpEmT1I5z/PhxAYAwb948VVlAQIAwatQojXP26NFD6NGjh0YMzzzzjE4xEz0Oa3aI9ODg4IAFCxbg5MmTGs0/VREZGan2ulWrVpBIJOjXr5+qzM7ODs2bN9c6IuyVV15R608TEBCArl27Yv/+/QCA8+fP4/fff8fw4cMBQO0v9eeeew5yuRxnz55VO+YLL7ygU+z79u1DUFAQOnXqpFYeHR0NQRCMXgumq+LiYsyePRvNmzeHnZ0d7OzsUK9ePdy+fRs5OTmP3V8ikeC5555TvVZ+/r6+vujQoYOqXCaTwcvLS+26dOrUCT/++CPmzJmDAwcO4O7du3rFrrxOSl27dkVAQIDqeqampqKgoACjRo1Su5YVFRWIiIhAWloabt++rXYMXa+n0uLFi5GWlqaxREVFqW2njOnh5qlOnTqhVatWWmuZdKVvzESVYU8vIj0NGzYMH3zwAd566y0MGTLEKMeUyWRqrx0cHFC3bl04OTlplBcVFWns7+Pjo7Xs1KlTAIC///4bADBz5kzMnDlTawwPNzc8aqTUg27cuIHGjRtrlPv5+anW60vZF+fixYsIDAzUe39ATAB//vlnvP3223jyySfh6uqqSmB0ST4q+/wfvlbK8pKSEtXrjz76CA0bNsTXX3+NxYsXw8nJCX379sX777+PFi1aPPbclV1P5WepvJ4vvvhipccoKCiAs7Oz6rWu11OpadOm6Nixo0a5p6en2mtlTNqO7+fnpzU515W+MRNVhskOkZ4kEgkWL16M3r17Y+3atRrrlTfIhzv0GnLT11VeXp7WMnd3dwCAh4cHALEPRGUJ2sNJha4jr9zd3SGXyzXKr127pnZuffTt2xfz5s3D999/j4iICL33LywsxK5duxAXF4c5c+aoyktLS1FQUKD38fTl7OyM+Ph4xMfH4++//1bV8gwYMAC///77Y/ev7Ho2b94cwP3PdOXKlZWOJPP29lZ7baq5cZTfMblcjoYNG6qtu3btmtr1d3Jy0trR/fr161q/J5zPh4yFzVhEBggPD0fv3r3x7rvvori4WG2dt7c3nJyccPr0abXy7du3myyer776Sq3j6OXLl5Gamqoa4RIYGIgWLVrg1KlT6Nixo9bFxcXFoHOHhYXhzJkzyMjIUCvftGkTJBIJnn32Wb2PGRISgn79+iExMbHSZrCTJ0/iypUrWtdJJBIIggBHR0e18vXr10OhUOgdT1V4e3sjOjoaL7/8Ms6ePYs7d+48dp8vvvhC7XVqaiouX76sup7dunVD/fr1cebMmUqvp4ODgynejgblaLktW7aolaelpSEnJwdhYWGqssaNG2v8Xvzxxx8aTahExsaaHSIDLV68GKGhocjPz0fr1q1V5RKJBCNGjMBnn32GZs2aoV27djhx4gS+/PJLk8WSn5+P559/HuPHj0dhYSHi4uLg5OSEuXPnqrb59NNP0a9fP/Tt2xfR0dFo0KABCgoKkJOTg4yMDHzzzTcGnfuNN97Apk2b0L9/f7z77rsICAjADz/8gNWrV2PixIlo2bKlQcfdtGkTIiIi0K9fP4wZMwb9+vWDm5sb5HI5du7cia+++grp6elah5+7urrimWeewfvvvw8PDw80btwYBw8eRGJiIurXr29QPPp46qmnEBkZibZt28LNzQ05OTnYvHkzunTpotP8NidPnsS4cePw0ksvITc3F2+99RYaNGiASZMmAQDq1auHlStXYtSoUSgoKMCLL74ILy8v/PPPPzh16hT++ecfrFmzxtRvE4CYSL/22mtYuXIlbGxs0K9fP1y6dAlvv/02/P398cYbb6i2ffXVVzFixAhMmjQJL7zwAi5fvowlS5ZoNI0RGRuTHSIDdejQAS+//LLWJGbp0qUAgCVLlqC4uBi9evXCrl27tPZtMYaFCxciLS0No0ePRlFRETp16oSkpCS1+VSeffZZnDhxAv/9738RExODmzdvwt3dHUFBQRqdTvXh6emJ1NRUzJ07F3PnzkVRURGaNm2KJUuWIDY21uDjenh44MiRI1i3bh2++uorfPnll7hz5w68vLzQuXNn7Nix45GTO3755ZeYPn063nzzTdy7dw/dunVDSkoK+vfvb3BMuurVqxd27NiB5cuX486dO2jQoAFGjhyJt956S6f9ExMTsXnzZgwbNgylpaV49tln8eGHH6r1FxoxYgQaNWqEJUuW4PXXX8etW7fg5eWF9u3ba53LxpTWrFmDZs2aITExER9//DGkUikiIiKQkJCgauYCxH5U165dwyeffIINGzYgODgYa9asQXx8fLXGS7WPRBC0TJpARETVbuPGjRg9ejTS0tK0dg4mIsOwzw4RERFZNSY7REREZNXYjEVERERWjTU7REREZNWY7BAREZFVY7JDREREVo3z7ACoqKjAtWvX4OLiwunJiYiIaghBEHDr1i34+fnBxqby+hsmOxCf3+Lv72/uMIiIiMgAubm5Gs9mexCTHUD1TKDc3Fy4urqaORoiIiLSRVFREfz9/R/7bD8mO7j/ZF1XV1cmO0RERDXM47qgsIMyERERWTUmO0RERGTVmOwQERGRVWOyQ0RERFaNyQ4RERFZNSY7REREZNWY7BAREZFVY7JDREREVo3JDhEREVk1zqBMRFSLKCoEnLhYgPxbJfBycUKnJjLY2vAByGTdmOwQEdUSydlyxO88A3lhiarMV+qEuAFBiAj2NWNkRKbFZiwiologOVuOiVsy1BIdAMgrLMHELRlIzpabKTIi02OyQ0Rk5RQVAuJ3noGgZZ2yLH7nGSgqtG1BVPMx2SHSg6JCwNELN7A98y8cvXCDNweqEU5cLNCo0XmQAEBeWIITFwuqLyiiasQ+O0Q6Yn8Hqqnyb1We6BiyHVFNw5odIh2wvwPVZF4uTkbdjqimYbJD9Bjs70A1XacmMvhKnVDZAHMJxFrKTk1k1RkWUbVhskP0GOzvQDWdrY0EcQOCAEAj4VG+jhsQxPl2yGpZTLKTkJAAiUSCmJgYtfKcnBwMHDgQUqkULi4u6Ny5M65cuaJaX1paiqlTp8LDwwPOzs4YOHAgrl69Ws3RkzVjfweyBhHBvlgzIgQ+UvWmKh+pE9aMCGG/M7JqFtFBOS0tDWvXrkXbtm3Vyi9cuIDu3btj7NixiI+Ph1QqRU5ODpyc7v+yxsTEYOfOnUhKSoK7uztmzJiByMhIpKenw9bWtrrfClkh9ncgaxER7IveQT6cQZlqHbMnO8XFxRg+fDjWrVuHBQsWqK1766238Nxzz2HJkiWqsqZNm6r+XVhYiMTERGzevBnh4eEAgC1btsDf3x8//fQT+vbtWz1vgqyasr9DXmGJ1n47Eoh/HbO/A9UEtjYSdGnmbu4wiKqV2ZuxJk+ejP79+6uSFaWKigr88MMPaNmyJfr27QsvLy889dRT+P7771XbpKeno7y8HH369FGV+fn5ITg4GKmpqZWes7S0FEVFRWoLUWXY34GIqGYza7KTlJSEjIwMJCQkaKzLz89HcXExFi1ahIiICOzduxfPP/88hgwZgoMHDwIA8vLy4ODgADc3N7V9vb29kZeXV+l5ExISIJVKVYu/v79x3xhZHfZ3ICKquczWjJWbm4vp06dj7969an1wlCoqKgAAgwYNwhtvvAEAaN++PVJTU/HJJ5+gR48elR5bEARIJJX/lT137lzExsaqXhcVFTHhocdifwcioprJbMlOeno68vPzERoaqipTKBQ4dOgQVq1ahdu3b8POzg5BQUFq+7Vq1QpHjhwBAPj4+KCsrAw3b95Uq93Jz89H165dKz23o6MjHB0djfyOqDZgfwcioprHbM1YYWFhyMrKQmZmpmrp2LEjhg8fjszMTDg6OuLJJ5/E2bNn1fb7448/EBAQAAAIDQ2Fvb09UlJSVOvlcjmys7MfmewQERFR7WG2mh0XFxcEBwerlTk7O8Pd3V1VPmvWLAwdOhTPPPMMnn32WSQnJ2Pnzp04cOAAAEAqlWLs2LGYMWMG3N3dIZPJMHPmTLRp00ajwzMRERHVTmYfev4ozz//PD755BMkJCRg2rRpCAwMxHfffYfu3burtlm+fDns7OwQFRWFu3fvIiwsDBs3buQcO0RERAQAkAiCUOsf6FNUVASpVIrCwkK4urqaOxwiIiLSga73b7PPs0NERERkSkx2iIiIyKox2SEiIiKrxmSHiIiIrBqTHSIiIrJqTHaIiIjIqjHZISIiIqvGZIeIiIisGpMdIiIismpMdoiIiMiqMdkhIiIiq8Zkh4iIiKwakx0iIiKyakx2iIiIyKox2SEiIiKrxmSHiIiIrBqTHSIiIrJqTHaIiIjIqjHZISIiIqvGZIeIiIisGpMdIiIismpMdoiIiMiqMdkhIiIiq8Zkh4iIiKwakx0iIiKyakx2iIiIyKox2SEiIiKrxmSHiIiIrBqTHSIiIrJqTHaIiIjIqjHZISIiIqvGZIeIiIismsUkOwkJCZBIJIiJiVGVRUdHQyKRqC2dO3dW26+0tBRTp06Fh4cHnJ2dMXDgQFy9erWaoyciIiJLZRHJTlpaGtauXYu2bdtqrIuIiIBcLlctu3fvVlsfExODbdu2ISkpCUeOHEFxcTEiIyOhUCiqK3wiIiKyYGZPdoqLizF8+HCsW7cObm5uGusdHR3h4+OjWmQymWpdYWEhEhMTsXTpUoSHh6NDhw7YsmULsrKy8NNPP1Xn2yAiIiILZfZkZ/Lkyejfvz/Cw8O1rj9w4AC8vLzQsmVLjB8/Hvn5+ap16enpKC8vR58+fVRlfn5+CA4ORmpqaqXnLC0tRVFRkdpCRERE1snOnCdPSkpCRkYG0tLStK7v168fXnrpJQQEBODixYt4++230atXL6Snp8PR0RF5eXlwcHDQqBHy9vZGXl5epedNSEhAfHy8Ud8LERERWSazJTu5ubmYPn069u7dCycnJ63bDB06VPXv4OBgdOzYEQEBAfjhhx8wZMiQSo8tCAIkEkml6+fOnYvY2FjV66KiIvj7+xvwLoiIiMjSmS3ZSU9PR35+PkJDQ1VlCoUChw4dwqpVq1BaWgpbW1u1fXx9fREQEIBz584BAHx8fFBWVoabN2+q1e7k5+eja9eulZ7b0dERjo6ORn5HREREZInM1mcnLCwMWVlZyMzMVC0dO3bE8OHDkZmZqZHoAMCNGzeQm5sLX19fAEBoaCjs7e2RkpKi2kYulyM7O/uRyQ4RERHVHmar2XFxcUFwcLBambOzM9zd3REcHIzi4mLMnz8fL7zwAnx9fXHp0iXMmzcPHh4eeP755wEAUqkUY8eOxYwZM+Du7g6ZTIaZM2eiTZs2lXZ4JiIiotrFrB2UH8XW1hZZWVnYtGkT/v33X/j6+uLZZ5/F119/DRcXF9V2y5cvh52dHaKionD37l2EhYVh48aNWmuGiIiIqPaRCIIgmDsIcysqKoJUKkVhYSFcXV3NHQ4RERHpQNf7t9nn2SEiIiIyJSY7REREZNWY7BAREZFVY7JDREREVo3JDhEREVk1JjtERERk1ZjsEBERkVVjskNERERWjckOERERWTWLfVwEERGRoRQVAk5cLED+rRJ4uTihUxMZbG0k5g6LzITJDhERWZXkbDnid56BvLBEVeYrdULcgCBEBPuaMTIyFzZjERGR1UjOlmPilgy1RAcA8gpLMHFLBpKz5WaKjMyJyQ4REVkFRYWA+J1noO3p1sqy+J1noKio9c+/rnWY7BARkVU4cbFAo0bnQQIAeWEJTlwsqL6gyCIw2SEiIquQf6vyRMeQ7ch6MNkhIiKr4OXiZNTtyHow2SEiIqvQqYkMvlInVDbAXAJxVFanJrLqDIssAJMdIiKyCrY2EsQNCAIAjYRH+TpuQBDn26mFmOwQEZHViAj2xZoRIfCRqjdV+UidsGZECOfZqaU4qSAREVmViGBf9A7y4QzKpMJkh4iIrI6tjQRdmrmbOwyyEGzGIiIiIqvGZIeIiIisGpMdIiIismpMdoiIiMiqMdkhIiIiq8bRWEREZBEUFQKHi5NJMNkhIiKzS86WI37nGbWnlvtKnRA3IIgTAVKVsRmLiIjMKjlbjolbMtQSHQDIKyzBxC0ZSM6WmykyshZMdoiIyGwUFQLid56BoGWdsix+5xkoKrRtQaQbJjtERGQ2Jy4WaNToPEgAIC8swYmLBdUXVC2nqBBw9MINbM/8C0cv3LCKRNNikp2EhARIJBLExMRoXf/6669DIpFgxYoVauWlpaWYOnUqPDw84OzsjIEDB+Lq1aumD5iIiKos/1bliY4h21HVJGfL0X3xPry87himJ2Xi5XXH0H3xvhrflGgRyU5aWhrWrl2Ltm3bal3//fff4/jx4/Dz89NYFxMTg23btiEpKQlHjhxBcXExIiMjoVAoTB02ERFVkZeL0+M30mM7Mpw1950ye7JTXFyM4cOHY926dXBzc9NY/9dff2HKlCn44osvYG9vr7ausLAQiYmJWLp0KcLDw9GhQwds2bIFWVlZ+Omnn6rrLRARkYE6NZHBV+qEygaYSyCOyurURFadYdU61t53yuzJzuTJk9G/f3+Eh4drrKuoqMCrr76KWbNmoXXr1hrr09PTUV5ejj59+qjK/Pz8EBwcjNTU1ErPWVpaiqKiIrWFiIiqn62NBHEDggBAI+FRvo4bEMT5dkzM2vtOmTXZSUpKQkZGBhISErSuX7x4Mezs7DBt2jSt6/Py8uDg4KBRI+Tt7Y28vLxKz5uQkACpVKpa/P39DX8TRERUJRHBvlgzIgQ+UvWmKh+pE9aMCOE8O9XA2vtOmW1SwdzcXEyfPh179+6Fk5NmW2x6ejo+/PBDZGRkQCLRL6MXBOGR+8ydOxexsbGq10VFRUx4iIjMKCLYF72DfDiDsplYe98ps9XspKenIz8/H6GhobCzs4OdnR0OHjyIjz76CHZ2djhw4ADy8/PRqFEj1frLly9jxowZaNy4MQDAx8cHZWVluHnzptqx8/Pz4e3tXem5HR0d4erqqrYQEZF52dpI0KWZOwa1b4AuzdyZ6FQja+87ZbZkJywsDFlZWcjMzFQtHTt2xPDhw5GZmYno6GicPn1abb2fnx9mzZqFPXv2AABCQ0Nhb2+PlJQU1XHlcjmys7PRtWtXc701IiKiGsXa+06ZrRnLxcUFwcHBamXOzs5wd3dXlbu7u6utt7e3h4+PDwIDAwEAUqkUY8eOxYwZM+Du7g6ZTIaZM2eiTZs2Wjs8ExERkXbKvlMPP6PMxwqeUVbjHwS6fPly2NnZISoqCnfv3kVYWBg2btwIW1tbc4dGRERUo1hr3ymJIAg1c9C8ERUVFUEqlaKwsJD9d4iIiGoIXe/fZp9nh4iIiMiUmOwQERGRVWOyQ0RERFaNyQ4RERFZNSY7REREZNWY7BAREZFVq/Hz7BCR5VNUCFY3bwcR1RxGSXb+/fdf1K9f3xiHIiIrk5wt15iR1dcKZmQloppD72asxYsX4+uvv1a9joqKgru7Oxo0aIBTp04ZNTgiqtmSs+WYuCVDLdEBgLzCEkzckoHkbLmZIiOi2kTvZOfTTz+Fv78/ACAlJQUpKSn48ccf0a9fP8yaNcvoARJRzaSoEBC/8wy0TdGuLIvfeQaKilo/iTsRmZjezVhyuVyV7OzatQtRUVHo06cPGjdujKeeesroARJRzXTiYoFGjc6DBADywhKcuFiALs3cK92OiKiq9K7ZcXNzQ25uLgAgOTlZ9XRxQRCgUCiMGx0R1Vj5typPdAzZjojIUHrX7AwZMgSvvPIKWrRogRs3bqBfv34AgMzMTDRv3tzoARJRzeTl4mTU7YiIDKV3srN8+XI0btwYubm5WLJkCerVqwdAbN6aNGmS0QMkopqpUxMZfKVOyCss0dpvRwLARyoOQyciMiWJIAi1vnegro+Ip5qH87uYl3I0FgC1hEd5BdaMCOHwcyIymK73b4Pm2fnrr7/wyy+/ID8/HxUVFWrrpk2bZsghiYyO87uYX0SwL9aMCNG4Dj68DkRUjfSu2dmwYQMmTJgABwcHuLu7QyK5/1eyRCLBn3/+afQgTY01O9ZHWaPw8JebNQrmwRo2IjIFXe/feic7/v7+mDBhAubOnQsbG+t4tBaTHeuiqBDQffG+Soc9K/uKHJndizdcIqIaTNf7t97Zyp07dzBs2DCrSXTI+ugzvwsREVk/vTOWsWPH4ptvvjFFLERGwfldiIjoQXp3UE5ISEBkZCSSk5PRpk0b2Nvbq61ftmyZ0YIjMgTndyEiogfpnewsXLgQe/bsQWBgIABodFAmMjfO70JERA/SO9lZtmwZPvvsM0RHR5sgHKKqs7WRIG5AECZuyYAE2ud3iRsQxM7JRES1hN59dhwdHdGtWzdTxEJkNMr5XXyk6k1VPlInDjsnIqpl9B56npCQALlcjo8++shUMVU7Dj23XpzfhYjIeplsBuUTJ05g37592LVrF1q3bq3RQXnr1q36R0tkIrY2EnRp5m7uMIiIyIz0Tnbq16+PIUOGmCIWIiIiIqPTO9nZsGGDKeIgIiIiMglOg0xERERWTaeanZCQEPz8889wc3NDhw4dHjmfTkZGhtGCIyIiIqoqnZKdQYMGwdHREQAwePBgU8ZDREREZFR6Dz23Rhx6TkREj8JpLCyTyZ56bioJCQmQSCSIiYlRlc2fPx9PPPEEnJ2d4ebmhvDwcBw/flxtv9LSUkydOhUeHh5wdnbGwIEDcfXq1WqOnoiIrFVythzdF+/Dy+uOYXpSJl5edwzdF+9Dcrbc3KGRjvROdhQKBT744AN06tQJPj4+kMlkaosh0tLSsHbtWrRt21atvGXLlli1ahWysrJw5MgRNG7cGH369ME///yj2iYmJgbbtm1DUlISjhw5guLiYkRGRkKhUBgUCxERkVJythwTt2RAXliiVp5XWIKJWzKY8NQQeic78fHxWLZsGaKiolBYWIjY2FgMGTIENjY2mD9/vt4BFBcXY/jw4Vi3bh3c3NzU1r3yyisIDw9H06ZN0bp1ayxbtgxFRUU4ffo0AKCwsBCJiYlYunQpwsPD0aFDB2zZsgVZWVn46aef9I6FiIhISVEhIH7nGa0PFFaWxe88A0VFre8NYvH0Tna++OILrFu3DjNnzoSdnR1efvllrF+/Hu+88w6OHTumdwCTJ09G//79ER4e/sjtysrKsHbtWkilUrRr1w4AkJ6ejvLycvTp00e1nZ+fH4KDg5GamlrpsUpLS1FUVKS2EBERPejExQKNGp0HCQDkhSU4cbGg+oIig+id7OTl5aFNmzYAgHr16qGwsBAAEBkZiR9++EGvYyUlJSEjIwMJCQmVbrNr1y7Uq1cPTk5OWL58OVJSUuDh4aGKxcHBQaNGyNvbG3l5eZUeMyEhAVKpVLX4+/vrFTcREVm//FuVJzqGbEfmo3ey07BhQ8jlYhtl8+bNsXfvXgBivxvl8HRd5ObmYvr06diyZQucnJwq3e7ZZ59FZmYmUlNTERERgaioKOTn5z/y2IIgPHIuoLlz56KwsFC15Obm6hw3ERHVDl4uld+bDNmOzEfvZOf555/Hzz//DACYPn063n77bbRo0QIjR47EmDFjdD5Oeno68vPzERoaCjs7O9jZ2eHgwYP46KOPYGdnp+pg7OzsjObNm6Nz585ITEyEnZ0dEhMTAQA+Pj4oKyvDzZs31Y6dn58Pb2/vSs/t6OgIV1dXtYWIiOhBnZrI4Ct1QmV/OksA+ErFYehk2fR+NtaiRYtU/37xxRfRsGFDpKamonnz5hg4cKDOxwkLC0NWVpZa2ejRo/HEE09g9uzZsLW11bqfIAgoLS0FAISGhsLe3h4pKSmIiooCAMjlcmRnZ2PJkiX6vjUiIiIVWxsJ4gYEYeKWDEgAtY7KygQobkAQ59upAfROdh7WuXNndO7cWe/9XFxcEBwcrFbm7OwMd3d3BAcH4/bt2/jvf/+LgQMHwtfXFzdu3MDq1atx9epVvPTSSwAAqVSKsWPHYsaMGXB3d4dMJsPMmTPRpk2bx3Z4JiIiepyIYF+sGRGC+J1n1Dor+0idEDcgCBHBvmaMjnSlU7KzY8cOnQ+oT+3Oo9ja2uL333/H559/juvXr8Pd3R1PPvkkDh8+jNatW6u2W758Oezs7BAVFYW7d+8iLCwMGzdurLRmiIiISB8Rwb7oHeTDGZRrMJ0eF2Fjo1vXHolEUiMn8+PjIoiIiGoeXe/fOtXsVFRUGC0wIiIioupkMc/GIiIiIjIFnZOdffv2ISgoSOtsw4WFhWjdujUOHTpk1OCIiIiIqkrnZGfFihUYP3681jYxqVSK119/HcuXLzdqcERERERVpXOyc+rUKURERFS6vk+fPkhPTzdKUERERGQl7twBHpr8t7rpnOz8/fffsLe3r3S9nZ0d/vnnH6MERURERDXQv/8Cq1cDISGARCIuzs6ATAacOGG2sHSeVLBBgwbIyspC8+bNta4/ffo0fH05uRIREVGt8PffwOefA+vXA+fOPX57qdT0MVVC55qd5557Du+88w5KSjSf7nr37l3ExcUhMjLSqMERERGRBbh0CXjnHcDP736NjY8PMHv2oxOdl14C9uwB7t0DAgOrLdyH6TSpICA2Y4WEhMDW1hZTpkxBYGAgJBIJcnJy8PHHH0OhUCAjI+ORD+C0VJxUkIiI6P99+y3w2mv697MZPRoYNw7o0kVMhqqBUScVBABvb2+kpqZi4sSJmDt3LpQ5kkQiQd++fbF69eoamegQERHVSoIAfPwxMHWqfvvVqSMmNWPHAu3amSY2I9PrQaABAQHYvXs3bt68ifPnz0MQBLRo0QJubm6mio+IiIiqSqEA4uKA//5Xv/08PcXEZswYoJI+uzWBQU89d3Nzw5NPPmnsWIiIiKiqSkqAKVOAxET993V2BvbvB6zsHm9QskNEREQWIC8PMHQkdLNmwI8/Ai1aGDcmC8RnYxEREdUEOTn3R0IpF10TnW7dALlc7KejXM6frxWJDsBkh4iIyPIcOqSZ2AQF6bbvCy8AhYXqic2RI+JQ8VpKp2QnJCQEN/9/CNq7776LO3fumDQoIiKiWuPrrzUTmx49dNu3SRPxcQwPJjbffgtwGhU1OiU7OTk5uH37NgAgPj4excXFJg2KiIjIKo0bp5nYDBum2769e4uT8z2Y2Pz5pzgUnB5Jpw7K7du3x+jRo9G9e3cIgoAPPvgA9erV07rtO++8Y9QAiYiIahxBEEc0GfqA7MmTgVWrjBtTLabTDMpnz55FXFwcLly4gIyMDAQFBcHOTjNPkkgkyMjIMEmgpsQZlImIyGD37gGPeFD2Yy1dCsTGGi+eWkTX+7fOj4tQsrGxQV5eHry8vKocpKVgskNERDq5datq/WGWLQPeeMN48dRyRn9chFJFRUWVAiMiIqoRLlyo2qzB338PDBpktHDIcAZNKnjhwgWsWLECOTk5kEgkaNWqFaZPn45mzZoZOz4iIiLTO3RI9xFQ2qSlAR07Gi8eMiq959nZs2cPgoKCcOLECbRt2xbBwcE4fvw4WrdujZSUFFPESEREZDyff274UG8AuHxZfUSUIDDRsXB699np0KED+vbti0WLFqmVz5kzB3v37mUHZSIishxz5gCLFxu+/40bgExmvHjIqEzWQdnJyQlZWVlo8dAU03/88Qfatm2LkpISwyI2IyY7RERWoHlzsZ+NoUpLAQcH48VDJqfr/VvvZixPT09kZmZqlGdmZlrVCC0iIrJgDzdDSST6JToVFZpNUUx0rJbeHZTHjx+P1157DX/++Se6du0KiUSCI0eOYPHixZgxY4YpYiQiotpKoQC0zOumMzc3oKDAePFQjaR3M5YgCFixYgWWLl2Ka9euAQD8/Pwwa9YsTJs2DRKJxCSBmhKbsYiILEBxMeDiYvj+/foBu3cbLx6yeCbrs/OgW7duAQBcqvLltABMdoiIqlluLtCokeH7v/028O67xouHaiSTTSr4oJqe5BARUTU4fhzo3Nnw/f/3P+Cll4wXD9U6VUp2iIiI1CQlAS+/bPj+2dlA69bGi4cIBozGMpWEhARIJBLExMQAAMrLyzF79my0adMGzs7O8PPzw8iRI1X9hJRKS0sxdepUeHh4wNnZGQMHDsTVq1fN8A6IiGqZiRM1R0Tpk+j8/bfmiCgmOmQCFpHspKWlYe3atWjbtq2q7M6dO8jIyMDbb7+NjIwMbN26FX/88QcGDhyotm9MTAy2bduGpKQkHDlyBMXFxYiMjIRCoajut0FEZL06dNBMbD75RPf9S0o0ExtOV0LVRK8OyuXl5ejTpw8+/fRTtGzZ0igBFBcXIyQkBKtXr8aCBQvQvn17rFixQuu2aWlp6NSpEy5fvoxGjRqhsLAQnp6e2Lx5M4YOHQoAuHbtGvz9/bF792707dtXpxjYQZmI6AFVHVVbUVH1YxDpwCSTCtrb2yM7O9uow8snT56M/v37Izw8/LHbFhYWQiKRoH79+gCA9PR0VQKm5Ofnh+DgYKSmphotRiIiq6RMSh5e9PFwbY0gMNEhi6N3M9bIkSORmJholJMnJSUhIyMDCQkJj922pKQEc+bMwSuvvKLK3vLy8uDg4AA3Nze1bb29vZGXl1fpsUpLS1FUVKS2EBFZtVu3NJMaW1vd93/6ae2JDVENoPdorLKyMqxfvx4pKSno2LEjnJ2d1dYvW7ZMp+Pk5uZi+vTp2Lt3L5ycnB65bXl5OYYNG4aKigqsXr36sccWBOGRtU8JCQmIj4/XKU4iohrn4kWgaVPD958xA/jgA+PFQ2Rmeic72dnZCAkJASA+/PNB+jRvpaenIz8/H6GhoaoyhUKBQ4cOYdWqVSgtLYWtrS3Ky8sRFRWFixcvYt++fWptcj4+PigrK8PNmzfVanfy8/PRtWvXSs89d+5cxMbGql4XFRXB399f59iJiCzGoUNAjx6G779xIzBqlNHCIbJEeic7+/fvN8qJw8LCkJWVpVY2evRoPPHEE5g9e7ZaonPu3Dns378f7u7uatuHhobC3t4eKSkpiIqKAgDI5XJkZ2djyZIllZ7b0dERjo6ORnkfRETVZt064LXXDN//wIGqJUZENZTBkwqeP38eFy5cwDPPPIM6deo8tunoYS4uLggODlYrc3Z2hru7O4KDg3Hv3j28+OKLyMjIwK5du6BQKFT9cGQyGRwcHCCVSjF27FjMmDED7u7ukMlkmDlzJtq0aaNTh2ciIos1aRKwZo3h+//5J9CkifHiIarB9E52bty4gaioKOzfvx8SiQTnzp1D06ZNMW7cONSvXx9Lly41SmBXr17Fjh07AADt27dXW7d//3707NkTALB8+XLY2dkhKioKd+/eRVhYGDZu3AhbfTreERGZU7t2wOnThu9fVFS1B2gSWTm9HwQ6cuRI5OfnY/369WjVqhVOnTqFpk2bYu/evXjjjTfw22+/mSpWk+E8O0RUbao6LFuhAGwsYj5YIrMz2YNA9+7diz179qBhw4Zq5S1atMDly5f1j5SIyBoJQtWTEg7tJjIKvX8Tb9++jbp162qUX79+nZ1+iah2unNHcw4bfRKdgADOYUNkQnonO8888ww2bdqkei2RSFBRUYH3338fzz77rFGDIyKyOFevaiY2D8039kgjRmgmNZcumSxcIjKgGev9999Hz549cfLkSZSVleHNN9/Eb7/9hoKCAvzyyy+miJGIyDyOHwc6dzZ8/+XLgZgYo4VDRIbRu2YnKCgIp0+fRqdOndC7d2/cvn0bQ4YMwa+//opmzZqZIkYiItPbskWzxkafRCc5WbPGhokOkUXQezSWNeJoLKJaZtasqj0O4fffgcBA48VDRAYx2WgsALh58yYSExORk5MDiUSCVq1aYfTo0ZDJZAYHTERkEk8/DRw5Yvj+BQXAQw8bJqKaRe9mrIMHD6JJkyb46KOPcPPmTRQUFOCjjz5CkyZNcPDgQVPESESkm4eboSQS/RKd8nLNpigmOkQ1nt7NWMHBwejatSvWrFmjmqVYoVBg0qRJ+OWXX5CdnW2SQE2JzVhENQznsCEi6H7/1vt/iwsXLmDGjBlqj2OwtbVFbGwsLly4YFi0RESVKSur2hw29etzDhuiWk7vZCckJAQ5OTka5Tk5ORrPsCIi0suNG5qJjT6TlQ4cqJnU3LxpuniJqEbQqYPy6QceUDdt2jRMnz4d58+fR+f/H5Z57NgxfPzxx1i0aJFpoiQi65OTAwQFGb7/6tXAxInGi4eIrJZOfXZsbGwgkUjwuE0lEgkUCoXRgqsu7LNDZGJ79wJ9+xq+/88/A716GS8eIrIKRh16fvHiRaMFRkRWbuVKYNo0w/c/exZo2dJ48RBRradTshMQEGDqOIjIwigqBJy4WID8WyXwcnFCpyYy2NpI1DcaPx5Yv97wk3AOGyKqBgZNKvjXX3/hl19+QX5+PioqKtTWTavKX3REZBGSs+WI33kG8sISVdneTdPRUl6FEZdlZYC9vRGiIyLSj97JzoYNGzBhwgQ4ODjA3d0dEsn9v/QkEgmTHaIaLjlbjqDuHXC08G/DD8Kh3URkQfSeVNDf3x8TJkzA3LlzYVPVSb0sBDsoU62lUAB2BlXwigIDxedEERGZgcmejXXnzh0MGzbMahIdolrj1i2gCsn8d8G9MKN/LADgq/Gd0aWZu7Eio0fQqe8UET2S3snO2LFj8c0332DOnDmmiIeIjCE3F2jUyODd3+gfi23BlQ/1zr9VUuk6Mh5tfad8pU6IGxCEiGBfM0ZGVLPo3YylUCgQGRmJu3fvok2bNrB/qMPhsmXLjBpgdWAzFtVo6elAx46G73/okPhkcABHL9zAy+uOPXYX1uyYXnK2HBO3ZODh/6CVdTprRoQw4aFaz2TNWAsXLsSePXsQGBgIABodlInIhLZtA4YMMXz/c+eA5s0rXd2piQy+UifkFZZo3GQB8UbrIxWbUsh0FBUC4nee0XoNBIjXIX7nGfQO8mGTFpEO9E52li1bhs8++wzR0dEmCIeIVD74AJg1y/D9b9wAZPolJbY2EsQNCMLELRmQAGo3W+UtNW5AEG+wJnbiYoFa09XDBADywhKcuFjAGjYiHejdy9jR0RHdunUzRSxEtdeYMZoPwNQn0Skt1XwApp6JjlJEsC/WjAiBj9RJrdxH6sSmk2qia58o9p0i0o3eNTvTp0/HypUr8dFHH5kiHiLrV5XmXje3+08GN6GIYF/0DvLhKCAz8XJxevxGemxHVNvpneycOHEC+/btw65du9C6dWuNDspbt241WnBENVpFBWBra/j+YWHATz8ZLx492dpI2ERiJuw7RWRceic79evXx5CqdJAkskbFxYCLi+H7x8QAy5cbLRyq2dh3isi49B56bo049Jz0UsU5bLBgAfDWW8aLpxaqLRPtWfo8O7XlOpDlMtnQc6Ja5fRpoF07w/f/9lvghReMFw9ZfAJgTJbcd6o2XQeq+fSu2WnSpMkj59P5888/qxxUdWPNDgEAdu8G+vc3fP/0dCAkxHjxkAZOtGcZeB3IUpisZicmJkbtdXl5OX799VckJydjVlXmBCGqTitXAtOmGb5/fj7g6Wm8eOixONGeZeB1oJrIoKHn2nz88cc4efJklQMiMrr33wfefNPw/e/eBZw4xNfcONGeZeB1oJrIaI8u79evH7777juD909ISIBEIlGrOdq6dSv69u0LDw8PSCQSZGZmauxXWlqKqVOnwsPDA87Ozhg4cCCuXr1qcBxUw732mubkfLomOg4O4nDxhyfnY6JjETjRnmXgdaCayGjJzrfffguZgTO2pqWlYe3atWjbtq1a+e3bt9GtWzcsWrSo0n1jYmKwbds2JCUl4ciRIyguLkZkZCQUCoVBsVANIQhA9+6aic26dbrt36WLZlJTWmryyfrIcJxozzLwOlBNpHczVocOHdQ6KAuCgLy8PPzzzz9YvXq13gEUFxdj+PDhWLduHRYsWKC27tVXXwUAXLp0Seu+hYWFSExMxObNmxEeHg4A2LJlC/z9/fHTTz+hb9++esdDFqisDPDxAW7eNGz/998HZs40bkxU7TjRnmXgdaCaSO9kZ/DgwWqvbWxs4OnpiZ49e+KJJ57QO4DJkyejf//+CA8P10h2Hic9PR3l5eXo06ePqszPzw/BwcFITU2tNNkpLS1FaWmp6nVRUZHecZOJFBcD4eHA8eOG7c+h3larpky0Z+1zz9SU60D0IL2Tnbi4OKOdPCkpCRkZGUhLSzNo/7y8PDg4OMDNzU2t3NvbG3l5eZXul5CQgPj4eIPOSUaUnw+0bw/I5Ybtn5oqNkdRraF8SOnD87v4WMj8LrVl7hlLvw5EDzPbpIK5ubmYPn069u7dCycjdwAVBOGRcwHNnTsXsbGxqtdFRUXw9/c3agz0kHPngJYtDd///HmgWTPjxUM1lqVOtFfZ3DN5hSWYuCXD6uaesdTrQKSNzsmOjY3NIxMIAJBIJLh3755Ox0tPT0d+fj5CQ0NVZQqFAocOHcKqVatQWloK28c8RNHHxwdlZWW4efOmWu1Ofn4+unbtWul+jo6OcHR01ClOMsCxY4bXuISEAPv3A5zckR7B0h5SWlvnnrG060BUGZ2TnW3btlW6LjU1FStXroQ+kzGHhYUhKytLrWz06NF44oknMHv27McmOgAQGhoKe3t7pKSkICoqCgAgl8uRnZ2NJUuW6BwLVcGpU8DUqcDhw/rvO3gw8PXX4pBvohqMc88QWTadk51BgwZplP3++++YO3cudu7cieHDh+O9997T+cQuLi4IDg5WK3N2doa7u7uqvKCgAFeuXMG1a9cAAGfPngUg1uj4+PhAKpVi7NixmDFjBtzd3SGTyTBz5ky0adNGNTqLjOjQIWDSJOC33/Tfd9o0YMUKDu0mq8S5Z4gsm0Hz7Fy7dg3jx49H27Ztce/ePWRmZuLzzz9Ho6o8CVqLHTt2oEOHDuj//88rGjZsGDp06IBPPvlEtc3y5csxePBgREVFoVu3bqhbty527typU80QVUIQgO+/B/z81Oew6dFDt0Tn/fc157D58EMmOmS1OPcMkWXT60GghYWFWLhwIVauXIn27dtj8eLFePrpp00ZX7Wo1Q8CragANmwQa2zKyvTb96mnxGdMPfmkaWIjqiEUFQK6L9732LlnjszuZVV9dojMTdf7t841O0uWLEHTpk2xa9cufPXVV0hNTbWKRKdWKSsTa10erK2xtQXGjXt8otOvH/D77+q1NceOMdEhwv25Z4D7c80oce4ZIvPTuWbHxsYGderUQXh4+CObiLZu3Wq04KqLVdbsFBcD//0v8IhHbVRq+HBg8WKgQQPjx0VkxWrLPDtElkLX+7fOHZRHjhz52KHnZCbXrwNvvQWsXav/vtOmAfPnAw9NzEhE+uPcM0SWSa8+O9aqRtXsXL4sPufp22/13zc+Xty3bl3jx0VERFTNjF6zQ2aQmyt2Hl6/Xvy3PlauBCZMAOx4iYmIqHbjndBSnD0LJCaKiY0+T/eWSoHVq4GXX+bQbiIiIi2Y7JhDRoaY1KxfD5SX67aPoyMQHAy89544MoqIiIh0wmTH1I4eBdasATZv1n0fd3dxOPiYMVV7eCYREREx2TGpzZuBkSMfvU1AgJjYREcDDRtWS1hERES1CZMdU3p41FPr1mJiM2IE4OFhnpiIiIhqGSY7pvTCC+JMw0RERGQ2Bj0IlIiIiKimYLJDREREVo3JDhEREVk19tkxEUWFwOfjEBGRyfF+83hMdkyATz4mIqLqwPuNbtiMZWTJ2XJM3JKh9sUDgLzCEkzckoHkbLmZIiMiImvC+43umOwYkaJCQPzOM9A22FxZFr/zDBQVHI5ORESG4/1GP0x2jOjExQKNDPtBAgB5YQlOXCyovqAqoagQcPTCDWzP/AtHL9zgL4QV4DUlqj1q0v3GErDPjhHl36r8i2fIdqbCNl7rw2tKVLvUlPuNpWDNjhF5uTgZdTtTYBuv9eE1Jap9asL9xpIw2TGiTk1k8JU6obIBfxKIf213aiKrzrBU2MZrfXhNiWonS7/fWBomO0ZkayNB3IAgAND4Aipfxw0IMtv8BzWljZd9T3RXU66ppeN3jqpbVb9zln6/sTTss2NkEcG+WDMiRKP/hI8F9J+oCW287Huin5pwTS0dv3NU3Yz1nbPk+42lYbJjAhHBvugd5GNxM1paehuvsu/Jw3/fKPuerBkRwl/eh1j6NbV0/M5RdTP2d85S7zeWhsmOidjaSNClmbu5w1CjbOPNKyzR2sdDAvEvAnO08T6u74kEYt+T3kE+/CV+gCVfU0vH7xxVN1N95yzxfmNp2GenFrHkNl72PTGMJV9TS8fvHFW32vids5T+cKzZqWUstY2XfU8MZ6nX1NLxO0fVrbZ95yypPxyTnVrIEtt42fekaizxmlo6fueoutWm75yl9YdjslNLWVobL/ueVJ2lXVNLx+8cVbfa8p2zxP5w7LNDFoF9T6i68TtH1a22fOcssW+SxSQ7CQkJkEgkiImJUZUJgoD58+fDz88PderUQc+ePfHbb7+p7VdaWoqpU6fCw8MDzs7OGDhwIK5evVrN0ZMxKPue+EjVq3B9pE4cAkwmwe8cVbfa8J2zxL5JFtGMlZaWhrVr16Jt27Zq5UuWLMGyZcuwceNGtGzZEgsWLEDv3r1x9uxZuLi4AABiYmKwc+dOJCUlwd3dHTNmzEBkZCTS09Nha2trjrdDVcC+J1Td+J2j6mbt3zlL7JskEQTBrPOiFxcXIyQkBKtXr8aCBQvQvn17rFixAoIgwM/PDzExMZg9ezYAsRbH29sbixcvxuuvv47CwkJ4enpi8+bNGDp0KADg2rVr8Pf3x+7du9G3b1+dYigqKoJUKkVhYSFcXV1N9l6JiIisnaJCQPfF+x7bN+nI7F5VTvB0vX+bvRlr8uTJ6N+/P8LDw9XKL168iLy8PPTp00dV5ujoiB49eiA1NRUAkJ6ejvLycrVt/Pz8EBwcrNqGiIiIqo8l9k0yazNWUlISMjIykJaWprEuLy8PAODt7a1W7u3tjcuXL6u2cXBwgJubm8Y2yv21KS0tRWlpqep1UVGRwe+BiIiI1Fna/F9mS3Zyc3Mxffp07N27F05OlbfbSSTqmZ8gCBplD3vcNgkJCYiPj9cvYCIiItKZJfVNMlszVnp6OvLz8xEaGgo7OzvY2dnh4MGD+Oijj2BnZ6eq0Xm4hiY/P1+1zsfHB2VlZbh582al22gzd+5cFBYWqpbc3FwjvzsiIiJSzv81qH0DdGnmbrZO2GZLdsLCwpCVlYXMzEzV0rFjRwwfPhyZmZlo2rQpfHx8kJKSotqnrKwMBw8eRNeuXQEAoaGhsLe3V9tGLpcjOztbtY02jo6OcHV1VVuIiIjIOpmtGcvFxQXBwcFqZc7OznB3d1eVx8TEYOHChWjRogVatGiBhQsXom7dunjllVcAAFKpFGPHjsWMGTPg7u4OmUyGmTNnok2bNhodnomIiKh2soh5dirz5ptv4u7du5g0aRJu3ryJp556Cnv37lXNsQMAy5cvh52dHaKionD37l2EhYVh48aNnGOHiIiIAFjAPDuWgPPsEBER1Tw1Zp4dIiIiIlNiskNERERWjckOERERWTUmO0RERGTVmOwQERGRVWOyQ0RERFaNyQ4RERFZNSY7REREZNWY7BAREZFVY7JDREREVs2in41FNYOiQsCJiwXIv1UCLxcndGoig62NxNxhERERAWCyQ1WUnC1H/M4zkBeWqMp8pU6IGxCEiGBfM0ZGREQkYjMWGSw5W46JWzLUEh0AyCsswcQtGUjOlpspMiIiovuY7JBBFBUC4neegaBlnbIsfucZKCq0bUFERFR9mOyQQU5cLNCo0XmQAEBeWIITFwuqL6gaSFEh4OiFG9ie+ReOXrjB5JCIyATYZ4cMkn+r8kTHkO1qI/Z3IiKqHqzZIYN4uTgZdbvahv2diIiqD5MdMkinJjL4Sp1Q2QBzCcRaik5NZNUZVo3A/k5ERNWLyQ4ZxNZGgrgBQQCgkfAoX8cNCOJ8O1qwvxMRUfViskMGiwj2xZoRIfCRqjdV+UidsGZECPudVIL9nYiIqhc7KFOVRAT7oneQD2dQ1gP7OxERVS8mO1RltjYSdGnmbu4wagxlf6e8whKt/XYkEGvH2N+JiMg42IxFVM3Y34mIqHox2SEyA/Z3IiKqPmzGIjIT9nciIqoeTHaIzIj9nYiITI/NWERERGTVmOwQERGRVWOyQ0RERFaNyQ4RERFZNSY7REREZNWY7BAREZFVM2uys2bNGrRt2xaurq5wdXVFly5d8OOPP6rW//3334iOjoafnx/q1q2LiIgInDt3Tu0YpaWlmDp1Kjw8PODs7IyBAwfi6tWr1f1WiIiIyEKZNdlp2LAhFi1ahJMnT+LkyZPo1asXBg0ahN9++w2CIGDw4MH4888/sX37dvz6668ICAhAeHg4bt++rTpGTEwMtm3bhqSkJBw5cgTFxcWIjIyEQqEw4zsjIiIiSyERBEHbswjNRiaT4f3338fTTz+NwMBAZGdno3Xr1gAAhUIBLy8vLF68GOPGjUNhYSE8PT2xefNmDB06FABw7do1+Pv7Y/fu3ejbt69O5ywqKoJUKkVhYSFcXV1N9t6IiIjIeHS9f1tMnx2FQoGkpCTcvn0bXbp0QWlpKQDAyen+s4NsbW3h4OCAI0eOAADS09NRXl6OPn36qLbx8/NDcHAwUlNTKz1XaWkpioqK1BYiIiKyTmZPdrKyslCvXj04OjpiwoQJ2LZtG4KCgvDEE08gICAAc+fOxc2bN1FWVoZFixYhLy8PcrkcAJCXlwcHBwe4ubmpHdPb2xt5eXmVnjMhIQFSqVS1+Pv7m/Q9EhERkfmYPdkJDAxEZmYmjh07hokTJ2LUqFE4c+YM7O3t8d133+GPP/6ATCZD3bp1ceDAAfTr1w+2traPPKYgCJBIKn+Y4ty5c1FYWKhacnNzjf22iIiIyEKY/UGgDg4OaN68OQCgY8eOSEtLw4cffohPP/0UoaGhyMzMRGFhIcrKyuDp6YmnnnoKHTt2BAD4+PigrKwMN2/eVKvdyc/PR9euXSs9p6OjIxwdHU37xoiIiMgimL1m52GCIKj66yhJpVJ4enri3LlzOHnyJAYNGgQACA0Nhb29PVJSUlTbyuVyZGdnPzLZISIiotrDrDU78+bNQ79+/eDv749bt24hKSkJBw4cQHJyMgDgm2++gaenJxo1aoSsrCxMnz4dgwcPVnVIlkqlGDt2LGbMmAF3d3fIZDLMnDkTbdq0QXh4uDnfGhEREVkIsyY7f//9N1599VXI5XJIpVK0bdsWycnJ6N27NwCxliY2NhZ///03fH19MXLkSLz99ttqx1i+fDns7OwQFRWFu3fvIiwsDBs3bnxsvx4iIiKqHSxunh1z4Dw7RERENU+Nm2eHiIiIyBSY7BAREZFVY7JDREREVo3JDhEREVk1JjtERERk1ZjsEBERkVVjskNERERWjckOaVdRAaxYAbRpA9SpA3h6Ai+9BJw5Y9jxjh0DBg0CPDwAJyegZUvgP/8B7twxatgWY8wYQCIRl2PHKt8uJ0f8XD09xc+5TRtg+XLx83+U8+eB8eOBxo3Fz9PTE+jaFXj/fd1j/PtvIDEReP558XrUqQPUrw/06AF8/jmgbQquAwfuv69HLe++q3scREQmxkkFwUkFNQgCEBUFfPutePMLCwOuXwcOHRJvrPv3A089pfvxvvgCGDUKUCiA0FCgUSPg5EkgNxdo1w44fBhwcTHZ26l2+/cDvXqJN31BAI4eBTp31tzu2DHxs71zB+jUSUxcDh0C8vKAF14AvvlGPMbDtm0DXnkFKC0FOnQQE5UbN4CsLMDZWUyEdDFihHht7O2BJ58Ur8vVq0BqqphsvfgikJQEPDgb+e+/A4sWaT+eQgFs2SL+e98+4NlndYuDiMhAOt+/BRIKCwsFAEJhYaG5Q7EMiYmCAAhCixaCkJd3v/zbb8XyZs0Eobxct2Pl5gqCk5O432ef3S8vKRGEl14SyydMMG785nT3rvi5tW4tCF27iu/v6FHN7crLxc8REIRly+6X37olCF26aH5eSpmZguDgIAju7oJw+LD6OoVCENLSdI912jRBWLxYEG7cUC8/cUIQXF3FGD79VPfj7d4t7uPvL8ZCRGRiut6/mewITHY0BAWJN61t2zTXDRworvv2W92O9d574va9e2uuy88XhLp1BcHeXhCuX69SyAYJCBAXY5o3TxAkEjER6dGj8mTnf/8T17Vrp7kuI0NcFxysue7pp8V1O3caN+6HLVwonqdnT933eeUVcZ85c0wXFxHRA3S9f7PPjqmlpYlNEd26Vb5NfLy4zYIF1RdXZS5eFPvl1KkD9O+vuf7FF8WfO3fqdrz0dPFnz56a6zw9gaAgoLwc2L37fvnq1fc/M4VCfZ+7d4HWrcX133yjWwzVJTtb7DMzZgzQvfujt921S/yp/Dwf1KED0LSpeLxLl+6X5+SITX4tWwKRkUYLW6t27cSf167ptv3t28D27eK/R4wwTUxERAZismNqTz4p9lNJTQV++01zfUUFsGGD2C9i9Ojqj+9hp06JP4ODxb4cDwsJUd/ucW7fFn+6uWlfL5NpHm/SJPFmnpoK/Pe/6tvPmiUmY6NGiR17LUVFhdhhWCoFlix5/PbK96v8PB+m7XP++WfxZ+/eQEmJ2Il46lRg2jRg/XqgqMjw+B/255/iTx8f3bbfulW81h06iMkoEZEFYbJTHV5/Xfy5fr3mur17gcuXgeeeAxo00O14PXvqNiLmweXAAd2OfeWK+LNhQ+3rleXK7R7H01P8efmy9vXK8gdrMABxlJCXF/Dee8CJE2LZjz8CH38MNGkCrFyp2/mry8cfix2Oly69n8A9iiGfszJZrlMHaN8eiI4GVq0SP4vx44FmzcQOzlVVXi7WrgHiCDpdKDsmv/pq1c9PRGRkduYOoFZ45RVg5kxg82ZxJIuj4/11ygRo/HjdjxcRIY7c0Yeuf6EXF4s/69bVvt7ZWX27x+nRA/jyS+Crr8ThyA4O99cdOwacPSv++9Yt9f28vIDPPhNreEaMAPbsEWu+bG3FG6sljd66ehV46y0xCR05Urd9DPmcb94Uf65YIdaUbd0qjvr6+2+xKfTLL4HBg8WkyNfXgDfy/95+W2wya9IEmDDh8dvn5Ym1Tra2wMsvG35eIiITYbJTHZydgeHDgTVrxGHDw4aJ5fn5wI4dgJ+fWLOjqzlzTBMncH9uFW1Dng0xfLjYFHXlilhL8MEH4hDnX34REzw7O+DePcBGSyVj//5ik9bq1WJNRlGReCPu2lW/GL7/Xlwedv26+DM6WnPd4MHioovJk8Vh4GvW6BcXUPnnrG1GCGX/pXv3xISvTx/xtVQqDiE/d07sI/bxx4b3//rqK7EZzslJTJ4qS8Ye9OWXYmwREbon1URE1YjJTnWZMEG8Ga5bdz/Z2bhRbDIYM0Z9LhNzUtaYKPvaPExZXq+ebsdzdhY740ZGAsnJ4qLUqBEQGyveXCvr0/PBB2LH17/+EvuDvPOObud9UGam2L+lMtrWNW6sW7Lz3Xdiwvr228ATT+geU716Yk1NZZ+zcrLFBz9n5bVp0OB+ovOg0aPFZEfXJsuHpaSIiZ+NjZj0aJsbSBs2YRGRhWOyU13athVvHvv3AxcuiP0rEhPFv+zHjtXvWIsWiZO76WPOHN1uxo0aiT+vXtW+Xlmu3E4XbdqI8X7zjTiZ4L174mifV165XwNRWafWw4fvjwi6cgX45x/9m2jmzxeXhymbAh/uL6QP5ai0lBTN/jKZmeLPSZMAV1dgypT7o68aNRKTnatXxe/Gw7R9zsp4AwK0x6Jcn5+v55sAcPy4OJNyebn4vdS1VisnB/j1VzEp03UfIqJqxmSnOk2YIPZTSUwE+vYF/vhD/Atdh/43igoBJy4WIP9WCXpu2wnpiVT9zh0drVuyoxxynJ0t3vgeHpGVkSH+1HaDfpQ6dcT+LA/3afnpJ/GntqHpN27cr2mIihJrG6KjxdohYzWzGcujHgnx66/izweTgXbtxJFWGRnamzC1fc4dOog/Cwq0n+fGDfGnrrVuSr/9JsZw+zawbJl+owI3bxZ/DhmiW5MXEZEZcDRWdYqKEptrNm68379Dh47JydlydF+8Dy+vO4bpSZlo9+w8dFn4E5Kzrol9O3RZtCUT2jRpArRqJc5n88MPmuu//Vb8aYx5Xg4eFG/qrVtrn4do/HhALhdrpbZsAZ5+Why99tFHVT+3sWzcWPln3qOHuM3Ro+LrmJj7+ynnMFJ+ng/69Vdx6HdQkHg9lMLCxGbBCxfER208TNl8Vdlwdm0uXRIT7oICsfbrjTd031cQxP46AJuwiMiiMdmpTsraDbkc+PprcVj2Y4b2JmfLMXFLBuSFJWrleYUlmLglA8nZcuPHGRsr/nzzTfUmka1bxf4pTZpoNlls2ybWHGkbjZSZKTZdPSgjQ2zGkki0DyNfv148ZmgoEBcn1u5s2iQ2B82ZI9Y81WTPPy9+jqdOiQ/+VLp9W+zwDNy/Dkp164rz6pSXAxMnqvf3SU4W+x5JJMBrr6nvN3eueG1WrVIvz88X5+y5dg2YMUP8nPVx+LA4dYCfnzgqjIjIQrEZq7q9/jrw4Yfiv6OjtU/c9/8UFQLid56Btie1CgAkAOJ3nkHvIB/Y2hixWWfMGHFGY2UCo3wQ6MGD4iidLVs04y4sFIeRaxuNExMjTgTYvr341PNLl8Q+IjY2wKefaj4w8vx5cZ+6de8/qBIQm/tWrhQnFBw+XJx/58Fh/DWJvb34OYaHi0nN11+LfXEOHxaT4cGDtTcnxcWJ2/zwA9CihfhA1vx8sRmtokIc+dapk/o+crl4bZSjz5Ref138rOvWFddpG5Xm4SF2EtdG2TF5+HDto+mIiCwEk53q1qqV+JfwtWvAuHGP3PTExQKNGp0HCQDkhSU4cbEAXZq5Gy9GGxuxM/GHH4pz3ezaJTafPP+8OFeOvjPkjhgh3hgzM4F//xVrtIYNE2dDbt9efdt798Sb5+3b4pDzwED19SNHivF88w0wb544iV9N1bWrOHoqLk5sgsrMFDuuz5ghJnvaEggnJ/GJ4h98IH6mP/4olj37rNgEpe0RH5VRzttz507lo9UCArQnO6Wl95vg+HgIIrJwEkHQNqFH7aLzI+KNITVV7J/So8djhwhvz/wL05MyH3vID4e1x6D2Os6+TEREZCV0vX+z7rm6LVwo/pwy5bGberk46XRIXbcjIiKqjdiMVR1SU8Xh5tnZYj+T0FBxqO5jdGoig6/UCXmFJVr77UgA+Eid0KmJDs9iIiIiqqVYs1Md/vhD7PuSkwMMGCCOatKhQ6etjQRxA4IAiInNg5Sv4wYEGbdzMhERkZVhnx1Uc58dAyRnyxG/84xaZ2VfqRPiBgQhIrgKD3wkIiKqwXS9f7MZqwaICPZF7yAf1QzKXi5i0xVrdIiIiB6PyU4NYWsjMe7wciIiolqCfXaIiIjIqpk12VmzZg3atm0LV1dXuLq6okuXLvjxxx9V64uLizFlyhQ0bNgQderUQatWrbBG+Uyp/1daWoqpU6fCw8MDzs7OGDhwIK5W9sRuIiIiqnXMmuw0bNgQixYtwsmTJ3Hy5En06tULgwYNwm+//QYAeOONN5CcnIwtW7YgJycHb7zxBqZOnYrt27erjhETE4Nt27YhKSkJR44cQXFxMSIjI6FQKMz1toiIiMiCWNxoLJlMhvfffx9jx45FcHAwhg4dirffflu1PjQ0FM899xzee+89FBYWwtPTE5s3b8bQoUMBANeuXYO/vz92796Nvn376nROSx+NRURERJpq3AzKCoUCSUlJuH37Nrp06QIA6N69O3bs2IG//voLgiBg//79+OOPP1RJTHp6OsrLy9GnTx/Vcfz8/BAcHIzU1FSzvA8iIiKyLGYfjZWVlYUuXbqgpKQE9erVw7Zt2xAUJE6k99FHH2H8+PFo2LAh7OzsYGNjg/Xr16N79+4AgLy8PDg4OMDNzU3tmN7e3sjLy6v0nKWlpSgtLVW9LioqMsE7IyIiIktg9pqdwMBAZGZm4tixY5g4cSJGjRqFM2fOABCTnWPHjmHHjh1IT0/H0qVLMWnSJPz000+PPKYgCJBIKp+DJiEhAVKpVLX4+/sb9T0RERGR5bC4Pjvh4eFo1qwZVqxYAalUim3btqF///6q9ePGjcPVq1eRnJyMffv2ISwsDAUFBWq1O+3atcPgwYMRHx+v9Rzaanb8/f3ZZ4eIiKgGqXF9dpQEQUBpaSnKy8tRXl4Om4eeIWVra4uKigoAYmdle3t7pKSkqNbL5XJkZ2eja9eulZ7D0dFRNdxduRAREZF1MmufnXnz5qFfv37w9/fHrVu3kJSUhAMHDiA5ORmurq7o0aMHZs2ahTp16iAgIAAHDx7Epk2bsGzZMgCAVCrF2LFjMWPGDLi7u0Mmk2HmzJlo06YNwsPDdY5DWbnFvjtEREQ1h/K+/dhGKsGMxowZIwQEBAgODg6Cp6enEBYWJuzdu1e1Xi6XC9HR0YKfn5/g5OQkBAYGCkuXLhUqKipU29y9e1eYMmWKIJPJhDp16giRkZHClStX9IojNzdXAMCFCxcuXLhwqYFLbm7uI+/zFtdnxxwqKipw7do1uLi4PLJjs76UfYFyc3PZVGZGvA6WgdfBcvBaWAZeh6oTBAG3bt2Cn5+fRreXB5l96LklsLGxQcOGDU12fPYLsgy8DpaB18Fy8FpYBl6HqpFKpY/dxuI6KBMREREZE5MdIiIismpMdkzI0dERcXFxcHR0NHcotRqvg2XgdbAcvBaWgdeh+rCDMhEREVk11uwQERGRVWOyQ0RERFaNyQ4RERFZNSY7REREZNWY7JjQ6tWr0aRJEzg5OSE0NBSHDx82d0i1yvz58yGRSNQWHx8fc4dl9Q4dOoQBAwbAz88PEokE33//vdp6QRAwf/58+Pn5oU6dOujZsyd+++038wRrxR53HaKjozV+Pzp37myeYK1YQkICnnzySbi4uMDLywuDBw/G2bNn1bbh74TpMdkxka+//hoxMTF466238Ouvv+Lpp59Gv379cOXKFXOHVqu0bt0acrlctWRlZZk7JKt3+/ZttGvXDqtWrdK6fsmSJVi2bBlWrVqFtLQ0+Pj4oHfv3rh161Y1R2rdHncdACAiIkLt92P37t3VGGHtcPDgQUyePBnHjh1DSkoK7t27hz59+uD27duqbfg7UQ30emIm6axTp07ChAkT1MqeeOIJYc6cOWaKqPaJi4sT2rVrZ+4wajUAwrZt21SvKyoqBB8fH2HRokWqspKSEkEqlQqffPKJGSKsHR6+DoIgCKNGjRIGDRpklnhqs/z8fAGAcPDgQUEQ+DtRXVizYwJlZWVIT09Hnz591Mr79OmD1NRUM0VVO507dw5+fn5o0qQJhg0bhj///NPcIdVqFy9eRF5entrvhqOjI3r06MHfDTM4cOAAvLy80LJlS4wfPx75+fnmDsnqFRYWAgBkMhkA/k5UFyY7JnD9+nUoFAp4e3urlXt7eyMvL89MUdU+Tz31FDZt2oQ9e/Zg3bp1yMvLQ9euXXHjxg1zh1ZrKb///N0wv379+uGLL77Avn37sHTpUqSlpaFXr14oLS01d2hWSxAExMbGonv37ggODgbA34nqwqeem5BEIlF7LQiCRhmZTr9+/VT/btOmDbp06YJmzZrh888/R2xsrBkjI/5umN/QoUNV/w4ODkbHjh0REBCAH374AUOGDDFjZNZrypQpOH36NI4cOaKxjr8TpsWaHRPw8PCAra2tRlaen5+vkb1T9XF2dkabNm1w7tw5c4dSaylHw/F3w/L4+voiICCAvx8mMnXqVOzYsQP79+9Hw4YNVeX8nageTHZMwMHBAaGhoUhJSVErT0lJQdeuXc0UFZWWliInJwe+vr7mDqXWatKkCXx8fNR+N8rKynDw4EH+bpjZjRs3kJuby98PIxMEAVOmTMHWrVuxb98+NGnSRG09fyeqB5uxTCQ2NhavvvoqOnbsiC5dumDt2rW4cuUKJkyYYO7Qao2ZM2diwIABaNSoEfLz87FgwQIUFRVh1KhR5g7NqhUXF+P8+fOq1xcvXkRmZiZkMhkaNWqEmJgYLFy4EC1atECLFi2wcOFC1K1bF6+88ooZo7Y+j7oOMpkM8+fPxwsvvABfX19cunQJ8+bNg4eHB55//nkzRm19Jk+ejC+//BLbt2+Hi4uLqgZHKpWiTp06kEgk/J2oDmYdC2blPv74YyEgIEBwcHAQQkJCVEMNqXoMHTpU8PX1Fezt7QU/Pz9hyJAhwm+//WbusKze/v37BQAay6hRowRBEIfaxsXFCT4+PoKjo6PwzDPPCFlZWeYN2go96jrcuXNH6NOnj+Dp6SnY29sLjRo1EkaNGiVcuXLF3GFbHW3XAICwYcMG1Tb8nTA9iSAIQvWnWERERETVg312iIiIyKox2SEiIiKrxmSHiIiIrBqTHSIiIrJqTHaIiIjIqjHZISIiIqvGZIeIiIisGpMdolpu/vz5aN++vbnD0EoQBLz22muQyWSQSCTIzMw0d0iVevXVV7Fw4UJzh6Fm1apVGDhwoLnDIDI7JjtEVkwikTxyiY6OxsyZM/Hzzz+bO1StkpOTsXHjRuzatQtyuRzBwcEa2xw4cED1fmxsbCCVStGhQwe8+eabkMvl1RLn6dOn8cMPP2Dq1Kmqsp49eyImJkZj240bN6J+/frVEtf48eORlpam9SnbRLUJn41FZMUevNl//fXXeOedd3D27FlVWZ06dVCvXj3Uq1fPHOE91oULF+Dr66vTAxHPnj0LV1dXFBUVISMjA0uWLEFiYiIOHDiANm3amDTOVatW4aWXXoKLi4tJz6MrQRCgUCjg6OiIV155BStXrkT37t3NHRaR2bBmh8iK+fj4qBapVAqJRKJR9nAzVnR0NAYPHoyFCxfC29sb9evXR3x8PO7du4dZs2ZBJpOhYcOG+Oyzz9TO9ddff2Ho0KFwc3ODu7s7Bg0ahEuXLj0yvoMHD6JTp05wdHSEr68v5syZg3v37qnimDp1Kq5cuQKJRILGjRs/8lheXl7w8fFBy5YtMWzYMPzyyy/w9PTExIkTVdukpaWhd+/e8PDwgFQqRY8ePZCRkaFaP2bMGERGRqod9969e/Dx8dF4v0oVFRX45ptvqtRctGbNGjRr1gwODg4IDAzE5s2bVesuXbqk0YT377//QiKR4MCBAwDu127t2bMHHTt2hKOjIw4fPgwAGDhwIL7//nvcvXvX4PiIajomO0SkYd++fbh27RoOHTqEZcuWYf78+YiMjISbmxuOHz+OCRMmYMKECcjNzQUA3LlzB88++yzq1auHQ4cO4ciRI6hXrx4iIiJQVlam9Rx//fUXnnvuOTz55JM4deoU1qxZg8TERCxYsAAA8OGHH+Ldd99Fw4YNIZfLkZaWptd7qFOnDiZMmIBffvkF+fn5AIBbt25h1KhROHz4MI4dO4YWLVrgueeew61btwAA48aNQ3JyslqN2O7du1FcXIyoqCit5zl9+jT+/fdfdOzYUa/4lLZt24bp06djxowZyM7Oxuuvv47Ro0dj//79eh/rzTffREJCAnJyctC2bVsAQMeOHVFeXo4TJ04YFB+RVTDvc0iJqLps2LBBkEqlGuVxcXFCu3btVK9HjRolBAQECAqFQlUWGBgoPP3006rX9+7dE5ydnYWvvvpKEARBSExMFAIDA4WKigrVNqWlpUKdOnWEPXv2aI1n3rx5Gvt8/PHHQr169VTnXr58uRAQEPDI96V8uvfNmzc11v34448CAOH48eNa9713757g4uIi7Ny5U1UWFBQkLF68WPV68ODBQnR0dKXn37Ztm2Bra6v2PgRBEHr06CHY29sLzs7Oaoujo6Padejataswfvx4tX1feukl4bnnnhMEQRAuXrwoABB+/fVX1fqbN28KAIT9+/erfQbff/+91hjd3NyEjRs3VvoeiKwda3aISEPr1q1hY3P/vwdvb2+1fi+2trZwd3dX1Zikp6fj/PnzcHFxUfUBkslkKCkpwYULF7SeIycnB126dIFEIlGVdevWDcXFxbh69apR3ocgCACgOkd+fj4mTJiAli1bQiqVQiqVori4GFeuXFHtM27cOGzYsEG1/Q8//IAxY8ZUeo67d+/C0dFR7X0oDR8+HJmZmWrLu+++q7ZNTk4OunXrplbWrVs35OTk6P1+K6tdqlOnDu7cuaP38YisBTsoE5EGe3t7tdcSiURrWUVFBQCx30poaCi++OILjWN5enpqPYcgCBoJwsPJSVUpEwZlf5/o6Gj8888/WLFiBQICAuDo6IguXbqoNbWNHDkSc+bMwdGjR3H06FE0btwYTz/9dKXn8PDwwJ07d1BWVgYHBwe1dVKpFM2bN1cr8/Ly0jiGts9BWaZMOpWfDQCUl5drjcXZ2VlreUFBQaXXgag2YM0OEVVZSEgIzp07By8vLzRv3lxtkUqlWvcJCgpCamqq2k08NTUVLi4uaNCgQZVjunv3LtauXYtnnnlGdaM/fPgwpk2bhueeew6tW7eGo6Mjrl+/rrafu7s7Bg8ejA0bNmDDhg0YPXr0I8+j7Nx95swZg+Js1aqVxtDw1NRUtGrVCsD9ZPHBfkT6zDd04cIFlJSUoEOHDgbFR2QNmOwQUZUNHz4cHh4eGDRoEA4fPoyLFy/i4MGDmD59eqVNUpMmTUJubi6mTp2K33//Hdu3b0dcXBxiY2PVmtB0lZ+fj7y8PJw7dw5JSUno1q0brl+/jjVr1qi2ad68OTZv3oycnBwcP34cw4cPR506dTSONW7cOHz++efIycnBqFGjHnleT09PhISEGDyXzaxZs7Bx40Z88sknOHfuHJYtW4atW7di5syZAMQmqM6dO2PRokU4c+YMDh06hP/85z86H//w4cNo2rQpmjVrZlB8RNaAyQ4RVVndunVx6NAhNGrUCEOGDEGrVq0wZswY3L17F66urlr3adCgAXbv3o0TJ06gXbt2mDBhAsaOHavXjfxBgYGB8PPzQ2hoKBYtWoTw8HBkZ2cjKChItc1nn32GmzdvokOHDnj11Vcxbdo0rc1K4eHh8PX1Rd++feHn5/fYc7/22mtam/B0MXjwYHz44Yd4//330bp1a3z66afYsGEDevbsqRZ3eXk5OnbsiOnTp6tGrOniq6++wvjx4w2KjchaSIQH65CJiAh37tyBn58fPvvsMwwZMuSx25eUlCAwMBBJSUno0qVLNUSom+zsbISFheGPP/6otDmRqDZgB2Uiov9XUVGBvLw8LF26FFKpVOeJAp2cnLBp0yaN/j/mdu3aNWzatImJDtV6rNkhIvp/ly5dQpMmTdCwYUNs3LgRYWFh5g6JiIyAyQ4RERFZNXZQJiIiIqvGZIeIiIisGpMdIiIismpMdoiIiMiqMdkhIiIiq8Zkh4iIiKwakx0iIiKyakx2iIiIyKox2SEiIiKr9n/d3oxz3R+iWwAAAABJRU5ErkJggg==",
      "text/plain": [
       "<Figure size 640x480 with 1 Axes>"
      ]
     },
     "metadata": {},
     "output_type": "display_data"
    }
   ],
   "source": [
    "# Scatterplot with labels\n",
    "plt.scatter(incident_hour_count.index,incident_hour_count)\n",
    "plt.xlabel(\"Time of Day (Hour)\")\n",
    "plt.ylabel(\"Number of Claims\")\n",
    "plt.title(\"Number of Claims per Hour\")\n",
    "\n",
    "# Linregress function to get line of best fit/see if there is correlation in the data\n",
    "(slope, intercept, r, p, err) = linregress(incident_hour_count.index,incident_hour_count)\n",
    "\n",
    "# Round the slope, intercept, and r value outputs to simplify values\n",
    "slope = round(slope,2)\n",
    "intercept = round(intercept,2)\n",
    "r = round(r,3)\n",
    "\n",
    "# Create line equation using linregress() outputs\n",
    "line_eqn = (slope*incident_hour_count.index) + intercept\n",
    "\n",
    "# Plot line equation on scatterplot\n",
    "plt.plot(incident_hour_count.index,line_eqn, color = \"red\")\n",
    "# Plot equation text at min(x_axis),min(y_axis) so equation displays in bottom left corner\n",
    "plt.text(min(incident_hour_count.index),min(incident_hour_count),f\"y = {slope}x + {intercept}\", color = \"red\", size = 15)\n",
    "print(f\"The r value is: {r}\")\n"
   ]
  },
  {
   "cell_type": "markdown",
   "metadata": {},
   "source": [
    "Correlation is determined by examining the trends in data and determining whether one aspect of data affects another. We have decided to test for correlation by comparing the time of day to the number of claims that occur each hour. The above plot places a datapoint at each hour to depict how many claims occurred within each hour. As depicted in the scatterplot, there is minimal correlation between the number of false claims being made versus the hour of the day. When calculating the r value using the linregress() function, we have r = 0.297. Because the r value is close to 0, we can assume the correlation is weak. When looking at the line of best fit on the graph, we can clearly see that the line doesn't necessarily fit the data too well. As a result, we cannot firmly conclude that you are more likely to have false claims occur later in the day versus earlier."
   ]
  },
  {
   "cell_type": "code",
<<<<<<< HEAD
<<<<<<< HEAD
   "execution_count": null,
=======
   "execution_count": 364,
=======
   "execution_count": 46,
>>>>>>> 2eb3fb25d3da2720856cae718ec726279d514a06
   "metadata": {},
   "outputs": [
    {
     "data": {
      "text/plain": [
       "Text(0.5, 1.0, 'Number of Claims per Hour')"
      ]
     },
     "execution_count": 46,
     "metadata": {},
     "output_type": "execute_result"
    },
    {
     "data": {
      "image/png": "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",
      "text/plain": [
       "<Figure size 640x480 with 1 Axes>"
      ]
     },
     "metadata": {},
     "output_type": "display_data"
    }
   ],
   "source": [
    "# Create bar plot of Claims per hour, sort by descending claim count\n",
    "plt.bar(incident_hour_count.index.sort_values(),incident_hour_count)\n",
    "\n",
    "#Create blank list and use for loop to append index values of incident_hour_count to list\n",
    "claim_hour = []\n",
    "for x in range(0,incident_hour_unique):\n",
    "    claim_hour.append(incident_hour_count.index[x])\n",
    "\n",
    "# Convert list to string so we can set the labels for the plot as string values\n",
    "claim_hour = map(str,claim_hour)\n",
    "\n",
    "# Plot x-ticks, making the range 0 to value count of incident hours and labels = new list\n",
    "plt.xticks(range(0,incident_hour_unique), labels = list(claim_hour))\n",
    "# Set min y value to 300 to see the difference more clearly\n",
    "plt.ylim(bottom = 300)\n",
    "\n",
    "# Plot exact value count of claims for most claims and least claims\n",
    "plt.text(min(incident_hour_count.index),max(incident_hour_count), max(incident_hour_count), ha = 'center', color = 'r')\n",
    "plt.text(max(incident_hour_count.index),min(incident_hour_count), min(incident_hour_count), ha = 'center', color = 'r')\n",
    "\n",
    "# Label plot\n",
    "plt.xlabel(\"Time of Day (Hour)\")\n",
    "plt.ylabel(\"Number of Claims\")\n",
    "plt.title(\"Number of Claims per Hour\")\n"
   ]
  },
  {
   "cell_type": "markdown",
   "metadata": {},
   "source": [
    "An easy way to visualize the data to see how many claims are being made each hour is to create a bar plot in which we organize the x-axis by descending number of false claims. As we can see, we have ordered the x-axis to provide the greatest number of false claims at the left, and the least number towards the right. We can see from the bar plot that there are many claims made every hour, with the most being placed at the 15th hour and the least being placed at the 1st hour. With this being said, there is still a substantial amount of claims that are being placed every hour. Despite the fact that there is a difference of 79 claims from the 15th hour to the 1st hour, there are still, at least, 383 claims being made at each hour. This goes to show that many false claims have been made during all hours of the day."
   ]
  },
  {
   "cell_type": "markdown",
>>>>>>> a7007439983845820796e4be5ab5fe9a887899f2
   "metadata": {},
   "source": []
  }
 ],
 "metadata": {
  "kernelspec": {
   "display_name": "dev",
   "language": "python",
   "name": "python3"
  },
  "language_info": {
   "codemirror_mode": {
    "name": "ipython",
    "version": 3
   },
   "file_extension": ".py",
   "mimetype": "text/x-python",
   "name": "python",
   "nbconvert_exporter": "python",
   "pygments_lexer": "ipython3",
   "version": "3.10.13"
  },
  "vscode": {
   "interpreter": {
    "hash": "3707ad23834f0b2d07ae21b0d863683e45c4ebd5d53cd9c3db9055856f8146de"
   }
  }
 },
 "nbformat": 4,
 "nbformat_minor": 2
}
