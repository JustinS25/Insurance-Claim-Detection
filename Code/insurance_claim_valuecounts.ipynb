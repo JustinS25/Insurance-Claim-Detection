{
 "cells": [
  {
   "cell_type": "code",
   "execution_count": 1,
   "metadata": {},
   "outputs": [],
   "source": [
    "# Dependencies and Setup\n",
    "import pandas as pd\n",
    "import requests\n",
    "import matplotlib.pyplot as plt\n",
    "import numpy as np\n",
    "from scipy.stats import linregress"
   ]
  },
  {
   "cell_type": "code",
   "execution_count": 2,
   "metadata": {},
   "outputs": [
    {
     "data": {
      "text/html": [
       "<div>\n",
       "<style scoped>\n",
       "    .dataframe tbody tr th:only-of-type {\n",
       "        vertical-align: middle;\n",
       "    }\n",
       "\n",
       "    .dataframe tbody tr th {\n",
       "        vertical-align: top;\n",
       "    }\n",
       "\n",
       "    .dataframe thead th {\n",
       "        text-align: right;\n",
       "    }\n",
       "</style>\n",
       "<table border=\"1\" class=\"dataframe\">\n",
       "  <thead>\n",
       "    <tr style=\"text-align: right;\">\n",
       "      <th></th>\n",
       "      <th>AGENT_ID_x</th>\n",
       "      <th>AGENT_NAME</th>\n",
       "      <th>DATE_OF_JOINING</th>\n",
       "      <th>ADDRESS_LINE1</th>\n",
       "      <th>ADDRESS_LINE2</th>\n",
       "      <th>CITY</th>\n",
       "      <th>STATE</th>\n",
       "      <th>POSTAL_CODE_x</th>\n",
       "      <th>EMP_ROUTING_NUMBER</th>\n",
       "      <th>EMP_ACCT_NUMBER</th>\n",
       "      <th>...</th>\n",
       "      <th>ANY_INJURY</th>\n",
       "      <th>POLICE_REPORT_AVAILABLE</th>\n",
       "      <th>INCIDENT_STATE</th>\n",
       "      <th>INCIDENT_CITY</th>\n",
       "      <th>INCIDENT_HOUR_OF_THE_DAY</th>\n",
       "      <th>AGENT_ID_y</th>\n",
       "      <th>VENDOR_ID_x</th>\n",
       "      <th>VENDOR_ID_y</th>\n",
       "      <th>VENDOR_NAME</th>\n",
       "      <th>POSTAL_CODE</th>\n",
       "    </tr>\n",
       "  </thead>\n",
       "  <tbody>\n",
       "    <tr>\n",
       "      <th>0</th>\n",
       "      <td>AGENT00010</td>\n",
       "      <td>Bernard Haug</td>\n",
       "      <td>9/4/1992</td>\n",
       "      <td>2278 North Windswept Lane</td>\n",
       "      <td>NaN</td>\n",
       "      <td>Fayetteville</td>\n",
       "      <td>AR</td>\n",
       "      <td>72703</td>\n",
       "      <td>75517997</td>\n",
       "      <td>ADZX82914131196683</td>\n",
       "      <td>...</td>\n",
       "      <td>0</td>\n",
       "      <td>1</td>\n",
       "      <td>OK</td>\n",
       "      <td>Oklahoma City</td>\n",
       "      <td>5</td>\n",
       "      <td>AGENT00696</td>\n",
       "      <td>VNDR00570</td>\n",
       "      <td>VNDR00310</td>\n",
       "      <td>Salinas-Ferrell</td>\n",
       "      <td>72703</td>\n",
       "    </tr>\n",
       "    <tr>\n",
       "      <th>1</th>\n",
       "      <td>AGENT00010</td>\n",
       "      <td>Bernard Haug</td>\n",
       "      <td>9/4/1992</td>\n",
       "      <td>2278 North Windswept Lane</td>\n",
       "      <td>NaN</td>\n",
       "      <td>Fayetteville</td>\n",
       "      <td>AR</td>\n",
       "      <td>72703</td>\n",
       "      <td>75517997</td>\n",
       "      <td>ADZX82914131196683</td>\n",
       "      <td>...</td>\n",
       "      <td>1</td>\n",
       "      <td>0</td>\n",
       "      <td>TN</td>\n",
       "      <td>Nashville</td>\n",
       "      <td>5</td>\n",
       "      <td>AGENT00564</td>\n",
       "      <td>VNDR00193</td>\n",
       "      <td>VNDR00310</td>\n",
       "      <td>Salinas-Ferrell</td>\n",
       "      <td>72703</td>\n",
       "    </tr>\n",
       "    <tr>\n",
       "      <th>2</th>\n",
       "      <td>AGENT00010</td>\n",
       "      <td>Bernard Haug</td>\n",
       "      <td>9/4/1992</td>\n",
       "      <td>2278 North Windswept Lane</td>\n",
       "      <td>NaN</td>\n",
       "      <td>Fayetteville</td>\n",
       "      <td>AR</td>\n",
       "      <td>72703</td>\n",
       "      <td>75517997</td>\n",
       "      <td>ADZX82914131196683</td>\n",
       "      <td>...</td>\n",
       "      <td>1</td>\n",
       "      <td>0</td>\n",
       "      <td>CA</td>\n",
       "      <td>King City</td>\n",
       "      <td>11</td>\n",
       "      <td>AGENT00499</td>\n",
       "      <td>NaN</td>\n",
       "      <td>VNDR00310</td>\n",
       "      <td>Salinas-Ferrell</td>\n",
       "      <td>72703</td>\n",
       "    </tr>\n",
       "    <tr>\n",
       "      <th>3</th>\n",
       "      <td>AGENT00010</td>\n",
       "      <td>Bernard Haug</td>\n",
       "      <td>9/4/1992</td>\n",
       "      <td>2278 North Windswept Lane</td>\n",
       "      <td>NaN</td>\n",
       "      <td>Fayetteville</td>\n",
       "      <td>AR</td>\n",
       "      <td>72703</td>\n",
       "      <td>75517997</td>\n",
       "      <td>ADZX82914131196683</td>\n",
       "      <td>...</td>\n",
       "      <td>1</td>\n",
       "      <td>1</td>\n",
       "      <td>AL</td>\n",
       "      <td>Pelham</td>\n",
       "      <td>10</td>\n",
       "      <td>AGENT01078</td>\n",
       "      <td>NaN</td>\n",
       "      <td>VNDR00310</td>\n",
       "      <td>Salinas-Ferrell</td>\n",
       "      <td>72703</td>\n",
       "    </tr>\n",
       "    <tr>\n",
       "      <th>4</th>\n",
       "      <td>AGENT00012</td>\n",
       "      <td>Jeffrey Forbis</td>\n",
       "      <td>8/5/2010</td>\n",
       "      <td>2619 North Quality Lane</td>\n",
       "      <td>#315</td>\n",
       "      <td>Fayetteville</td>\n",
       "      <td>AR</td>\n",
       "      <td>72703</td>\n",
       "      <td>121484709</td>\n",
       "      <td>IQRF67979220911116</td>\n",
       "      <td>...</td>\n",
       "      <td>1</td>\n",
       "      <td>0</td>\n",
       "      <td>KY</td>\n",
       "      <td>Louisville</td>\n",
       "      <td>15</td>\n",
       "      <td>AGENT01104</td>\n",
       "      <td>NaN</td>\n",
       "      <td>VNDR00031</td>\n",
       "      <td>Johnson Ltd</td>\n",
       "      <td>72703</td>\n",
       "    </tr>\n",
       "  </tbody>\n",
       "</table>\n",
       "<p>5 rows × 47 columns</p>\n",
       "</div>"
      ],
      "text/plain": [
       "   AGENT_ID_x      AGENT_NAME DATE_OF_JOINING              ADDRESS_LINE1  \\\n",
       "0  AGENT00010    Bernard Haug        9/4/1992  2278 North Windswept Lane   \n",
       "1  AGENT00010    Bernard Haug        9/4/1992  2278 North Windswept Lane   \n",
       "2  AGENT00010    Bernard Haug        9/4/1992  2278 North Windswept Lane   \n",
       "3  AGENT00010    Bernard Haug        9/4/1992  2278 North Windswept Lane   \n",
       "4  AGENT00012  Jeffrey Forbis        8/5/2010    2619 North Quality Lane   \n",
       "\n",
       "  ADDRESS_LINE2          CITY STATE  POSTAL_CODE_x  EMP_ROUTING_NUMBER  \\\n",
       "0           NaN  Fayetteville    AR          72703            75517997   \n",
       "1           NaN  Fayetteville    AR          72703            75517997   \n",
       "2           NaN  Fayetteville    AR          72703            75517997   \n",
       "3           NaN  Fayetteville    AR          72703            75517997   \n",
       "4          #315  Fayetteville    AR          72703           121484709   \n",
       "\n",
       "      EMP_ACCT_NUMBER  ... ANY_INJURY POLICE_REPORT_AVAILABLE INCIDENT_STATE  \\\n",
       "0  ADZX82914131196683  ...          0                       1             OK   \n",
       "1  ADZX82914131196683  ...          1                       0             TN   \n",
       "2  ADZX82914131196683  ...          1                       0             CA   \n",
       "3  ADZX82914131196683  ...          1                       1             AL   \n",
       "4  IQRF67979220911116  ...          1                       0             KY   \n",
       "\n",
       "   INCIDENT_CITY INCIDENT_HOUR_OF_THE_DAY  AGENT_ID_y VENDOR_ID_x VENDOR_ID_y  \\\n",
       "0  Oklahoma City                        5  AGENT00696   VNDR00570   VNDR00310   \n",
       "1      Nashville                        5  AGENT00564   VNDR00193   VNDR00310   \n",
       "2      King City                       11  AGENT00499         NaN   VNDR00310   \n",
       "3         Pelham                       10  AGENT01078         NaN   VNDR00310   \n",
       "4     Louisville                       15  AGENT01104         NaN   VNDR00031   \n",
       "\n",
       "       VENDOR_NAME  POSTAL_CODE  \n",
       "0  Salinas-Ferrell        72703  \n",
       "1  Salinas-Ferrell        72703  \n",
       "2  Salinas-Ferrell        72703  \n",
       "3  Salinas-Ferrell        72703  \n",
       "4      Johnson Ltd        72703  \n",
       "\n",
       "[5 rows x 47 columns]"
      ]
     },
     "execution_count": 2,
     "metadata": {},
     "output_type": "execute_result"
    }
   ],
   "source": [
    "#Path for data files\n",
    "employee_path = \"CSV Files/Resources/employee_data.csv\"\n",
    "insurance_path = \"CSV Files/Resources/insurance_data.csv\"\n",
    "vendor_path = \"CSV Files/Resources/vendor_data.csv\"\n",
    "\n",
    "#Read the csv files\n",
    "employee_file = pd.read_csv(employee_path)\n",
    "insurance_file = pd.read_csv(insurance_path)\n",
    "vendor_file = pd.read_csv(vendor_path)\n",
    "\n",
    "#Combine files\n",
    "ins_claim_fraud_data = [employee_file, insurance_file, vendor_file]\n",
    "ins_claim_fraud = employee_file.merge(insurance_file, on= ['ADDRESS_LINE1', 'ADDRESS_LINE2', 'CITY', 'STATE']).merge(vendor_file, on= ['ADDRESS_LINE1', 'ADDRESS_LINE2', 'CITY', 'STATE'])\n",
    "ins_claim_fraud.head()"
   ]
  },
  {
   "cell_type": "code",
   "execution_count": 3,
   "metadata": {},
   "outputs": [
    {
     "data": {
      "text/html": [
       "<div>\n",
       "<style scoped>\n",
       "    .dataframe tbody tr th:only-of-type {\n",
       "        vertical-align: middle;\n",
       "    }\n",
       "\n",
       "    .dataframe tbody tr th {\n",
       "        vertical-align: top;\n",
       "    }\n",
       "\n",
       "    .dataframe thead th {\n",
       "        text-align: right;\n",
       "    }\n",
       "</style>\n",
       "<table border=\"1\" class=\"dataframe\">\n",
       "  <thead>\n",
       "    <tr style=\"text-align: right;\">\n",
       "      <th></th>\n",
       "      <th>AGENT_ID_x</th>\n",
       "      <th>AGENT_NAME</th>\n",
       "      <th>DATE_OF_JOINING</th>\n",
       "      <th>ADDRESS_LINE1</th>\n",
       "      <th>ADDRESS_LINE2</th>\n",
       "      <th>CITY</th>\n",
       "      <th>STATE</th>\n",
       "      <th>POSTAL_CODE_x</th>\n",
       "      <th>EMP_ROUTING_NUMBER</th>\n",
       "      <th>EMP_ACCT_NUMBER</th>\n",
       "      <th>...</th>\n",
       "      <th>ANY_INJURY</th>\n",
       "      <th>POLICE_REPORT_AVAILABLE</th>\n",
       "      <th>INCIDENT_STATE</th>\n",
       "      <th>INCIDENT_CITY</th>\n",
       "      <th>INCIDENT_HOUR_OF_THE_DAY</th>\n",
       "      <th>AGENT_ID_y</th>\n",
       "      <th>VENDOR_ID_x</th>\n",
       "      <th>VENDOR_ID_y</th>\n",
       "      <th>VENDOR_NAME</th>\n",
       "      <th>POSTAL_CODE</th>\n",
       "    </tr>\n",
       "  </thead>\n",
       "  <tbody>\n",
       "    <tr>\n",
       "      <th>582</th>\n",
       "      <td>AGENT01172</td>\n",
       "      <td>Katherine Garcia</td>\n",
       "      <td>1/3/2017</td>\n",
       "      <td>9223 Elgin Circle</td>\n",
       "      <td>NaN</td>\n",
       "      <td>Anchorage</td>\n",
       "      <td>AK</td>\n",
       "      <td>99502</td>\n",
       "      <td>30474525</td>\n",
       "      <td>JMTY84637120051395</td>\n",
       "      <td>...</td>\n",
       "      <td>0</td>\n",
       "      <td>1</td>\n",
       "      <td>CA</td>\n",
       "      <td>Fremont</td>\n",
       "      <td>3</td>\n",
       "      <td>AGENT01005</td>\n",
       "      <td>VNDR00350</td>\n",
       "      <td>VNDR00450</td>\n",
       "      <td>Green, Perry and Anderson</td>\n",
       "      <td>99502</td>\n",
       "    </tr>\n",
       "    <tr>\n",
       "      <th>583</th>\n",
       "      <td>AGENT01172</td>\n",
       "      <td>Katherine Garcia</td>\n",
       "      <td>1/3/2017</td>\n",
       "      <td>9223 Elgin Circle</td>\n",
       "      <td>NaN</td>\n",
       "      <td>Anchorage</td>\n",
       "      <td>AK</td>\n",
       "      <td>99502</td>\n",
       "      <td>30474525</td>\n",
       "      <td>JMTY84637120051395</td>\n",
       "      <td>...</td>\n",
       "      <td>1</td>\n",
       "      <td>1</td>\n",
       "      <td>AZ</td>\n",
       "      <td>Glendale</td>\n",
       "      <td>12</td>\n",
       "      <td>AGENT00847</td>\n",
       "      <td>VNDR00006</td>\n",
       "      <td>VNDR00450</td>\n",
       "      <td>Green, Perry and Anderson</td>\n",
       "      <td>99502</td>\n",
       "    </tr>\n",
       "    <tr>\n",
       "      <th>584</th>\n",
       "      <td>AGENT01192</td>\n",
       "      <td>Maria Fitzgerald</td>\n",
       "      <td>5/13/2010</td>\n",
       "      <td>2236 Susitna Drive</td>\n",
       "      <td>NaN</td>\n",
       "      <td>Anchorage</td>\n",
       "      <td>AK</td>\n",
       "      <td>99517</td>\n",
       "      <td>57730721</td>\n",
       "      <td>WMQO78155993850287</td>\n",
       "      <td>...</td>\n",
       "      <td>0</td>\n",
       "      <td>1</td>\n",
       "      <td>DC</td>\n",
       "      <td>Washington</td>\n",
       "      <td>16</td>\n",
       "      <td>AGENT00601</td>\n",
       "      <td>VNDR00565</td>\n",
       "      <td>VNDR00421</td>\n",
       "      <td>Russo Inc</td>\n",
       "      <td>99517</td>\n",
       "    </tr>\n",
       "    <tr>\n",
       "      <th>585</th>\n",
       "      <td>AGENT01192</td>\n",
       "      <td>Maria Fitzgerald</td>\n",
       "      <td>5/13/2010</td>\n",
       "      <td>2236 Susitna Drive</td>\n",
       "      <td>NaN</td>\n",
       "      <td>Anchorage</td>\n",
       "      <td>AK</td>\n",
       "      <td>99517</td>\n",
       "      <td>57730721</td>\n",
       "      <td>WMQO78155993850287</td>\n",
       "      <td>...</td>\n",
       "      <td>1</td>\n",
       "      <td>1</td>\n",
       "      <td>CA</td>\n",
       "      <td>Oakland</td>\n",
       "      <td>23</td>\n",
       "      <td>AGENT00219</td>\n",
       "      <td>VNDR00374</td>\n",
       "      <td>VNDR00421</td>\n",
       "      <td>Russo Inc</td>\n",
       "      <td>99517</td>\n",
       "    </tr>\n",
       "    <tr>\n",
       "      <th>586</th>\n",
       "      <td>AGENT01192</td>\n",
       "      <td>Maria Fitzgerald</td>\n",
       "      <td>5/13/2010</td>\n",
       "      <td>2236 Susitna Drive</td>\n",
       "      <td>NaN</td>\n",
       "      <td>Anchorage</td>\n",
       "      <td>AK</td>\n",
       "      <td>99517</td>\n",
       "      <td>57730721</td>\n",
       "      <td>WMQO78155993850287</td>\n",
       "      <td>...</td>\n",
       "      <td>1</td>\n",
       "      <td>0</td>\n",
       "      <td>AZ</td>\n",
       "      <td>Litchfield Park</td>\n",
       "      <td>10</td>\n",
       "      <td>AGENT00227</td>\n",
       "      <td>VNDR00564</td>\n",
       "      <td>VNDR00421</td>\n",
       "      <td>Russo Inc</td>\n",
       "      <td>99517</td>\n",
       "    </tr>\n",
       "  </tbody>\n",
       "</table>\n",
       "<p>5 rows × 47 columns</p>\n",
       "</div>"
      ],
      "text/plain": [
       "     AGENT_ID_x        AGENT_NAME DATE_OF_JOINING       ADDRESS_LINE1  \\\n",
       "582  AGENT01172  Katherine Garcia        1/3/2017   9223 Elgin Circle   \n",
       "583  AGENT01172  Katherine Garcia        1/3/2017   9223 Elgin Circle   \n",
       "584  AGENT01192  Maria Fitzgerald       5/13/2010  2236 Susitna Drive   \n",
       "585  AGENT01192  Maria Fitzgerald       5/13/2010  2236 Susitna Drive   \n",
       "586  AGENT01192  Maria Fitzgerald       5/13/2010  2236 Susitna Drive   \n",
       "\n",
       "    ADDRESS_LINE2       CITY STATE  POSTAL_CODE_x  EMP_ROUTING_NUMBER  \\\n",
       "582           NaN  Anchorage    AK          99502            30474525   \n",
       "583           NaN  Anchorage    AK          99502            30474525   \n",
       "584           NaN  Anchorage    AK          99517            57730721   \n",
       "585           NaN  Anchorage    AK          99517            57730721   \n",
       "586           NaN  Anchorage    AK          99517            57730721   \n",
       "\n",
       "        EMP_ACCT_NUMBER  ... ANY_INJURY POLICE_REPORT_AVAILABLE  \\\n",
       "582  JMTY84637120051395  ...          0                       1   \n",
       "583  JMTY84637120051395  ...          1                       1   \n",
       "584  WMQO78155993850287  ...          0                       1   \n",
       "585  WMQO78155993850287  ...          1                       1   \n",
       "586  WMQO78155993850287  ...          1                       0   \n",
       "\n",
       "    INCIDENT_STATE    INCIDENT_CITY INCIDENT_HOUR_OF_THE_DAY  AGENT_ID_y  \\\n",
       "582             CA          Fremont                        3  AGENT01005   \n",
       "583             AZ         Glendale                       12  AGENT00847   \n",
       "584             DC       Washington                       16  AGENT00601   \n",
       "585             CA          Oakland                       23  AGENT00219   \n",
       "586             AZ  Litchfield Park                       10  AGENT00227   \n",
       "\n",
       "    VENDOR_ID_x VENDOR_ID_y                VENDOR_NAME  POSTAL_CODE  \n",
       "582   VNDR00350   VNDR00450  Green, Perry and Anderson        99502  \n",
       "583   VNDR00006   VNDR00450  Green, Perry and Anderson        99502  \n",
       "584   VNDR00565   VNDR00421                  Russo Inc        99517  \n",
       "585   VNDR00374   VNDR00421                  Russo Inc        99517  \n",
       "586   VNDR00564   VNDR00421                  Russo Inc        99517  \n",
       "\n",
       "[5 rows x 47 columns]"
      ]
     },
     "execution_count": 3,
     "metadata": {},
     "output_type": "execute_result"
    }
   ],
   "source": [
    "ins_claim_fraud.tail()"
   ]
  },
  {
   "cell_type": "code",
   "execution_count": 4,
   "metadata": {},
   "outputs": [
    {
     "data": {
      "text/plain": [
       "126"
      ]
     },
     "execution_count": 4,
     "metadata": {},
     "output_type": "execute_result"
    }
   ],
   "source": [
    "incident_cities_unique = len(ins_claim_fraud[\"INCIDENT_CITY\"].unique())\n",
    "incident_cities_unique"
   ]
  },
  {
   "cell_type": "code",
   "execution_count": 5,
   "metadata": {},
   "outputs": [
    {
     "data": {
      "text/plain": [
       "INCIDENT_CITY\n",
       "Manchester         37\n",
       "Louisville         36\n",
       "Arvada             33\n",
       "Montgomery         33\n",
       "Fayetteville       32\n",
       "                   ..\n",
       "Guilford            1\n",
       "Rancho Cordova      1\n",
       "Charlotte           1\n",
       "Wheelock            1\n",
       "Litchfield Park     1\n",
       "Name: count, Length: 125, dtype: int64"
      ]
     },
     "execution_count": 5,
     "metadata": {},
     "output_type": "execute_result"
    }
   ],
   "source": [
    "incident_count = ins_claim_fraud[\"INCIDENT_CITY\"].value_counts()\n",
    "incident_count"
   ]
  },
  {
   "cell_type": "code",
   "execution_count": 6,
   "metadata": {},
   "outputs": [
    {
     "data": {
      "text/plain": [
       "16"
      ]
     },
     "execution_count": 6,
     "metadata": {},
     "output_type": "execute_result"
    }
   ],
   "source": [
    "incident_state_unique = len(ins_claim_fraud[\"INCIDENT_STATE\"].unique())\n",
    "incident_state_unique"
   ]
  },
  {
   "cell_type": "code",
   "execution_count": 7,
   "metadata": {},
   "outputs": [
    {
     "data": {
      "text/plain": [
       "INCIDENT_STATE\n",
       "CA    72\n",
       "FL    52\n",
       "CO    42\n",
       "KY    39\n",
       "CT    37\n",
       "AL    35\n",
       "GA    35\n",
       "MD    34\n",
       "OK    33\n",
       "TN    33\n",
       "AR    33\n",
       "MA    32\n",
       "AZ    30\n",
       "VT    28\n",
       "DC    26\n",
       "AK    26\n",
       "Name: count, dtype: int64"
      ]
     },
     "execution_count": 7,
     "metadata": {},
     "output_type": "execute_result"
    }
   ],
   "source": [
    "incident_state_count = ins_claim_fraud[\"INCIDENT_STATE\"].value_counts()\n",
    "incident_state_count\n"
   ]
  },
  {
   "cell_type": "code",
   "execution_count": 8,
   "metadata": {},
   "outputs": [
    {
     "data": {
      "text/plain": [
       "24"
      ]
     },
     "execution_count": 8,
     "metadata": {},
     "output_type": "execute_result"
    }
   ],
   "source": [
    "incident_hour_unique = len(ins_claim_fraud[\"INCIDENT_HOUR_OF_THE_DAY\"].unique())\n",
    "incident_hour_unique"
   ]
  },
  {
   "cell_type": "code",
   "execution_count": 9,
   "metadata": {},
   "outputs": [
    {
     "data": {
      "text/plain": [
       "INCIDENT_HOUR_OF_THE_DAY\n",
       "10    46\n",
       "12    33\n",
       "18    31\n",
       "13    30\n",
       "11    29\n",
       "0     29\n",
       "16    28\n",
       "22    27\n",
       "23    26\n",
       "9     26\n",
       "21    24\n",
       "3     23\n",
       "5     22\n",
       "1     21\n",
       "14    21\n",
       "17    20\n",
       "20    20\n",
       "7     20\n",
       "15    20\n",
       "2     20\n",
       "6     19\n",
       "19    18\n",
       "4     18\n",
       "8     16\n",
       "Name: count, dtype: int64"
      ]
     },
     "execution_count": 9,
     "metadata": {},
     "output_type": "execute_result"
    }
   ],
   "source": [
    "incident_hour_count = ins_claim_fraud[\"INCIDENT_HOUR_OF_THE_DAY\"].value_counts()\n",
    "incident_hour_count"
   ]
  },
  {
   "cell_type": "code",
   "execution_count": 10,
   "metadata": {},
   "outputs": [
    {
     "data": {
      "text/plain": [
       "163"
      ]
     },
     "execution_count": 10,
     "metadata": {},
     "output_type": "execute_result"
    }
   ],
   "source": [
    "vender_unique = len(ins_claim_fraud[\"VENDOR_NAME\"].unique())\n",
    "vender_unique"
   ]
  },
  {
   "cell_type": "code",
   "execution_count": 11,
   "metadata": {},
   "outputs": [
    {
     "data": {
      "text/plain": [
       "VENDOR_NAME\n",
       "Anderson, Johnson and Kaiser    16\n",
       "Horne Inc                       12\n",
       "Blake, Jackson and Scott        12\n",
       "Richardson, Bates and Olson     10\n",
       "Jones-Banks                     10\n",
       "                                ..\n",
       "Potter Inc                       1\n",
       "Gray-Murray                      1\n",
       "Fleming Group                    1\n",
       "Ewing, Hudson and Davis          1\n",
       "Ochoa and Sons                   1\n",
       "Name: count, Length: 163, dtype: int64"
      ]
     },
     "execution_count": 11,
     "metadata": {},
     "output_type": "execute_result"
    }
   ],
   "source": [
    "vender_count = ins_claim_fraud[\"VENDOR_NAME\"].value_counts()\n",
    "vender_count"
   ]
  },
  {
   "cell_type": "code",
   "execution_count": 12,
   "metadata": {},
   "outputs": [
    {
     "data": {
      "text/plain": [
       "POLICE_REPORT_AVAILABLE\n",
       "1    412\n",
       "0    175\n",
       "Name: count, dtype: int64"
      ]
     },
     "execution_count": 12,
     "metadata": {},
     "output_type": "execute_result"
    }
   ],
   "source": [
    "police_rep_count = ins_claim_fraud[\"POLICE_REPORT_AVAILABLE\"].value_counts()\n",
    "police_rep_count"
   ]
  },
  {
   "cell_type": "code",
   "execution_count": 13,
   "metadata": {},
   "outputs": [
    {
     "data": {
      "text/plain": [
       "ANY_INJURY\n",
       "1    427\n",
       "0    160\n",
       "Name: count, dtype: int64"
      ]
     },
     "execution_count": 13,
     "metadata": {},
     "output_type": "execute_result"
    }
   ],
   "source": [
    "injury_count = ins_claim_fraud[\"ANY_INJURY\"].value_counts()\n",
    "injury_count"
   ]
  },
  {
   "cell_type": "code",
   "execution_count": 14,
   "metadata": {},
   "outputs": [
    {
     "data": {
      "text/plain": [
       "INCIDENT_SEVERITY\n",
       "Major Loss    206\n",
       "Total Loss    195\n",
       "Minor Loss    186\n",
       "Name: count, dtype: int64"
      ]
     },
     "execution_count": 14,
     "metadata": {},
     "output_type": "execute_result"
    }
   ],
   "source": [
    "severity_count = ins_claim_fraud[\"INCIDENT_SEVERITY\"].value_counts()\n",
    "severity_count"
   ]
  },
  {
   "cell_type": "code",
   "execution_count": 15,
   "metadata": {},
   "outputs": [
    {
     "data": {
      "text/plain": [
       "AUTHORITY_CONTACTED\n",
       "Ambulance    267\n",
       "Police       140\n",
       "Other         70\n",
       "Name: count, dtype: int64"
      ]
     },
     "execution_count": 15,
     "metadata": {},
     "output_type": "execute_result"
    }
   ],
   "source": [
    "authority_count = ins_claim_fraud[\"AUTHORITY_CONTACTED\"].value_counts()\n",
    "authority_count"
   ]
  },
  {
   "cell_type": "code",
   "execution_count": 16,
   "metadata": {},
   "outputs": [
    {
     "data": {
      "text/plain": [
       "RISK_SEGMENTATION\n",
       "L    254\n",
       "M    231\n",
       "H    102\n",
       "Name: count, dtype: int64"
      ]
     },
     "execution_count": 16,
     "metadata": {},
     "output_type": "execute_result"
    }
   ],
   "source": [
    "risk_count = ins_claim_fraud[\"RISK_SEGMENTATION\"].value_counts()\n",
    "risk_count"
   ]
  },
  {
   "cell_type": "code",
   "execution_count": 17,
   "metadata": {},
   "outputs": [
    {
     "data": {
      "text/plain": [
       "CLAIM_STATUS\n",
       "A    560\n",
       "D     27\n",
       "Name: count, dtype: int64"
      ]
     },
     "execution_count": 17,
     "metadata": {},
     "output_type": "execute_result"
    }
   ],
   "source": [
    "claim_status_count = ins_claim_fraud[\"CLAIM_STATUS\"].value_counts()\n",
    "claim_status_count"
   ]
  },
  {
   "cell_type": "code",
   "execution_count": 18,
   "metadata": {},
   "outputs": [
    {
     "data": {
      "text/plain": [
       "79"
      ]
     },
     "execution_count": 18,
     "metadata": {},
     "output_type": "execute_result"
    }
   ],
   "source": [
    "claim_amount_unique = len(ins_claim_fraud[\"CLAIM_AMOUNT\"].unique())\n",
    "claim_amount_unique"
   ]
  },
  {
   "cell_type": "code",
   "execution_count": 19,
   "metadata": {},
   "outputs": [
    {
     "data": {
      "text/plain": [
       "CLAIM_AMOUNT\n",
       "5000     44\n",
       "4000     42\n",
       "2000     37\n",
       "1000     32\n",
       "10000    31\n",
       "         ..\n",
       "28000     1\n",
       "60000     1\n",
       "96000     1\n",
       "48000     1\n",
       "35000     1\n",
       "Name: count, Length: 79, dtype: int64"
      ]
     },
     "execution_count": 19,
     "metadata": {},
     "output_type": "execute_result"
    }
   ],
   "source": [
    "claim_amount_count = ins_claim_fraud[\"CLAIM_AMOUNT\"].value_counts()\n",
    "claim_amount_count"
   ]
  },
  {
   "cell_type": "code",
   "execution_count": 20,
   "metadata": {},
   "outputs": [
    {
     "data": {
      "text/plain": [
       "7"
      ]
     },
     "execution_count": 20,
     "metadata": {},
     "output_type": "execute_result"
    }
   ],
   "source": [
    "education_unique = len(ins_claim_fraud[\"CUSTOMER_EDUCATION_LEVEL\"].unique())\n",
    "education_unique"
   ]
  },
  {
   "cell_type": "code",
   "execution_count": 21,
   "metadata": {},
   "outputs": [
    {
     "data": {
      "text/plain": [
       "CUSTOMER_EDUCATION_LEVEL\n",
       "Bachelor       248\n",
       "High School    126\n",
       "College         67\n",
       "Masters         54\n",
       "PhD             36\n",
       "MD              29\n",
       "Name: count, dtype: int64"
      ]
     },
     "execution_count": 21,
     "metadata": {},
     "output_type": "execute_result"
    }
   ],
   "source": [
    "education_count = ins_claim_fraud[\"CUSTOMER_EDUCATION_LEVEL\"].value_counts()\n",
    "education_count"
   ]
  },
  {
   "cell_type": "code",
   "execution_count": 22,
   "metadata": {},
   "outputs": [
    {
     "data": {
      "text/plain": [
       "EMPLOYMENT_STATUS\n",
       "Y    533\n",
       "N     54\n",
       "Name: count, dtype: int64"
      ]
     },
     "execution_count": 22,
     "metadata": {},
     "output_type": "execute_result"
    }
   ],
   "source": [
    "employment_count = ins_claim_fraud[\"EMPLOYMENT_STATUS\"].value_counts()\n",
    "employment_count"
   ]
  },
  {
   "cell_type": "code",
   "execution_count": 23,
   "metadata": {},
   "outputs": [
    {
     "data": {
      "text/plain": [
       "109"
      ]
     },
     "execution_count": 23,
     "metadata": {},
     "output_type": "execute_result"
    }
   ],
   "source": [
    "tenure_unique = len(ins_claim_fraud[\"TENURE\"].unique())\n",
    "tenure_unique"
   ]
  },
  {
   "cell_type": "code",
   "execution_count": 24,
   "metadata": {},
   "outputs": [
    {
     "data": {
      "text/plain": [
       "TENURE\n",
       "44     13\n",
       "99     12\n",
       "64     12\n",
       "58     11\n",
       "87     11\n",
       "       ..\n",
       "35      1\n",
       "27      1\n",
       "83      1\n",
       "37      1\n",
       "114     1\n",
       "Name: count, Length: 109, dtype: int64"
      ]
     },
     "execution_count": 24,
     "metadata": {},
     "output_type": "execute_result"
    }
   ],
   "source": [
    "tenure_count = ins_claim_fraud[\"TENURE\"].value_counts()\n",
    "tenure_count"
   ]
  },
  {
   "cell_type": "code",
   "execution_count": 25,
   "metadata": {},
   "outputs": [
    {
     "data": {
      "text/plain": [
       "SOCIAL_CLASS\n",
       "MI    261\n",
       "LI    185\n",
       "HI    141\n",
       "Name: count, dtype: int64"
      ]
     },
     "execution_count": 25,
     "metadata": {},
     "output_type": "execute_result"
    }
   ],
   "source": [
    "social_class_count = ins_claim_fraud[\"SOCIAL_CLASS\"].value_counts()\n",
    "social_class_count"
   ]
  },
  {
   "cell_type": "code",
   "execution_count": 26,
   "metadata": {},
   "outputs": [
    {
     "data": {
      "text/plain": [
       "HOUSE_TYPE\n",
       "Mortgage    233\n",
       "Rent        199\n",
       "Own         155\n",
       "Name: count, dtype: int64"
      ]
     },
     "execution_count": 26,
     "metadata": {},
     "output_type": "execute_result"
    }
   ],
   "source": [
    "house_type_count = ins_claim_fraud[\"HOUSE_TYPE\"].value_counts()\n",
    "house_type_count"
   ]
  },
  {
   "cell_type": "code",
   "execution_count": 27,
   "metadata": {},
   "outputs": [
    {
     "data": {
      "text/plain": [
       "6"
      ]
     },
     "execution_count": 27,
     "metadata": {},
     "output_type": "execute_result"
    }
   ],
   "source": [
    "family_size_unique = len(ins_claim_fraud[\"NO_OF_FAMILY_MEMBERS\"].unique())\n",
    "family_size_unique"
   ]
  },
  {
   "cell_type": "code",
   "execution_count": 28,
   "metadata": {},
   "outputs": [
    {
     "data": {
      "text/plain": [
       "NO_OF_FAMILY_MEMBERS\n",
       "7    110\n",
       "6    105\n",
       "2    102\n",
       "4     97\n",
       "5     87\n",
       "3     86\n",
       "Name: count, dtype: int64"
      ]
     },
     "execution_count": 28,
     "metadata": {},
     "output_type": "execute_result"
    }
   ],
   "source": [
    "family_size_count = ins_claim_fraud[\"NO_OF_FAMILY_MEMBERS\"].value_counts()\n",
    "family_size_count"
   ]
  },
  {
   "cell_type": "code",
   "execution_count": null,
   "metadata": {},
   "outputs": [],
   "source": []
  }
 ],
 "metadata": {
  "kernelspec": {
   "display_name": "base",
   "language": "python",
   "name": "python3"
  },
  "language_info": {
   "codemirror_mode": {
    "name": "ipython",
    "version": 3
   },
   "file_extension": ".py",
   "mimetype": "text/x-python",
   "name": "python",
   "nbconvert_exporter": "python",
   "pygments_lexer": "ipython3",
   "version": "3.10.13"
  }
 },
 "nbformat": 4,
 "nbformat_minor": 2
}
