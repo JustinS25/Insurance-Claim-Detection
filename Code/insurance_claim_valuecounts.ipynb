{
 "cells": [
  {
   "cell_type": "code",
   "execution_count": 1,
   "metadata": {},
   "outputs": [],
   "source": [
    "# Dependencies and Setup\n",
    "import pandas as pd\n",
    "import requests\n",
    "import matplotlib.pyplot as plt\n",
    "import numpy as np\n",
    "from scipy.stats import linregress"
   ]
  },
  {
   "cell_type": "code",
   "execution_count": 2,
   "metadata": {},
   "outputs": [
    {
     "data": {
      "text/html": [
       "<div>\n",
       "<style scoped>\n",
       "    .dataframe tbody tr th:only-of-type {\n",
       "        vertical-align: middle;\n",
       "    }\n",
       "\n",
       "    .dataframe tbody tr th {\n",
       "        vertical-align: top;\n",
       "    }\n",
       "\n",
       "    .dataframe thead th {\n",
       "        text-align: right;\n",
       "    }\n",
       "</style>\n",
       "<table border=\"1\" class=\"dataframe\">\n",
       "  <thead>\n",
       "    <tr style=\"text-align: right;\">\n",
       "      <th></th>\n",
       "      <th>TRANSACTION_ID</th>\n",
       "      <th>CUSTOMER_ID</th>\n",
       "      <th>POLICY_NUMBER</th>\n",
       "      <th>POLICY_EFFECTIVE_DATE</th>\n",
       "      <th>LOSS_DATE</th>\n",
       "      <th>REPORT_DATE</th>\n",
       "      <th>INSURANCE_TYPE</th>\n",
       "      <th>PREMIUM_AMOUNT</th>\n",
       "      <th>CLAIM_AMOUNT</th>\n",
       "      <th>CUSTOMER_NAME</th>\n",
       "      <th>...</th>\n",
       "      <th>VENDOR_ID</th>\n",
       "      <th>AGENT_NAME</th>\n",
       "      <th>DATE_OF_JOINING</th>\n",
       "      <th>EMPLOYEE CITY</th>\n",
       "      <th>EMPLOYEE STATE</th>\n",
       "      <th>EMPLOYEE POSTAL_CODE</th>\n",
       "      <th>VENDOR_NAME</th>\n",
       "      <th>VENDOR CITY</th>\n",
       "      <th>VENDOR STATE</th>\n",
       "      <th>VENDOR POSTAL_CODE</th>\n",
       "    </tr>\n",
       "  </thead>\n",
       "  <tbody>\n",
       "    <tr>\n",
       "      <th>0</th>\n",
       "      <td>TXN00000001</td>\n",
       "      <td>A00003822</td>\n",
       "      <td>PLC00008468</td>\n",
       "      <td>6/23/2015</td>\n",
       "      <td>5/16/2020</td>\n",
       "      <td>5/21/2020</td>\n",
       "      <td>Health</td>\n",
       "      <td>157.13</td>\n",
       "      <td>9000</td>\n",
       "      <td>Christopher Demarest</td>\n",
       "      <td>...</td>\n",
       "      <td>VNDR00556</td>\n",
       "      <td>Amy Wangler</td>\n",
       "      <td>1/6/1994</td>\n",
       "      <td>Nashville</td>\n",
       "      <td>TN</td>\n",
       "      <td>37217</td>\n",
       "      <td>Ramsey Inc</td>\n",
       "      <td>Panama City</td>\n",
       "      <td>FL</td>\n",
       "      <td>32405.0</td>\n",
       "    </tr>\n",
       "    <tr>\n",
       "      <th>1</th>\n",
       "      <td>TXN00000258</td>\n",
       "      <td>A00003072</td>\n",
       "      <td>PLC00008557</td>\n",
       "      <td>2/15/2014</td>\n",
       "      <td>5/27/2020</td>\n",
       "      <td>6/1/2020</td>\n",
       "      <td>Life</td>\n",
       "      <td>57.15</td>\n",
       "      <td>54000</td>\n",
       "      <td>Tommy Young</td>\n",
       "      <td>...</td>\n",
       "      <td>NaN</td>\n",
       "      <td>Amy Wangler</td>\n",
       "      <td>1/6/1994</td>\n",
       "      <td>Nashville</td>\n",
       "      <td>TN</td>\n",
       "      <td>37217</td>\n",
       "      <td>NaN</td>\n",
       "      <td>NaN</td>\n",
       "      <td>NaN</td>\n",
       "      <td>NaN</td>\n",
       "    </tr>\n",
       "    <tr>\n",
       "      <th>2</th>\n",
       "      <td>TXN00002428</td>\n",
       "      <td>A00001447</td>\n",
       "      <td>PLC00004391</td>\n",
       "      <td>1/30/2015</td>\n",
       "      <td>8/23/2020</td>\n",
       "      <td>8/28/2020</td>\n",
       "      <td>Life</td>\n",
       "      <td>65.06</td>\n",
       "      <td>13000</td>\n",
       "      <td>Kathy Keim</td>\n",
       "      <td>...</td>\n",
       "      <td>NaN</td>\n",
       "      <td>Amy Wangler</td>\n",
       "      <td>1/6/1994</td>\n",
       "      <td>Nashville</td>\n",
       "      <td>TN</td>\n",
       "      <td>37217</td>\n",
       "      <td>NaN</td>\n",
       "      <td>NaN</td>\n",
       "      <td>NaN</td>\n",
       "      <td>NaN</td>\n",
       "    </tr>\n",
       "    <tr>\n",
       "      <th>3</th>\n",
       "      <td>TXN00002811</td>\n",
       "      <td>A00001822</td>\n",
       "      <td>PLC00009369</td>\n",
       "      <td>8/22/2012</td>\n",
       "      <td>9/6/2020</td>\n",
       "      <td>9/11/2020</td>\n",
       "      <td>Life</td>\n",
       "      <td>87.16</td>\n",
       "      <td>42000</td>\n",
       "      <td>George Schmidt</td>\n",
       "      <td>...</td>\n",
       "      <td>NaN</td>\n",
       "      <td>Amy Wangler</td>\n",
       "      <td>1/6/1994</td>\n",
       "      <td>Nashville</td>\n",
       "      <td>TN</td>\n",
       "      <td>37217</td>\n",
       "      <td>NaN</td>\n",
       "      <td>NaN</td>\n",
       "      <td>NaN</td>\n",
       "      <td>NaN</td>\n",
       "    </tr>\n",
       "    <tr>\n",
       "      <th>4</th>\n",
       "      <td>TXN00002861</td>\n",
       "      <td>A00006019</td>\n",
       "      <td>PLC00006747</td>\n",
       "      <td>2/5/2017</td>\n",
       "      <td>9/14/2020</td>\n",
       "      <td>9/17/2020</td>\n",
       "      <td>Mobile</td>\n",
       "      <td>11.85</td>\n",
       "      <td>500</td>\n",
       "      <td>Allan Baumeister</td>\n",
       "      <td>...</td>\n",
       "      <td>VNDR00344</td>\n",
       "      <td>Amy Wangler</td>\n",
       "      <td>1/6/1994</td>\n",
       "      <td>Nashville</td>\n",
       "      <td>TN</td>\n",
       "      <td>37217</td>\n",
       "      <td>Lewis Ltd</td>\n",
       "      <td>Montgomery</td>\n",
       "      <td>AL</td>\n",
       "      <td>36104.0</td>\n",
       "    </tr>\n",
       "  </tbody>\n",
       "</table>\n",
       "<p>5 rows × 41 columns</p>\n",
       "</div>"
      ],
      "text/plain": [
       "  TRANSACTION_ID CUSTOMER_ID POLICY_NUMBER POLICY_EFFECTIVE_DATE  LOSS_DATE  \\\n",
       "0    TXN00000001   A00003822   PLC00008468             6/23/2015  5/16/2020   \n",
       "1    TXN00000258   A00003072   PLC00008557             2/15/2014  5/27/2020   \n",
       "2    TXN00002428   A00001447   PLC00004391             1/30/2015  8/23/2020   \n",
       "3    TXN00002811   A00001822   PLC00009369             8/22/2012   9/6/2020   \n",
       "4    TXN00002861   A00006019   PLC00006747              2/5/2017  9/14/2020   \n",
       "\n",
       "  REPORT_DATE INSURANCE_TYPE  PREMIUM_AMOUNT  CLAIM_AMOUNT  \\\n",
       "0   5/21/2020         Health          157.13          9000   \n",
       "1    6/1/2020           Life           57.15         54000   \n",
       "2   8/28/2020           Life           65.06         13000   \n",
       "3   9/11/2020           Life           87.16         42000   \n",
       "4   9/17/2020         Mobile           11.85           500   \n",
       "\n",
       "          CUSTOMER_NAME  ...  VENDOR_ID   AGENT_NAME  DATE_OF_JOINING  \\\n",
       "0  Christopher Demarest  ...  VNDR00556  Amy Wangler         1/6/1994   \n",
       "1           Tommy Young  ...        NaN  Amy Wangler         1/6/1994   \n",
       "2            Kathy Keim  ...        NaN  Amy Wangler         1/6/1994   \n",
       "3        George Schmidt  ...        NaN  Amy Wangler         1/6/1994   \n",
       "4      Allan Baumeister  ...  VNDR00344  Amy Wangler         1/6/1994   \n",
       "\n",
       "  EMPLOYEE CITY  EMPLOYEE STATE  EMPLOYEE POSTAL_CODE VENDOR_NAME  \\\n",
       "0     Nashville              TN                 37217  Ramsey Inc   \n",
       "1     Nashville              TN                 37217         NaN   \n",
       "2     Nashville              TN                 37217         NaN   \n",
       "3     Nashville              TN                 37217         NaN   \n",
       "4     Nashville              TN                 37217   Lewis Ltd   \n",
       "\n",
       "   VENDOR CITY VENDOR STATE VENDOR POSTAL_CODE  \n",
       "0  Panama City           FL            32405.0  \n",
       "1          NaN          NaN                NaN  \n",
       "2          NaN          NaN                NaN  \n",
       "3          NaN          NaN                NaN  \n",
       "4   Montgomery           AL            36104.0  \n",
       "\n",
       "[5 rows x 41 columns]"
      ]
     },
     "execution_count": 2,
     "metadata": {},
     "output_type": "execute_result"
    }
   ],
   "source": [
    "# Read in merged csv file and display data\n",
    "ins_claim_fraud = pd.read_csv(\"CSV Files/insurance_claims_data.csv\")\n",
    "ins_claim_fraud.head()"
   ]
  },
  {
   "cell_type": "code",
   "execution_count": 3,
   "metadata": {},
   "outputs": [
    {
     "data": {
      "text/html": [
       "<div>\n",
       "<style scoped>\n",
       "    .dataframe tbody tr th:only-of-type {\n",
       "        vertical-align: middle;\n",
       "    }\n",
       "\n",
       "    .dataframe tbody tr th {\n",
       "        vertical-align: top;\n",
       "    }\n",
       "\n",
       "    .dataframe thead th {\n",
       "        text-align: right;\n",
       "    }\n",
       "</style>\n",
       "<table border=\"1\" class=\"dataframe\">\n",
       "  <thead>\n",
       "    <tr style=\"text-align: right;\">\n",
       "      <th></th>\n",
       "      <th>TRANSACTION_ID</th>\n",
       "      <th>CUSTOMER_ID</th>\n",
       "      <th>POLICY_NUMBER</th>\n",
       "      <th>POLICY_EFFECTIVE_DATE</th>\n",
       "      <th>LOSS_DATE</th>\n",
       "      <th>REPORT_DATE</th>\n",
       "      <th>INSURANCE_TYPE</th>\n",
       "      <th>PREMIUM_AMOUNT</th>\n",
       "      <th>CLAIM_AMOUNT</th>\n",
       "      <th>CUSTOMER_NAME</th>\n",
       "      <th>...</th>\n",
       "      <th>VENDOR_ID</th>\n",
       "      <th>AGENT_NAME</th>\n",
       "      <th>DATE_OF_JOINING</th>\n",
       "      <th>EMPLOYEE CITY</th>\n",
       "      <th>EMPLOYEE STATE</th>\n",
       "      <th>EMPLOYEE POSTAL_CODE</th>\n",
       "      <th>VENDOR_NAME</th>\n",
       "      <th>VENDOR CITY</th>\n",
       "      <th>VENDOR STATE</th>\n",
       "      <th>VENDOR POSTAL_CODE</th>\n",
       "    </tr>\n",
       "  </thead>\n",
       "  <tbody>\n",
       "    <tr>\n",
       "      <th>9995</th>\n",
       "      <td>TXN00008381</td>\n",
       "      <td>A00006144</td>\n",
       "      <td>PLC00005140</td>\n",
       "      <td>10/23/2012</td>\n",
       "      <td>4/15/2021</td>\n",
       "      <td>4/20/2021</td>\n",
       "      <td>Life</td>\n",
       "      <td>64.16</td>\n",
       "      <td>93000</td>\n",
       "      <td>Ana Garcia</td>\n",
       "      <td>...</td>\n",
       "      <td>VNDR00378</td>\n",
       "      <td>Angel Alexander</td>\n",
       "      <td>8/26/2012</td>\n",
       "      <td>Manchester</td>\n",
       "      <td>CT</td>\n",
       "      <td>6040</td>\n",
       "      <td>Reed, Bartlett and Miles</td>\n",
       "      <td>Savannah</td>\n",
       "      <td>GA</td>\n",
       "      <td>31401.0</td>\n",
       "    </tr>\n",
       "    <tr>\n",
       "      <th>9996</th>\n",
       "      <td>TXN00008462</td>\n",
       "      <td>A00004250</td>\n",
       "      <td>PLC00009507</td>\n",
       "      <td>8/30/2019</td>\n",
       "      <td>4/20/2021</td>\n",
       "      <td>4/25/2021</td>\n",
       "      <td>Mobile</td>\n",
       "      <td>9.76</td>\n",
       "      <td>300</td>\n",
       "      <td>Roy Sipp</td>\n",
       "      <td>...</td>\n",
       "      <td>NaN</td>\n",
       "      <td>Angel Alexander</td>\n",
       "      <td>8/26/2012</td>\n",
       "      <td>Manchester</td>\n",
       "      <td>CT</td>\n",
       "      <td>6040</td>\n",
       "      <td>NaN</td>\n",
       "      <td>NaN</td>\n",
       "      <td>NaN</td>\n",
       "      <td>NaN</td>\n",
       "    </tr>\n",
       "    <tr>\n",
       "      <th>9997</th>\n",
       "      <td>TXN00009410</td>\n",
       "      <td>A00004412</td>\n",
       "      <td>PLC00005536</td>\n",
       "      <td>11/25/2019</td>\n",
       "      <td>6/5/2021</td>\n",
       "      <td>6/5/2021</td>\n",
       "      <td>Motor</td>\n",
       "      <td>97.78</td>\n",
       "      <td>3000</td>\n",
       "      <td>Josephine Williams</td>\n",
       "      <td>...</td>\n",
       "      <td>VNDR00580</td>\n",
       "      <td>Angel Alexander</td>\n",
       "      <td>8/26/2012</td>\n",
       "      <td>Manchester</td>\n",
       "      <td>CT</td>\n",
       "      <td>6040</td>\n",
       "      <td>Dennis LLC</td>\n",
       "      <td>Nashville</td>\n",
       "      <td>TN</td>\n",
       "      <td>37207.0</td>\n",
       "    </tr>\n",
       "    <tr>\n",
       "      <th>9998</th>\n",
       "      <td>TXN00009756</td>\n",
       "      <td>A00003267</td>\n",
       "      <td>PLC00007273</td>\n",
       "      <td>9/29/2012</td>\n",
       "      <td>6/1/2021</td>\n",
       "      <td>6/6/2021</td>\n",
       "      <td>Mobile</td>\n",
       "      <td>7.64</td>\n",
       "      <td>200</td>\n",
       "      <td>Daniel Benninger</td>\n",
       "      <td>...</td>\n",
       "      <td>VNDR00383</td>\n",
       "      <td>Angel Alexander</td>\n",
       "      <td>8/26/2012</td>\n",
       "      <td>Manchester</td>\n",
       "      <td>CT</td>\n",
       "      <td>6040</td>\n",
       "      <td>Dawson, Taylor and Chavez</td>\n",
       "      <td>Norwood</td>\n",
       "      <td>MA</td>\n",
       "      <td>2062.0</td>\n",
       "    </tr>\n",
       "    <tr>\n",
       "      <th>9999</th>\n",
       "      <td>TXN00008671</td>\n",
       "      <td>A00006937</td>\n",
       "      <td>PLC00007149</td>\n",
       "      <td>1/11/2016</td>\n",
       "      <td>5/8/2021</td>\n",
       "      <td>5/8/2021</td>\n",
       "      <td>Life</td>\n",
       "      <td>73.51</td>\n",
       "      <td>49000</td>\n",
       "      <td>Frances Clark</td>\n",
       "      <td>...</td>\n",
       "      <td>NaN</td>\n",
       "      <td>Charlotte Payne</td>\n",
       "      <td>10/12/2012</td>\n",
       "      <td>Manchester</td>\n",
       "      <td>CT</td>\n",
       "      <td>6040</td>\n",
       "      <td>NaN</td>\n",
       "      <td>NaN</td>\n",
       "      <td>NaN</td>\n",
       "      <td>NaN</td>\n",
       "    </tr>\n",
       "  </tbody>\n",
       "</table>\n",
       "<p>5 rows × 41 columns</p>\n",
       "</div>"
      ],
      "text/plain": [
       "     TRANSACTION_ID CUSTOMER_ID POLICY_NUMBER POLICY_EFFECTIVE_DATE  \\\n",
       "9995    TXN00008381   A00006144   PLC00005140            10/23/2012   \n",
       "9996    TXN00008462   A00004250   PLC00009507             8/30/2019   \n",
       "9997    TXN00009410   A00004412   PLC00005536            11/25/2019   \n",
       "9998    TXN00009756   A00003267   PLC00007273             9/29/2012   \n",
       "9999    TXN00008671   A00006937   PLC00007149             1/11/2016   \n",
       "\n",
       "      LOSS_DATE REPORT_DATE INSURANCE_TYPE  PREMIUM_AMOUNT  CLAIM_AMOUNT  \\\n",
       "9995  4/15/2021   4/20/2021           Life           64.16         93000   \n",
       "9996  4/20/2021   4/25/2021         Mobile            9.76           300   \n",
       "9997   6/5/2021    6/5/2021          Motor           97.78          3000   \n",
       "9998   6/1/2021    6/6/2021         Mobile            7.64           200   \n",
       "9999   5/8/2021    5/8/2021           Life           73.51         49000   \n",
       "\n",
       "           CUSTOMER_NAME  ...  VENDOR_ID       AGENT_NAME  DATE_OF_JOINING  \\\n",
       "9995          Ana Garcia  ...  VNDR00378  Angel Alexander        8/26/2012   \n",
       "9996            Roy Sipp  ...        NaN  Angel Alexander        8/26/2012   \n",
       "9997  Josephine Williams  ...  VNDR00580  Angel Alexander        8/26/2012   \n",
       "9998    Daniel Benninger  ...  VNDR00383  Angel Alexander        8/26/2012   \n",
       "9999       Frances Clark  ...        NaN  Charlotte Payne       10/12/2012   \n",
       "\n",
       "     EMPLOYEE CITY  EMPLOYEE STATE  EMPLOYEE POSTAL_CODE  \\\n",
       "9995    Manchester              CT                  6040   \n",
       "9996    Manchester              CT                  6040   \n",
       "9997    Manchester              CT                  6040   \n",
       "9998    Manchester              CT                  6040   \n",
       "9999    Manchester              CT                  6040   \n",
       "\n",
       "                    VENDOR_NAME  VENDOR CITY VENDOR STATE VENDOR POSTAL_CODE  \n",
       "9995   Reed, Bartlett and Miles     Savannah           GA            31401.0  \n",
       "9996                        NaN          NaN          NaN                NaN  \n",
       "9997                 Dennis LLC    Nashville           TN            37207.0  \n",
       "9998  Dawson, Taylor and Chavez      Norwood           MA             2062.0  \n",
       "9999                        NaN          NaN          NaN                NaN  \n",
       "\n",
       "[5 rows x 41 columns]"
      ]
     },
     "execution_count": 3,
     "metadata": {},
     "output_type": "execute_result"
    }
   ],
   "source": [
    "# Display last 5 rows in csv\n",
    "ins_claim_fraud.tail()"
   ]
  },
  {
   "cell_type": "code",
   "execution_count": 4,
   "metadata": {},
   "outputs": [
    {
     "data": {
      "text/plain": [
       "407"
      ]
     },
     "execution_count": 4,
     "metadata": {},
     "output_type": "execute_result"
    }
   ],
   "source": [
    "incident_cities_unique = len(ins_claim_fraud[\"INCIDENT_CITY\"].unique())\n",
    "incident_cities_unique"
   ]
  },
  {
   "cell_type": "code",
   "execution_count": 5,
   "metadata": {},
   "outputs": [
    {
     "data": {
      "text/plain": [
       "INCIDENT_CITY\n",
       "Manchester    606\n",
       "Washington    594\n",
       "Montgomery    584\n",
       "Glendale      582\n",
       "Arvada        558\n",
       "             ... \n",
       "Soquel          1\n",
       "Fair Haven      1\n",
       "East Haven      1\n",
       "Norwood         1\n",
       "Longmeadow      1\n",
       "Name: count, Length: 406, dtype: int64"
      ]
     },
     "execution_count": 5,
     "metadata": {},
     "output_type": "execute_result"
    }
   ],
   "source": [
    "incident_count = ins_claim_fraud[\"INCIDENT_CITY\"].value_counts()\n",
    "incident_count"
   ]
  },
  {
   "cell_type": "code",
   "execution_count": 6,
   "metadata": {},
   "outputs": [
    {
     "data": {
      "text/plain": [
       "16"
      ]
     },
     "execution_count": 6,
     "metadata": {},
     "output_type": "execute_result"
    }
   ],
   "source": [
    "incident_state_unique = len(ins_claim_fraud[\"INCIDENT_STATE\"].unique())\n",
    "incident_state_unique"
   ]
  },
  {
   "cell_type": "code",
   "execution_count": 7,
   "metadata": {},
   "outputs": [
    {
     "data": {
      "text/plain": [
       "INCIDENT_STATE\n",
       "CA    1048\n",
       "CO     707\n",
       "FL     689\n",
       "AZ     637\n",
       "CT     619\n",
       "AL     612\n",
       "MD     597\n",
       "GA     592\n",
       "DC     587\n",
       "OK     582\n",
       "AR     581\n",
       "TN     581\n",
       "MA     576\n",
       "KY     536\n",
       "AK     529\n",
       "VT     527\n",
       "Name: count, dtype: int64"
      ]
     },
     "execution_count": 7,
     "metadata": {},
     "output_type": "execute_result"
    }
   ],
   "source": [
    "incident_state_count = ins_claim_fraud[\"INCIDENT_STATE\"].value_counts()\n",
    "incident_state_count\n"
   ]
  },
  {
   "cell_type": "code",
   "execution_count": 8,
   "metadata": {},
   "outputs": [
    {
     "data": {
      "text/plain": [
       "24"
      ]
     },
     "execution_count": 8,
     "metadata": {},
     "output_type": "execute_result"
    }
   ],
   "source": [
    "incident_hour_unique = len(ins_claim_fraud[\"INCIDENT_HOUR_OF_THE_DAY\"].unique())\n",
    "incident_hour_unique"
   ]
  },
  {
   "cell_type": "code",
   "execution_count": 9,
   "metadata": {},
   "outputs": [
    {
     "data": {
      "text/plain": [
       "INCIDENT_HOUR_OF_THE_DAY\n",
       "15    462\n",
       "6     461\n",
       "18    445\n",
       "17    441\n",
       "22    440\n",
       "10    436\n",
       "5     434\n",
       "19    430\n",
       "9     414\n",
       "14    413\n",
       "16    411\n",
       "11    411\n",
       "13    409\n",
       "21    404\n",
       "0     404\n",
       "2     403\n",
       "8     403\n",
       "20    402\n",
       "4     402\n",
       "12    402\n",
       "23    401\n",
       "3     395\n",
       "7     394\n",
       "1     383\n",
       "Name: count, dtype: int64"
      ]
     },
     "execution_count": 9,
     "metadata": {},
     "output_type": "execute_result"
    }
   ],
   "source": [
    "incident_hour_count = ins_claim_fraud[\"INCIDENT_HOUR_OF_THE_DAY\"].value_counts()\n",
    "incident_hour_count"
   ]
  },
  {
   "cell_type": "code",
   "execution_count": 10,
   "metadata": {},
   "outputs": [
    {
     "data": {
      "text/plain": [
       "404"
      ]
     },
     "execution_count": 10,
     "metadata": {},
     "output_type": "execute_result"
    }
   ],
   "source": [
    "vender_unique = len(ins_claim_fraud[\"VENDOR_NAME\"].unique())\n",
    "vender_unique"
   ]
  },
  {
   "cell_type": "code",
   "execution_count": 11,
   "metadata": {},
   "outputs": [
    {
     "data": {
      "text/plain": [
       "VENDOR_NAME\n",
       "Thompson Inc                      38\n",
       "Anderson Inc                      35\n",
       "Garcia PLC                        31\n",
       "Hill LLC                          31\n",
       "Hicks, Patton and Cook            28\n",
       "                                  ..\n",
       "Ortega-Michael                     9\n",
       "Johnson, Hernandez and Mcguire     9\n",
       "Watkins Inc                        9\n",
       "Knight-Ortiz                       8\n",
       "Miller, Perez and Cannon           6\n",
       "Name: count, Length: 403, dtype: int64"
      ]
     },
     "execution_count": 11,
     "metadata": {},
     "output_type": "execute_result"
    }
   ],
   "source": [
    "vender_count = ins_claim_fraud[\"VENDOR_NAME\"].value_counts()\n",
    "vender_count"
   ]
  },
  {
   "cell_type": "code",
   "execution_count": 12,
   "metadata": {},
   "outputs": [
    {
     "data": {
      "text/plain": [
       "POLICE_REPORT_AVAILABLE\n",
       "1    6928\n",
       "0    3072\n",
       "Name: count, dtype: int64"
      ]
     },
     "execution_count": 12,
     "metadata": {},
     "output_type": "execute_result"
    }
   ],
   "source": [
    "police_rep_count = ins_claim_fraud[\"POLICE_REPORT_AVAILABLE\"].value_counts()\n",
    "police_rep_count"
   ]
  },
  {
   "cell_type": "code",
   "execution_count": 13,
   "metadata": {},
   "outputs": [
    {
     "data": {
      "text/plain": [
       "ANY_INJURY\n",
       "1    6991\n",
       "0    3009\n",
       "Name: count, dtype: int64"
      ]
     },
     "execution_count": 13,
     "metadata": {},
     "output_type": "execute_result"
    }
   ],
   "source": [
    "injury_count = ins_claim_fraud[\"ANY_INJURY\"].value_counts()\n",
    "injury_count"
   ]
  },
  {
   "cell_type": "code",
   "execution_count": 14,
   "metadata": {},
   "outputs": [
    {
     "data": {
      "text/plain": [
       "INCIDENT_SEVERITY\n",
       "Total Loss    3390\n",
       "Major Loss    3317\n",
       "Minor Loss    3293\n",
       "Name: count, dtype: int64"
      ]
     },
     "execution_count": 14,
     "metadata": {},
     "output_type": "execute_result"
    }
   ],
   "source": [
    "severity_count = ins_claim_fraud[\"INCIDENT_SEVERITY\"].value_counts()\n",
    "severity_count"
   ]
  },
  {
   "cell_type": "code",
   "execution_count": 15,
   "metadata": {},
   "outputs": [
    {
     "data": {
      "text/plain": [
       "AUTHORITY_CONTACTED\n",
       "Ambulance    4082\n",
       "Police       2982\n",
       "Other         991\n",
       "Name: count, dtype: int64"
      ]
     },
     "execution_count": 15,
     "metadata": {},
     "output_type": "execute_result"
    }
   ],
   "source": [
    "authority_count = ins_claim_fraud[\"AUTHORITY_CONTACTED\"].value_counts()\n",
    "authority_count"
   ]
  },
  {
   "cell_type": "code",
   "execution_count": 16,
   "metadata": {},
   "outputs": [
    {
     "data": {
      "text/plain": [
       "RISK_SEGMENTATION\n",
       "L    4395\n",
       "M    4150\n",
       "H    1455\n",
       "Name: count, dtype: int64"
      ]
     },
     "execution_count": 16,
     "metadata": {},
     "output_type": "execute_result"
    }
   ],
   "source": [
    "risk_count = ins_claim_fraud[\"RISK_SEGMENTATION\"].value_counts()\n",
    "risk_count"
   ]
  },
  {
   "cell_type": "code",
   "execution_count": 17,
   "metadata": {},
   "outputs": [
    {
     "data": {
      "text/plain": [
       "CLAIM_STATUS\n",
       "A    9497\n",
       "D     503\n",
       "Name: count, dtype: int64"
      ]
     },
     "execution_count": 17,
     "metadata": {},
     "output_type": "execute_result"
    }
   ],
   "source": [
    "claim_status_count = ins_claim_fraud[\"CLAIM_STATUS\"].value_counts()\n",
    "claim_status_count"
   ]
  },
  {
   "cell_type": "code",
   "execution_count": 18,
   "metadata": {},
   "outputs": [
    {
     "data": {
      "text/plain": [
       "107"
      ]
     },
     "execution_count": 18,
     "metadata": {},
     "output_type": "execute_result"
    }
   ],
   "source": [
    "claim_amount_unique = len(ins_claim_fraud[\"CLAIM_AMOUNT\"].unique())\n",
    "claim_amount_unique"
   ]
  },
  {
   "cell_type": "code",
   "execution_count": 19,
   "metadata": {},
   "outputs": [
    {
     "data": {
      "text/plain": [
       "CLAIM_AMOUNT\n",
       "1000     585\n",
       "2000     584\n",
       "5000     573\n",
       "4000     567\n",
       "3000     563\n",
       "        ... \n",
       "62000     12\n",
       "88000     12\n",
       "94000     11\n",
       "98000     11\n",
       "66000     10\n",
       "Name: count, Length: 107, dtype: int64"
      ]
     },
     "execution_count": 19,
     "metadata": {},
     "output_type": "execute_result"
    }
   ],
   "source": [
    "claim_amount_count = ins_claim_fraud[\"CLAIM_AMOUNT\"].value_counts()\n",
    "claim_amount_count"
   ]
  },
  {
   "cell_type": "code",
   "execution_count": 20,
   "metadata": {},
   "outputs": [
    {
     "data": {
      "text/plain": [
       "7"
      ]
     },
     "execution_count": 20,
     "metadata": {},
     "output_type": "execute_result"
    }
   ],
   "source": [
    "education_unique = len(ins_claim_fraud[\"CUSTOMER_EDUCATION_LEVEL\"].unique())\n",
    "education_unique"
   ]
  },
  {
   "cell_type": "code",
   "execution_count": 21,
   "metadata": {},
   "outputs": [
    {
     "data": {
      "text/plain": [
       "CUSTOMER_EDUCATION_LEVEL\n",
       "Bachelor       3991\n",
       "High School    2385\n",
       "Masters        1045\n",
       "College        1035\n",
       "MD              539\n",
       "PhD             476\n",
       "Name: count, dtype: int64"
      ]
     },
     "execution_count": 21,
     "metadata": {},
     "output_type": "execute_result"
    }
   ],
   "source": [
    "education_count = ins_claim_fraud[\"CUSTOMER_EDUCATION_LEVEL\"].value_counts()\n",
    "education_count"
   ]
  },
  {
   "cell_type": "code",
   "execution_count": 22,
   "metadata": {},
   "outputs": [
    {
     "data": {
      "text/plain": [
       "EMPLOYMENT_STATUS\n",
       "Y    9171\n",
       "N     829\n",
       "Name: count, dtype: int64"
      ]
     },
     "execution_count": 22,
     "metadata": {},
     "output_type": "execute_result"
    }
   ],
   "source": [
    "employment_count = ins_claim_fraud[\"EMPLOYMENT_STATUS\"].value_counts()\n",
    "employment_count"
   ]
  },
  {
   "cell_type": "code",
   "execution_count": 23,
   "metadata": {},
   "outputs": [
    {
     "data": {
      "text/plain": [
       "114"
      ]
     },
     "execution_count": 23,
     "metadata": {},
     "output_type": "execute_result"
    }
   ],
   "source": [
    "tenure_unique = len(ins_claim_fraud[\"TENURE\"].unique())\n",
    "tenure_unique"
   ]
  },
  {
   "cell_type": "code",
   "execution_count": 24,
   "metadata": {},
   "outputs": [
    {
     "data": {
      "text/plain": [
       "TENURE\n",
       "31     107\n",
       "80     105\n",
       "75     104\n",
       "108    103\n",
       "42     103\n",
       "      ... \n",
       "41      72\n",
       "6       71\n",
       "114     70\n",
       "70      70\n",
       "98      66\n",
       "Name: count, Length: 114, dtype: int64"
      ]
     },
     "execution_count": 24,
     "metadata": {},
     "output_type": "execute_result"
    }
   ],
   "source": [
    "tenure_count = ins_claim_fraud[\"TENURE\"].value_counts()\n",
    "tenure_count"
   ]
  },
  {
   "cell_type": "code",
   "execution_count": 25,
   "metadata": {},
   "outputs": [
    {
     "data": {
      "text/plain": [
       "SOCIAL_CLASS\n",
       "MI    4794\n",
       "LI    2727\n",
       "HI    2479\n",
       "Name: count, dtype: int64"
      ]
     },
     "execution_count": 25,
     "metadata": {},
     "output_type": "execute_result"
    }
   ],
   "source": [
    "social_class_count = ins_claim_fraud[\"SOCIAL_CLASS\"].value_counts()\n",
    "social_class_count"
   ]
  },
  {
   "cell_type": "code",
   "execution_count": 26,
   "metadata": {},
   "outputs": [
    {
     "data": {
      "text/plain": [
       "HOUSE_TYPE\n",
       "Mortgage    3652\n",
       "Rent        3385\n",
       "Own         2963\n",
       "Name: count, dtype: int64"
      ]
     },
     "execution_count": 26,
     "metadata": {},
     "output_type": "execute_result"
    }
   ],
   "source": [
    "house_type_count = ins_claim_fraud[\"HOUSE_TYPE\"].value_counts()\n",
    "house_type_count"
   ]
  },
  {
   "cell_type": "code",
   "execution_count": 27,
   "metadata": {},
   "outputs": [
    {
     "data": {
      "text/plain": [
       "6"
      ]
     },
     "execution_count": 27,
     "metadata": {},
     "output_type": "execute_result"
    }
   ],
   "source": [
    "family_size_unique = len(ins_claim_fraud[\"NO_OF_FAMILY_MEMBERS\"].unique())\n",
    "family_size_unique"
   ]
  },
  {
   "cell_type": "code",
   "execution_count": 28,
   "metadata": {},
   "outputs": [
    {
     "data": {
      "text/plain": [
       "NO_OF_FAMILY_MEMBERS\n",
       "2    1690\n",
       "3    1683\n",
       "7    1674\n",
       "4    1667\n",
       "5    1647\n",
       "6    1639\n",
       "Name: count, dtype: int64"
      ]
     },
     "execution_count": 28,
     "metadata": {},
     "output_type": "execute_result"
    }
   ],
   "source": [
    "family_size_count = ins_claim_fraud[\"NO_OF_FAMILY_MEMBERS\"].value_counts()\n",
    "family_size_count"
   ]
  },
  {
   "cell_type": "code",
   "execution_count": null,
   "metadata": {},
   "outputs": [],
   "source": []
  }
 ],
 "metadata": {
  "kernelspec": {
   "display_name": "dev",
   "language": "python",
   "name": "python3"
  },
  "language_info": {
   "codemirror_mode": {
    "name": "ipython",
    "version": 3
   },
   "file_extension": ".py",
   "mimetype": "text/x-python",
   "name": "python",
   "nbconvert_exporter": "python",
   "pygments_lexer": "ipython3",
   "version": "3.10.13"
  },
  "vscode": {
   "interpreter": {
    "hash": "3707ad23834f0b2d07ae21b0d863683e45c4ebd5d53cd9c3db9055856f8146de"
   }
  }
 },
 "nbformat": 4,
 "nbformat_minor": 2
}
